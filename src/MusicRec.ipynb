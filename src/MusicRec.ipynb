{
 "cells": [
  {
   "cell_type": "markdown",
   "metadata": {},
   "source": [
    "# MusicRec\n",
    "## This is a mini project to recommend songs/artists based on lyrics"
   ]
  },
  {
   "cell_type": "markdown",
   "metadata": {},
   "source": [
    "### Load required packages"
   ]
  },
  {
   "cell_type": "code",
   "execution_count": 1,
   "metadata": {},
   "outputs": [],
   "source": [
    "import sys\n",
    "import sklearn\n",
    "import tensorflow as tf\n",
    "from tensorflow import keras\n",
    "import numpy as np\n",
    "import pandas as pd\n",
    "import os\n",
    "np.random.seed(0)\n",
    "import matplotlib as mpl\n",
    "import matplotlib.pyplot as plt\n",
    "%matplotlib inline\n",
    "import pickle"
   ]
  },
  {
   "cell_type": "markdown",
   "metadata": {},
   "source": [
    "### Load data\n",
    "Using data from ['55,000+ Song Lyrics'](https://www.kaggle.com/mousehead/songlyrics) dataset on Kaggle"
   ]
  },
  {
   "cell_type": "code",
   "execution_count": 2,
   "metadata": {},
   "outputs": [],
   "source": [
    "songdata= pd.read_csv('../data/songdata.csv')"
   ]
  },
  {
   "cell_type": "code",
   "execution_count": 3,
   "metadata": {},
   "outputs": [
    {
     "data": {
      "text/html": [
       "<div>\n",
       "<style scoped>\n",
       "    .dataframe tbody tr th:only-of-type {\n",
       "        vertical-align: middle;\n",
       "    }\n",
       "\n",
       "    .dataframe tbody tr th {\n",
       "        vertical-align: top;\n",
       "    }\n",
       "\n",
       "    .dataframe thead th {\n",
       "        text-align: right;\n",
       "    }\n",
       "</style>\n",
       "<table border=\"1\" class=\"dataframe\">\n",
       "  <thead>\n",
       "    <tr style=\"text-align: right;\">\n",
       "      <th></th>\n",
       "      <th>artist</th>\n",
       "      <th>song</th>\n",
       "      <th>link</th>\n",
       "      <th>text</th>\n",
       "    </tr>\n",
       "  </thead>\n",
       "  <tbody>\n",
       "    <tr>\n",
       "      <th>0</th>\n",
       "      <td>ABBA</td>\n",
       "      <td>Ahe's My Kind Of Girl</td>\n",
       "      <td>/a/abba/ahes+my+kind+of+girl_20598417.html</td>\n",
       "      <td>Look at her face, it's a wonderful face  \\nAnd...</td>\n",
       "    </tr>\n",
       "    <tr>\n",
       "      <th>1</th>\n",
       "      <td>ABBA</td>\n",
       "      <td>Andante, Andante</td>\n",
       "      <td>/a/abba/andante+andante_20002708.html</td>\n",
       "      <td>Take it easy with me, please  \\nTouch me gentl...</td>\n",
       "    </tr>\n",
       "    <tr>\n",
       "      <th>2</th>\n",
       "      <td>ABBA</td>\n",
       "      <td>As Good As New</td>\n",
       "      <td>/a/abba/as+good+as+new_20003033.html</td>\n",
       "      <td>I'll never know why I had to go  \\nWhy I had t...</td>\n",
       "    </tr>\n",
       "    <tr>\n",
       "      <th>3</th>\n",
       "      <td>ABBA</td>\n",
       "      <td>Bang</td>\n",
       "      <td>/a/abba/bang_20598415.html</td>\n",
       "      <td>Making somebody happy is a question of give an...</td>\n",
       "    </tr>\n",
       "    <tr>\n",
       "      <th>4</th>\n",
       "      <td>ABBA</td>\n",
       "      <td>Bang-A-Boomerang</td>\n",
       "      <td>/a/abba/bang+a+boomerang_20002668.html</td>\n",
       "      <td>Making somebody happy is a question of give an...</td>\n",
       "    </tr>\n",
       "  </tbody>\n",
       "</table>\n",
       "</div>"
      ],
      "text/plain": [
       "  artist                   song                                        link  \\\n",
       "0   ABBA  Ahe's My Kind Of Girl  /a/abba/ahes+my+kind+of+girl_20598417.html   \n",
       "1   ABBA       Andante, Andante       /a/abba/andante+andante_20002708.html   \n",
       "2   ABBA         As Good As New        /a/abba/as+good+as+new_20003033.html   \n",
       "3   ABBA                   Bang                  /a/abba/bang_20598415.html   \n",
       "4   ABBA       Bang-A-Boomerang      /a/abba/bang+a+boomerang_20002668.html   \n",
       "\n",
       "                                                text  \n",
       "0  Look at her face, it's a wonderful face  \\nAnd...  \n",
       "1  Take it easy with me, please  \\nTouch me gentl...  \n",
       "2  I'll never know why I had to go  \\nWhy I had t...  \n",
       "3  Making somebody happy is a question of give an...  \n",
       "4  Making somebody happy is a question of give an...  "
      ]
     },
     "execution_count": 3,
     "metadata": {},
     "output_type": "execute_result"
    }
   ],
   "source": [
    "songdata.head()"
   ]
  },
  {
   "cell_type": "code",
   "execution_count": 4,
   "metadata": {},
   "outputs": [
    {
     "data": {
      "text/plain": [
       "57650"
      ]
     },
     "execution_count": 4,
     "metadata": {},
     "output_type": "execute_result"
    }
   ],
   "source": [
    "len(songdata)"
   ]
  },
  {
   "cell_type": "markdown",
   "metadata": {},
   "source": [
    "### First try using only ABBA songs"
   ]
  },
  {
   "cell_type": "code",
   "execution_count": 5,
   "metadata": {},
   "outputs": [],
   "source": [
    "minisongdata=songdata[songdata['artist']=='ABBA']"
   ]
  },
  {
   "cell_type": "code",
   "execution_count": 6,
   "metadata": {},
   "outputs": [
    {
     "data": {
      "text/plain": [
       "113"
      ]
     },
     "execution_count": 6,
     "metadata": {},
     "output_type": "execute_result"
    }
   ],
   "source": [
    "len(minisongdata)"
   ]
  },
  {
   "cell_type": "code",
   "execution_count": 7,
   "metadata": {},
   "outputs": [],
   "source": [
    "# Change this cache directory to something generic later\n",
    "TFHUB_CACHE_DIR = \"../data/my_tfhub_cache\"\n",
    "os.environ[\"TFHUB_CACHE_DIR\"] = TFHUB_CACHE_DIR"
   ]
  },
  {
   "cell_type": "code",
   "execution_count": 8,
   "metadata": {},
   "outputs": [],
   "source": [
    "# Using the NNLM (Neural Net Language Model) English 50 dimensional embedding trained on English Google News 7B Corpus\n",
    "# Can play around with different embeddings here\n",
    "import tensorflow_hub as hub\n",
    "embed = hub.load(\"https://tfhub.dev/google/tf2-preview/nnlm-en-dim50/1\")"
   ]
  },
  {
   "cell_type": "code",
   "execution_count": 9,
   "metadata": {},
   "outputs": [],
   "source": [
    "# Test embedding\n",
    "embeddings = embed([\"cat is on the mat\", \"dog is in the fog\"])"
   ]
  },
  {
   "cell_type": "code",
   "execution_count": 10,
   "metadata": {},
   "outputs": [
    {
     "data": {
      "text/plain": [
       "50"
      ]
     },
     "execution_count": 10,
     "metadata": {},
     "output_type": "execute_result"
    }
   ],
   "source": [
    "len(embeddings[1])"
   ]
  },
  {
   "cell_type": "code",
   "execution_count": 11,
   "metadata": {},
   "outputs": [],
   "source": [
    "lyricslist = list(minisongdata['text'])"
   ]
  },
  {
   "cell_type": "code",
   "execution_count": 12,
   "metadata": {},
   "outputs": [],
   "source": [
    "lyrics_embeddings = embed(lyricslist)"
   ]
  },
  {
   "cell_type": "code",
   "execution_count": 13,
   "metadata": {},
   "outputs": [
    {
     "data": {
      "text/plain": [
       "50"
      ]
     },
     "execution_count": 13,
     "metadata": {},
     "output_type": "execute_result"
    }
   ],
   "source": [
    "# Length of an embedding\n",
    "len(lyrics_embeddings[0])"
   ]
  },
  {
   "cell_type": "markdown",
   "metadata": {},
   "source": [
    "### Semantic search for songs"
   ]
  },
  {
   "cell_type": "code",
   "execution_count": 14,
   "metadata": {},
   "outputs": [
    {
     "name": "stdout",
     "output_type": "stream",
     "text": [
      "Semantic Search Results\n",
      "\n",
      "\n",
      "======================\n",
      "\n",
      "\n",
      "Query: Shes just my kind of girl, without her Im blue\n",
      "\n",
      "Top 10 most similar songs:\n",
      "Love Isn't Easy (Cosine Score: 0.6501)\n",
      "Lay All Your Love On Me (Cosine Score: 0.6498)\n",
      "My Love, My Life (Cosine Score: 0.6480)\n",
      "Crazy World (Cosine Score: 0.6360)\n",
      "Gonna Sing You My Lovesong (Cosine Score: 0.6319)\n",
      "Me And Bobby And Bobby's Brother (Cosine Score: 0.6262)\n",
      "Rubber Ball Man (Cosine Score: 0.6235)\n",
      "Tiger (Cosine Score: 0.6209)\n",
      "So Long (Cosine Score: 0.6190)\n",
      "Ahe's My Kind Of Girl (Cosine Score: 0.6132)\n"
     ]
    }
   ],
   "source": [
    "# Not that great. Possibly due to large mismatch between length of input query and actual lyrics\n",
    "import scipy\n",
    "query = 'Shes just my kind of girl, without her Im blue'\n",
    "\n",
    "queries = [query]\n",
    "query_embeddings = embed(queries)\n",
    "\n",
    "number_top_matches = 10\n",
    "\n",
    "print(\"Semantic Search Results\")\n",
    "\n",
    "for query, query_embedding in zip(queries, query_embeddings):\n",
    "    distances = scipy.spatial.distance.cdist([query_embedding], lyrics_embeddings, \"cosine\")[0]\n",
    "\n",
    "    results = zip(range(len(distances)), distances)\n",
    "    results = sorted(results, key=lambda x: x[1])\n",
    "\n",
    "    print(\"\\n\\n======================\\n\\n\")\n",
    "    print(\"Query:\", query)\n",
    "    print(f\"\\nTop {number_top_matches} most similar songs:\")\n",
    "\n",
    "    for idx, distance in results[0:number_top_matches]:\n",
    "        print(minisongdata.iloc[idx]['song'].strip(), \"(Cosine Score: %.4f)\" % (1-distance))"
   ]
  },
  {
   "cell_type": "code",
   "execution_count": 15,
   "metadata": {},
   "outputs": [
    {
     "data": {
      "text/plain": [
       "\"Ahe's My Kind Of Girl\""
      ]
     },
     "execution_count": 15,
     "metadata": {},
     "output_type": "execute_result"
    }
   ],
   "source": [
    "minisongdata.iloc[0]['song']"
   ]
  },
  {
   "cell_type": "code",
   "execution_count": 16,
   "metadata": {},
   "outputs": [
    {
     "data": {
      "text/plain": [
       "\"Look at her face, it's a wonderful face  \\nAnd it means something special to me  \\nLook at the way that she smiles when she sees me  \\nHow lucky can one fellow be?  \\n  \\nShe's just my kind of girl, she makes me feel fine  \\nWho could ever believe that she could be mine?  \\nShe's just my kind of girl, without her I'm blue  \\nAnd if she ever leaves me what could I do, what could I do?  \\n  \\nAnd when we go for a walk in the park  \\nAnd she holds me and squeezes my hand  \\nWe'll go on walking for hours and talking  \\nAbout all the things that we plan  \\n  \\nShe's just my kind of girl, she makes me feel fine  \\nWho could ever believe that she could be mine?  \\nShe's just my kind of girl, without her I'm blue  \\nAnd if she ever leaves me what could I do, what could I do?\\n\\n\""
      ]
     },
     "execution_count": 16,
     "metadata": {},
     "output_type": "execute_result"
    }
   ],
   "source": [
    "minisongdata.iloc[0]['text']"
   ]
  },
  {
   "cell_type": "markdown",
   "metadata": {},
   "source": [
    "### Now let's try using all songs"
   ]
  },
  {
   "cell_type": "code",
   "execution_count": 17,
   "metadata": {},
   "outputs": [],
   "source": [
    "lyricslist = list(songdata['text'])"
   ]
  },
  {
   "cell_type": "code",
   "execution_count": 18,
   "metadata": {},
   "outputs": [],
   "source": [
    "lyrics_embeddings = embed(lyricslist)"
   ]
  },
  {
   "cell_type": "code",
   "execution_count": 21,
   "metadata": {},
   "outputs": [],
   "source": [
    "# Save the embeddings\n",
    "pickle.dump(lyrics_embeddings, open('../models/lyrics_embeddings.pkl', 'wb'))"
   ]
  },
  {
   "cell_type": "code",
   "execution_count": 22,
   "metadata": {},
   "outputs": [
    {
     "name": "stdout",
     "output_type": "stream",
     "text": [
      "Semantic Search Results\n",
      "\n",
      "\n",
      "======================\n",
      "\n",
      "\n",
      "Query: Shes just my kind of girl, without her Im blue\n",
      "\n",
      "Top 10 most similar songs:\n",
      "Since I Lost My Baby by The Temptations (Cosine Score: 0.7654)\n",
      "My Baby's Good To Me by Fleetwood Mac (Cosine Score: 0.7501)\n",
      "Pride And Joy by Stevie Ray Vaughan (Cosine Score: 0.7432)\n",
      "Prince Of Peace by Amy Grant (Cosine Score: 0.7427)\n",
      "Sugar Sweet by Freddie King (Cosine Score: 0.7213)\n",
      "Out Of Time by Ramones (Cosine Score: 0.7211)\n",
      "My Baby by Neil Sedaka (Cosine Score: 0.7189)\n",
      "Make Up by Lou Reed (Cosine Score: 0.7185)\n",
      "My Little Shitzu by Ramones (Cosine Score: 0.7174)\n",
      "Two Of A Kind, Workin' On A Full House by Garth Brooks (Cosine Score: 0.7174)\n"
     ]
    }
   ],
   "source": [
    "query = 'Shes just my kind of girl, without her Im blue'\n",
    "\n",
    "queries = [query]\n",
    "query_embeddings = embed(queries)\n",
    "\n",
    "number_top_matches = 10\n",
    "\n",
    "print(\"Semantic Search Results\")\n",
    "\n",
    "for query, query_embedding in zip(queries, query_embeddings):\n",
    "    distances = scipy.spatial.distance.cdist([query_embedding], lyrics_embeddings, \"cosine\")[0]\n",
    "\n",
    "    results = zip(range(len(distances)), distances)\n",
    "    results = sorted(results, key=lambda x: x[1])\n",
    "\n",
    "    print(\"\\n\\n======================\\n\\n\")\n",
    "    print(\"Query:\", query)\n",
    "    print(f\"\\nTop {number_top_matches} most similar songs:\")\n",
    "\n",
    "    for idx, distance in results[0:number_top_matches]:\n",
    "        print(songdata.iloc[idx]['song'].strip(),'by', songdata.iloc[idx]['artist'].strip(), \"(Cosine Score: %.4f)\" % (1-distance))"
   ]
  },
  {
   "cell_type": "markdown",
   "metadata": {},
   "source": [
    "## Song recommendations"
   ]
  },
  {
   "cell_type": "markdown",
   "metadata": {},
   "source": [
    "### But first, some helper blocks to search for songs/artists for testing"
   ]
  },
  {
   "cell_type": "code",
   "execution_count": 23,
   "metadata": {},
   "outputs": [
    {
     "data": {
      "text/html": [
       "<div>\n",
       "<style scoped>\n",
       "    .dataframe tbody tr th:only-of-type {\n",
       "        vertical-align: middle;\n",
       "    }\n",
       "\n",
       "    .dataframe tbody tr th {\n",
       "        vertical-align: top;\n",
       "    }\n",
       "\n",
       "    .dataframe thead th {\n",
       "        text-align: right;\n",
       "    }\n",
       "</style>\n",
       "<table border=\"1\" class=\"dataframe\">\n",
       "  <thead>\n",
       "    <tr style=\"text-align: right;\">\n",
       "      <th></th>\n",
       "      <th>artist</th>\n",
       "      <th>song</th>\n",
       "      <th>link</th>\n",
       "      <th>text</th>\n",
       "    </tr>\n",
       "  </thead>\n",
       "  <tbody>\n",
       "    <tr>\n",
       "      <th>12787</th>\n",
       "      <td>Metallica</td>\n",
       "      <td>2X4</td>\n",
       "      <td>/m/metallica/2x4_20092062.html</td>\n",
       "      <td>I'm gonna make you, shake you, take you  \\nI'm...</td>\n",
       "    </tr>\n",
       "    <tr>\n",
       "      <th>12788</th>\n",
       "      <td>Metallica</td>\n",
       "      <td>All Nightmare Long</td>\n",
       "      <td>/m/metallica/all+nightmare+long_20756984.html</td>\n",
       "      <td>(One, two...)  \\n  \\nLuck runs out  \\n  \\nCraw...</td>\n",
       "    </tr>\n",
       "    <tr>\n",
       "      <th>12789</th>\n",
       "      <td>Metallica</td>\n",
       "      <td>All Within My Hands</td>\n",
       "      <td>/m/metallica/all+within+my+hands_10178918.html</td>\n",
       "      <td>All within my hands  \\nSqueeze it in, crush it...</td>\n",
       "    </tr>\n",
       "    <tr>\n",
       "      <th>12790</th>\n",
       "      <td>Metallica</td>\n",
       "      <td>Battery</td>\n",
       "      <td>/m/metallica/battery_20092039.html</td>\n",
       "      <td>Lashing out the action, returning the reaction...</td>\n",
       "    </tr>\n",
       "    <tr>\n",
       "      <th>12791</th>\n",
       "      <td>Metallica</td>\n",
       "      <td>Brandenburg Gate</td>\n",
       "      <td>/m/metallica/brandenburg+gate_20982888.html</td>\n",
       "      <td>I would cut my legs and tits off  \\nWhen I thi...</td>\n",
       "    </tr>\n",
       "    <tr>\n",
       "      <th>...</th>\n",
       "      <td>...</td>\n",
       "      <td>...</td>\n",
       "      <td>...</td>\n",
       "      <td>...</td>\n",
       "    </tr>\n",
       "    <tr>\n",
       "      <th>43561</th>\n",
       "      <td>Metallica</td>\n",
       "      <td>Spit Out The Bone</td>\n",
       "      <td>/m/metallica/spit+out+the+bone_21111998.html</td>\n",
       "      <td>Come unto me and you will feel perfection  \\nC...</td>\n",
       "    </tr>\n",
       "    <tr>\n",
       "      <th>43562</th>\n",
       "      <td>Metallica</td>\n",
       "      <td>Stone Dead Forever</td>\n",
       "      <td>/m/metallica/stone+dead+forever_20092019.html</td>\n",
       "      <td>And didn't you see me in the glass  \\nAnd didn...</td>\n",
       "    </tr>\n",
       "    <tr>\n",
       "      <th>43563</th>\n",
       "      <td>Metallica</td>\n",
       "      <td>Wherever I May Roam</td>\n",
       "      <td>/m/metallica/wherever+i+may+roam_20092060.html</td>\n",
       "      <td>And the road becomes my bride  \\nI have stripp...</td>\n",
       "    </tr>\n",
       "    <tr>\n",
       "      <th>43564</th>\n",
       "      <td>Metallica</td>\n",
       "      <td>Whiplash</td>\n",
       "      <td>/m/metallica/whiplash_20092037.html</td>\n",
       "      <td>Jason, you're too fucking metal man  \\nToo met...</td>\n",
       "    </tr>\n",
       "    <tr>\n",
       "      <th>43565</th>\n",
       "      <td>Metallica</td>\n",
       "      <td>Whiskey In The Jar</td>\n",
       "      <td>/m/metallica/whiskey+in+the+jar_10178775.html</td>\n",
       "      <td>As I was goin' over  \\nThe Cork and Kerry Moun...</td>\n",
       "    </tr>\n",
       "  </tbody>\n",
       "</table>\n",
       "<p>155 rows × 4 columns</p>\n",
       "</div>"
      ],
      "text/plain": [
       "          artist                 song  \\\n",
       "12787  Metallica                  2X4   \n",
       "12788  Metallica   All Nightmare Long   \n",
       "12789  Metallica  All Within My Hands   \n",
       "12790  Metallica              Battery   \n",
       "12791  Metallica     Brandenburg Gate   \n",
       "...          ...                  ...   \n",
       "43561  Metallica    Spit Out The Bone   \n",
       "43562  Metallica   Stone Dead Forever   \n",
       "43563  Metallica  Wherever I May Roam   \n",
       "43564  Metallica             Whiplash   \n",
       "43565  Metallica   Whiskey In The Jar   \n",
       "\n",
       "                                                 link  \\\n",
       "12787                  /m/metallica/2x4_20092062.html   \n",
       "12788   /m/metallica/all+nightmare+long_20756984.html   \n",
       "12789  /m/metallica/all+within+my+hands_10178918.html   \n",
       "12790              /m/metallica/battery_20092039.html   \n",
       "12791     /m/metallica/brandenburg+gate_20982888.html   \n",
       "...                                               ...   \n",
       "43561    /m/metallica/spit+out+the+bone_21111998.html   \n",
       "43562   /m/metallica/stone+dead+forever_20092019.html   \n",
       "43563  /m/metallica/wherever+i+may+roam_20092060.html   \n",
       "43564             /m/metallica/whiplash_20092037.html   \n",
       "43565   /m/metallica/whiskey+in+the+jar_10178775.html   \n",
       "\n",
       "                                                    text  \n",
       "12787  I'm gonna make you, shake you, take you  \\nI'm...  \n",
       "12788  (One, two...)  \\n  \\nLuck runs out  \\n  \\nCraw...  \n",
       "12789  All within my hands  \\nSqueeze it in, crush it...  \n",
       "12790  Lashing out the action, returning the reaction...  \n",
       "12791  I would cut my legs and tits off  \\nWhen I thi...  \n",
       "...                                                  ...  \n",
       "43561  Come unto me and you will feel perfection  \\nC...  \n",
       "43562  And didn't you see me in the glass  \\nAnd didn...  \n",
       "43563  And the road becomes my bride  \\nI have stripp...  \n",
       "43564  Jason, you're too fucking metal man  \\nToo met...  \n",
       "43565  As I was goin' over  \\nThe Cork and Kerry Moun...  \n",
       "\n",
       "[155 rows x 4 columns]"
      ]
     },
     "execution_count": 23,
     "metadata": {},
     "output_type": "execute_result"
    }
   ],
   "source": [
    "# Search for all songs by an artist\n",
    "songdata[songdata['artist'].str.contains('metallica', case=False)]"
   ]
  },
  {
   "cell_type": "code",
   "execution_count": 24,
   "metadata": {},
   "outputs": [
    {
     "data": {
      "text/html": [
       "<div>\n",
       "<style scoped>\n",
       "    .dataframe tbody tr th:only-of-type {\n",
       "        vertical-align: middle;\n",
       "    }\n",
       "\n",
       "    .dataframe tbody tr th {\n",
       "        vertical-align: top;\n",
       "    }\n",
       "\n",
       "    .dataframe thead th {\n",
       "        text-align: right;\n",
       "    }\n",
       "</style>\n",
       "<table border=\"1\" class=\"dataframe\">\n",
       "  <thead>\n",
       "    <tr style=\"text-align: right;\">\n",
       "      <th></th>\n",
       "      <th>artist</th>\n",
       "      <th>song</th>\n",
       "      <th>link</th>\n",
       "      <th>text</th>\n",
       "    </tr>\n",
       "  </thead>\n",
       "  <tbody>\n",
       "    <tr>\n",
       "      <th>707</th>\n",
       "      <td>Amy Grant</td>\n",
       "      <td>Beautiful Music</td>\n",
       "      <td>/a/amy+grant/beautiful+music_20007617.html</td>\n",
       "      <td>Once my life had no direction, I was lost as c...</td>\n",
       "    </tr>\n",
       "    <tr>\n",
       "      <th>1036</th>\n",
       "      <td>Barbra Streisand</td>\n",
       "      <td>America, The Beautiful</td>\n",
       "      <td>/b/barbra+streisand/america+the+beautiful_1002...</td>\n",
       "      <td>O beautiful for spacious skies,  \\nFor amber w...</td>\n",
       "    </tr>\n",
       "    <tr>\n",
       "      <th>1082</th>\n",
       "      <td>Barbra Streisand</td>\n",
       "      <td>His Love Makes Me Beautiful</td>\n",
       "      <td>/b/barbra+streisand/his+love+makes+me+beautifu...</td>\n",
       "      <td>Fanny is now part of the Ziegfeld Follies. She...</td>\n",
       "    </tr>\n",
       "    <tr>\n",
       "      <th>1234</th>\n",
       "      <td>Beautiful South</td>\n",
       "      <td>Big Beautiful South</td>\n",
       "      <td>/b/beautiful+south/big+beautiful+south_2059228...</td>\n",
       "      <td>My pod is bigger than your pod  \\nMy life is b...</td>\n",
       "    </tr>\n",
       "    <tr>\n",
       "      <th>1468</th>\n",
       "      <td>Bing Crosby</td>\n",
       "      <td>Oh What A Beautiful Mornin</td>\n",
       "      <td>/b/bing+crosby/oh+what+a+beautiful+mornin_2052...</td>\n",
       "      <td>There's a bright golden haze on the meadow,  \\...</td>\n",
       "    </tr>\n",
       "    <tr>\n",
       "      <th>...</th>\n",
       "      <td>...</td>\n",
       "      <td>...</td>\n",
       "      <td>...</td>\n",
       "      <td>...</td>\n",
       "    </tr>\n",
       "    <tr>\n",
       "      <th>55630</th>\n",
       "      <td>Waterboys</td>\n",
       "      <td>She Is So Beautiful</td>\n",
       "      <td>/w/waterboys/she+is+so+beautiful_20145462.html</td>\n",
       "      <td>She is so beautiful  \\nI've got no words to de...</td>\n",
       "    </tr>\n",
       "    <tr>\n",
       "      <th>55963</th>\n",
       "      <td>Westlife</td>\n",
       "      <td>Beautiful In White</td>\n",
       "      <td>/w/westlife/beautiful+in+white_21106550.html</td>\n",
       "      <td>Not sure if you know this  \\nBut when we first...</td>\n",
       "    </tr>\n",
       "    <tr>\n",
       "      <th>56522</th>\n",
       "      <td>Willie Nelson</td>\n",
       "      <td>America The Beautiful</td>\n",
       "      <td>/w/willie+nelson/america+the+beautiful_2080765...</td>\n",
       "      <td>O beautiful for spacious skies  \\nFor amber wa...</td>\n",
       "    </tr>\n",
       "    <tr>\n",
       "      <th>56562</th>\n",
       "      <td>Willie Nelson</td>\n",
       "      <td>Everything's Beautiful (In It's Own Way)</td>\n",
       "      <td>/w/willie+nelson/everythings+beautiful+in+its+...</td>\n",
       "      <td>When I look out over a green field of clover  ...</td>\n",
       "    </tr>\n",
       "    <tr>\n",
       "      <th>57367</th>\n",
       "      <td>Yoko Ono</td>\n",
       "      <td>Beautiful Boys</td>\n",
       "      <td>/y/yoko+ono/beautiful+boys_20148540.html</td>\n",
       "      <td>You're a beautiful boy  \\nWith all your little...</td>\n",
       "    </tr>\n",
       "  </tbody>\n",
       "</table>\n",
       "<p>176 rows × 4 columns</p>\n",
       "</div>"
      ],
      "text/plain": [
       "                 artist                                      song  \\\n",
       "707           Amy Grant                           Beautiful Music   \n",
       "1036   Barbra Streisand                    America, The Beautiful   \n",
       "1082   Barbra Streisand               His Love Makes Me Beautiful   \n",
       "1234    Beautiful South                       Big Beautiful South   \n",
       "1468        Bing Crosby                Oh What A Beautiful Mornin   \n",
       "...                 ...                                       ...   \n",
       "55630         Waterboys                       She Is So Beautiful   \n",
       "55963          Westlife                        Beautiful In White   \n",
       "56522     Willie Nelson                     America The Beautiful   \n",
       "56562     Willie Nelson  Everything's Beautiful (In It's Own Way)   \n",
       "57367          Yoko Ono                            Beautiful Boys   \n",
       "\n",
       "                                                    link  \\\n",
       "707           /a/amy+grant/beautiful+music_20007617.html   \n",
       "1036   /b/barbra+streisand/america+the+beautiful_1002...   \n",
       "1082   /b/barbra+streisand/his+love+makes+me+beautifu...   \n",
       "1234   /b/beautiful+south/big+beautiful+south_2059228...   \n",
       "1468   /b/bing+crosby/oh+what+a+beautiful+mornin_2052...   \n",
       "...                                                  ...   \n",
       "55630     /w/waterboys/she+is+so+beautiful_20145462.html   \n",
       "55963       /w/westlife/beautiful+in+white_21106550.html   \n",
       "56522  /w/willie+nelson/america+the+beautiful_2080765...   \n",
       "56562  /w/willie+nelson/everythings+beautiful+in+its+...   \n",
       "57367           /y/yoko+ono/beautiful+boys_20148540.html   \n",
       "\n",
       "                                                    text  \n",
       "707    Once my life had no direction, I was lost as c...  \n",
       "1036   O beautiful for spacious skies,  \\nFor amber w...  \n",
       "1082   Fanny is now part of the Ziegfeld Follies. She...  \n",
       "1234   My pod is bigger than your pod  \\nMy life is b...  \n",
       "1468   There's a bright golden haze on the meadow,  \\...  \n",
       "...                                                  ...  \n",
       "55630  She is so beautiful  \\nI've got no words to de...  \n",
       "55963  Not sure if you know this  \\nBut when we first...  \n",
       "56522  O beautiful for spacious skies  \\nFor amber wa...  \n",
       "56562  When I look out over a green field of clover  ...  \n",
       "57367  You're a beautiful boy  \\nWith all your little...  \n",
       "\n",
       "[176 rows x 4 columns]"
      ]
     },
     "execution_count": 24,
     "metadata": {},
     "output_type": "execute_result"
    }
   ],
   "source": [
    "# Search for all songs by song name\n",
    "songdata[songdata['song'].str.contains('Beautiful', case=False)]"
   ]
  },
  {
   "cell_type": "code",
   "execution_count": 25,
   "metadata": {},
   "outputs": [
    {
     "data": {
      "text/html": [
       "<div>\n",
       "<style scoped>\n",
       "    .dataframe tbody tr th:only-of-type {\n",
       "        vertical-align: middle;\n",
       "    }\n",
       "\n",
       "    .dataframe tbody tr th {\n",
       "        vertical-align: top;\n",
       "    }\n",
       "\n",
       "    .dataframe thead th {\n",
       "        text-align: right;\n",
       "    }\n",
       "</style>\n",
       "<table border=\"1\" class=\"dataframe\">\n",
       "  <thead>\n",
       "    <tr style=\"text-align: right;\">\n",
       "      <th></th>\n",
       "      <th>artist</th>\n",
       "      <th>song</th>\n",
       "      <th>link</th>\n",
       "      <th>text</th>\n",
       "    </tr>\n",
       "  </thead>\n",
       "  <tbody>\n",
       "    <tr>\n",
       "      <th>1036</th>\n",
       "      <td>Barbra Streisand</td>\n",
       "      <td>America, The Beautiful</td>\n",
       "      <td>/b/barbra+streisand/america+the+beautiful_1002...</td>\n",
       "      <td>O beautiful for spacious skies,  \\nFor amber w...</td>\n",
       "    </tr>\n",
       "    <tr>\n",
       "      <th>1082</th>\n",
       "      <td>Barbra Streisand</td>\n",
       "      <td>His Love Makes Me Beautiful</td>\n",
       "      <td>/b/barbra+streisand/his+love+makes+me+beautifu...</td>\n",
       "      <td>Fanny is now part of the Ziegfeld Follies. She...</td>\n",
       "    </tr>\n",
       "    <tr>\n",
       "      <th>24570</th>\n",
       "      <td>Barbra Streisand</td>\n",
       "      <td>Beautiful</td>\n",
       "      <td>/b/barbra+streisand/beautiful_20012564.html</td>\n",
       "      <td>You've gotta get up every morning  \\nPut a smi...</td>\n",
       "    </tr>\n",
       "  </tbody>\n",
       "</table>\n",
       "</div>"
      ],
      "text/plain": [
       "                 artist                         song  \\\n",
       "1036   Barbra Streisand       America, The Beautiful   \n",
       "1082   Barbra Streisand  His Love Makes Me Beautiful   \n",
       "24570  Barbra Streisand                    Beautiful   \n",
       "\n",
       "                                                    link  \\\n",
       "1036   /b/barbra+streisand/america+the+beautiful_1002...   \n",
       "1082   /b/barbra+streisand/his+love+makes+me+beautifu...   \n",
       "24570        /b/barbra+streisand/beautiful_20012564.html   \n",
       "\n",
       "                                                    text  \n",
       "1036   O beautiful for spacious skies,  \\nFor amber w...  \n",
       "1082   Fanny is now part of the Ziegfeld Follies. She...  \n",
       "24570  You've gotta get up every morning  \\nPut a smi...  "
      ]
     },
     "execution_count": 25,
     "metadata": {},
     "output_type": "execute_result"
    }
   ],
   "source": [
    "# Search for song and artist combination\n",
    "songdata[songdata['song'].str.contains('beautiful', case=False) & songdata['artist'].str.contains('streisand', case=False)]"
   ]
  },
  {
   "cell_type": "markdown",
   "metadata": {},
   "source": [
    "### Song recommendations based on lyrics"
   ]
  },
  {
   "cell_type": "code",
   "execution_count": 26,
   "metadata": {},
   "outputs": [
    {
     "name": "stdout",
     "output_type": "stream",
     "text": [
      "Song recommendations\n",
      "\n",
      "\n",
      "======================\n",
      "\n",
      "\n",
      "Query: [Verse 1]  \n",
      "Don't need permission  \n",
      "Made my decision to test my limits  \n",
      "Cause it's my business, God as my witness  \n",
      "Start what I finished  \n",
      "Don't need no hold up  \n",
      "Taking control of this kind of moment  \n",
      "I'm locked and loaded  \n",
      "Completely focused, my mind is open  \n",
      "  \n",
      "[Pre-Chorus]  \n",
      "All that you got, skin to skin, oh my God  \n",
      "Don't ya stop, boy  \n",
      "  \n",
      "[Chorus]  \n",
      "Somethin' 'bout you makes me feel like a dangerous woman  \n",
      "Somethin' 'bout, somethin' 'bout, somethin' 'bout you  \n",
      "Makes me wanna do things that I shouldn't  \n",
      "Somethin' 'bout, somethin' 'bout, somethin' 'bout  \n",
      "  \n",
      "[Verse 2]  \n",
      "Nothing to prove and I'm bulletproof and  \n",
      "Know what I'm doing  \n",
      "The way we're movin' like introducing  \n",
      "Us to a new thing  \n",
      "I wanna savor, save it for later  \n",
      "To taste the flavor, cause I'm a taker  \n",
      "Cause I'm a giver, it's only nature  \n",
      "I live for danger  \n",
      "  \n",
      "[Pre-Chorus]  \n",
      "All that you got, skin to skin, oh my God  \n",
      "Don't ya stop, boy  \n",
      "  \n",
      "[Chorus]  \n",
      "Somethin' 'bout you makes me feel like a dangerous woman  \n",
      "Somethin' 'bout, somethin' 'bout, somethin' 'bout you  \n",
      "Makes me wanna do things that I shouldn't  \n",
      "Somethin' 'bout, somethin' 'bout, somethin' 'bout you  \n",
      "  \n",
      "[Refrain]  \n",
      "All girls wanna be like that  \n",
      "Bad girls underneath, like that  \n",
      "You know how I'm feeling insideSomethin' 'bout, somethin' 'bout  \n",
      "All girls wanna be like that  \n",
      "Bad girls underneath, like that  \n",
      "You know how I'm feeling inside  \n",
      "Somethin' 'bout, somethin' 'bout  \n",
      "  \n",
      "[Instrumental Bridge]  \n",
      "  \n",
      "[Chorus]  \n",
      "Somethin' 'bout you makes me feel like a dangerous woman  \n",
      "Somethin' 'bout, somethin' 'bout, somethin' 'bout you  \n",
      "Makes me wanna do things that I shouldn't  \n",
      "Somethin' 'bout, somethin' 'bout, somethin' 'bout you  \n",
      "[Refrain]  \n",
      "All girls wanna be like that  \n",
      "Bad girls underneath like that  \n",
      "You know how I'm feeling inside  \n",
      "Somethin' 'bout, somethin' 'bout  \n",
      "All girls wanna be like that  \n",
      "Bad girls underneath like that  \n",
      "You know how I'm feeling inside  \n",
      "Somethin' 'bout, somethin' 'bout  \n",
      "  \n",
      "[Outro]  \n",
      "Yeah, there's somethin' 'bout you boy  \n",
      "Yeah, there's somethin' 'bout you boyYeah, there's somethin' 'bout you boy  \n",
      "Yeah, there's somethin' 'bout you boy  \n",
      "(Somethin' 'bout, somethin' 'bout, somethin' 'bout you)  \n",
      "Yeah, there's somethin' 'bout you boy  \n",
      "Yeah, there's somethin' 'bout you boy  \n",
      "Yeah, there's somethin' 'bout you boy  \n",
      "Yeah, there's somethin' 'bout you boy  \n",
      "(Somethin' 'bout, somethin' 'bout, somethin' 'bout you)\n",
      "\n",
      "\n",
      "\n",
      "Top 10 most similar songs:\n",
      "Beautiful by Snoop Dogg (Similarity Score: 0.9255)\n",
      "Girl by Prince (Similarity Score: 0.9211)\n",
      "I Can't Deny It by Rod Stewart (Similarity Score: 0.9189)\n",
      "Trapped by Young Jeezy (Similarity Score: 0.9187)\n",
      "Monstar by Usher (Similarity Score: 0.9186)\n",
      "Waiting by Young Jeezy (Similarity Score: 0.9166)\n",
      "Glenwood by Kanye West (Similarity Score: 0.9156)\n",
      "Happy Together by Frank Zappa (Similarity Score: 0.9155)\n",
      "One Boy Girl by Kylie Minogue (Similarity Score: 0.9149)\n",
      "Ready by Fabolous (Similarity Score: 0.9140)\n"
     ]
    }
   ],
   "source": [
    "# Choosing a song based on the index number\n",
    "pos=24213\n",
    "\n",
    "query = songdata.iloc[pos]['text']\n",
    "\n",
    "queries = [query]\n",
    "query_embeddings = embed(queries)\n",
    "\n",
    "number_top_matches = 10\n",
    "\n",
    "print(\"Song recommendations\")\n",
    "\n",
    "for query, query_embedding in zip(queries, query_embeddings):\n",
    "    distances = scipy.spatial.distance.cdist([query_embedding], lyrics_embeddings, \"cosine\")[0]\n",
    "\n",
    "    results = zip(range(len(distances)), distances)\n",
    "    results = sorted(results, key=lambda x: x[1])\n",
    "\n",
    "    print(\"\\n\\n======================\\n\\n\")\n",
    "    print(\"Query:\", query)\n",
    "    print(f\"\\nTop {number_top_matches} most similar songs:\")\n",
    "\n",
    "    for idx, distance in results[1:number_top_matches+1]:\n",
    "        print(songdata.iloc[idx]['song'].strip(),'by', songdata.iloc[idx]['artist'].strip(), \"(Similarity Score: %.4f)\" % (1-distance))"
   ]
  },
  {
   "cell_type": "code",
   "execution_count": 27,
   "metadata": {},
   "outputs": [
    {
     "data": {
      "text/plain": [
       "\"Girl  \\nYou excite me so  \\nOoh wee baby, your body's like no other  \\n  \\nGirl  \\nIt's you I gotta know (Gotta know)  \\nOoh wee baby, I bet you're quite a lover  \\n  \\nGirl (Ooh girl)  \\nI want to take you home  \\nOoh wee baby you dream I scream inside you  \\n  \\nI want you in the worst way  \\nYou make me  \\n  \\nGirl  \\nGirl  \\n  \\nGirl  \\nWon't you kiss me?  \\nOoh wee baby, my lips they want you so  \\n  \\nGirl  \\nHow can you resist me? (How can you resist me?)  \\nThe smell of animal lust is a-all over me  \\n(The smell of animal lust is a-all over me)  \\n  \\nOh, girl  \\nIf I could hold your hand  \\nI'd make you touch my body until you understand  \\n  \\nI'm your man (I'm your man)  \\nAll night, all day (All night, all day)  \\nI want you in the worst way  \\nYou make me (You make me)  \\n  \\nCaress the flower  \\nWarm, warm  \\nBring it to the garden  \\nThe garden  \\nBe poetic  \\nTell me what it feels like,  \\nA sea of electricity?  \\nNow that's wonderful  \\nTalk to you? Talk to you?  \\nWhat do you want to hear?  \\nIf I was anything else I'd be the water in your bath, darling  \\n  \\n(Girl) Girl  \\nYou excite me so  \\nOoh wee baby, my flesh is on fire (Ooh wee baby, my flesh is on fire)  \\n  \\n(Girl) Girl  \\nThe way you play with it  \\nOoh wee baby, I think you desire me (Ooh wee baby, I think you desire me)  \\n  \\nGirl  \\nMake a wish, baby (Make a wish, baby)  \\nAnything (Anything)  \\nWe'll make it come true (Come true, come true)  \\nMe and you (Me and you)  \\nI want you in the worst way  \\nYou make me...  \\n  \\nOoh, girl  \\n(Girl)  \\n(Girl)  \\nYou like the dreamy ice cream  \\n  \\nGirl, your lips are so wet (Girl)  \\nFeel my hands, they're all sweaty (Girl)  \\n  \\nI don't know, I, I guess you frighten me  \\nCause I've never wanted anyone like this before  \\nTo feel this way it's like, I don't know, it's like a sin  \\nCause sometimes I feel bad  \\nSometimes I want you so much I can--  \\nGod. All I have to do is think about you and I can have an orgasm  \\nThat sounds funny, doesn't it? Ha-ha  \\nMarry me  \\nYeah that's right, marry me  \\nGirl  \\nDon't you ever get lonely sometimes? (Girl)  \\nGir-girl, don't you ever,  \\nDon't you ever want someone,  \\nDon't you ever want someone just to,  \\nDon't you ever want someone just to talk to?  \\nWell you can talk to me, baby  \\nI'm, I'm a good listener  \\nYou know what?  \\nYou know what else?  \\nYou know what else I am?  \\nYou know what else I am, I am?  \\nI'm a good kisser too.  \\nCome here. Closer.  \\nCome here, closer.  \\nCloser.  \\nCome here. come here.  \\nYour ass is so tight.  \\nShh, come here baby. come here.  \\nThat's it. Right there.  \\n  \\nDarlin' I, I'll never\\n\\n\""
      ]
     },
     "execution_count": 27,
     "metadata": {},
     "output_type": "execute_result"
    }
   ],
   "source": [
    "songdata[songdata['song'].str.contains('girl', case=False) & songdata['artist'].str.contains('prince', case=False)].iloc[0]['text']"
   ]
  },
  {
   "cell_type": "markdown",
   "metadata": {},
   "source": [
    "## Artist Recommendations"
   ]
  },
  {
   "cell_type": "markdown",
   "metadata": {},
   "source": [
    "### Recommend similar artists based on lyrics"
   ]
  },
  {
   "cell_type": "code",
   "execution_count": 28,
   "metadata": {},
   "outputs": [
    {
     "data": {
      "text/html": [
       "<div>\n",
       "<style scoped>\n",
       "    .dataframe tbody tr th:only-of-type {\n",
       "        vertical-align: middle;\n",
       "    }\n",
       "\n",
       "    .dataframe tbody tr th {\n",
       "        vertical-align: top;\n",
       "    }\n",
       "\n",
       "    .dataframe thead th {\n",
       "        text-align: right;\n",
       "    }\n",
       "</style>\n",
       "<table border=\"1\" class=\"dataframe\">\n",
       "  <thead>\n",
       "    <tr style=\"text-align: right;\">\n",
       "      <th></th>\n",
       "      <th>text</th>\n",
       "    </tr>\n",
       "    <tr>\n",
       "      <th>artist</th>\n",
       "      <th></th>\n",
       "    </tr>\n",
       "  </thead>\n",
       "  <tbody>\n",
       "    <tr>\n",
       "      <th>'n Sync</th>\n",
       "      <td>Girl don't say that it's over  \\n'Cause you ar...</td>\n",
       "    </tr>\n",
       "    <tr>\n",
       "      <th>ABBA</th>\n",
       "      <td>Look at her face, it's a wonderful face  \\nAnd...</td>\n",
       "    </tr>\n",
       "    <tr>\n",
       "      <th>Ace Of Base</th>\n",
       "      <td>Always have, always will  \\nI was mesmerized w...</td>\n",
       "    </tr>\n",
       "    <tr>\n",
       "      <th>Adam Sandler</th>\n",
       "      <td>Hello mudda, hello fadda  \\nHere I am at camp ...</td>\n",
       "    </tr>\n",
       "    <tr>\n",
       "      <th>Adele</th>\n",
       "      <td>[Verse 1]  \\nI will leave my heart at the door...</td>\n",
       "    </tr>\n",
       "    <tr>\n",
       "      <th>...</th>\n",
       "      <td>...</td>\n",
       "    </tr>\n",
       "    <tr>\n",
       "      <th>Zoegirl</th>\n",
       "      <td>I've been thinking lately about you  \\nWhen it...</td>\n",
       "    </tr>\n",
       "    <tr>\n",
       "      <th>Zornik</th>\n",
       "      <td>Is a dream a lie, when you know it won't come ...</td>\n",
       "    </tr>\n",
       "    <tr>\n",
       "      <th>Zox</th>\n",
       "      <td>If I could write you a song  \\nWith all the ri...</td>\n",
       "    </tr>\n",
       "    <tr>\n",
       "      <th>Zucchero</th>\n",
       "      <td>I tell ya brother, man shit happens  \\nBy the ...</td>\n",
       "    </tr>\n",
       "    <tr>\n",
       "      <th>Zwan</th>\n",
       "      <td>Baby Let's Rock!  \\n  \\nbaby, i'm the greatest...</td>\n",
       "    </tr>\n",
       "  </tbody>\n",
       "</table>\n",
       "<p>643 rows × 1 columns</p>\n",
       "</div>"
      ],
      "text/plain": [
       "                                                           text\n",
       "artist                                                         \n",
       "'n Sync       Girl don't say that it's over  \\n'Cause you ar...\n",
       "ABBA          Look at her face, it's a wonderful face  \\nAnd...\n",
       "Ace Of Base   Always have, always will  \\nI was mesmerized w...\n",
       "Adam Sandler  Hello mudda, hello fadda  \\nHere I am at camp ...\n",
       "Adele         [Verse 1]  \\nI will leave my heart at the door...\n",
       "...                                                         ...\n",
       "Zoegirl       I've been thinking lately about you  \\nWhen it...\n",
       "Zornik        Is a dream a lie, when you know it won't come ...\n",
       "Zox           If I could write you a song  \\nWith all the ri...\n",
       "Zucchero      I tell ya brother, man shit happens  \\nBy the ...\n",
       "Zwan          Baby Let's Rock!  \\n  \\nbaby, i'm the greatest...\n",
       "\n",
       "[643 rows x 1 columns]"
      ]
     },
     "execution_count": 28,
     "metadata": {},
     "output_type": "execute_result"
    }
   ],
   "source": [
    "# Join all the lyrics for artists together\n",
    "songdata.groupby('artist').agg({'text': ' '.join})"
   ]
  },
  {
   "cell_type": "code",
   "execution_count": 29,
   "metadata": {},
   "outputs": [],
   "source": [
    "artistdata = songdata.groupby('artist').agg({'text': ' '.join})"
   ]
  },
  {
   "cell_type": "code",
   "execution_count": 30,
   "metadata": {},
   "outputs": [
    {
     "data": {
      "text/plain": [
       "'Look at her face, it\\'s a wonderful face  \\nAnd it means something special to me  \\nLook at the way that she smiles when she sees me  \\nHow lucky can one fellow be?  \\n  \\nShe\\'s just my kind of girl, she makes me feel fine  \\nWho could ever believe that she could be mine?  \\nShe\\'s just my kind of girl, without her I\\'m blue  \\nAnd if she ever leaves me what could I do, what could I do?  \\n  \\nAnd when we go for a walk in the park  \\nAnd she holds me and squeezes my hand  \\nWe\\'ll go on walking for hours and talking  \\nAbout all the things that we plan  \\n  \\nShe\\'s just my kind of girl, she makes me feel fine  \\nWho could ever believe that she could be mine?  \\nShe\\'s just my kind of girl, without her I\\'m blue  \\nAnd if she ever leaves me what could I do, what could I do?\\n\\n Take it easy with me, please  \\nTouch me gently like a summer evening breeze  \\nTake your time, make it slow  \\nAndante, Andante  \\nJust let the feeling grow  \\n  \\nMake your fingers soft and light  \\nLet your body be the velvet of the night  \\nTouch my soul, you know how  \\nAndante, Andante  \\nGo slowly with me now  \\n  \\nI\\'m your music  \\n(I am your music and I am your song)  \\nI\\'m your song  \\n(I am your music and I am your song)  \\nPlay me time and time again and make me strong  \\n(Play me again \\'cause you\\'re making me strong)  \\nMake me sing, make me sound  \\n(You make me sing and you make me)  \\nAndante, Andante  \\nTread lightly on my ground  \\nAndante, Andante  \\nOh please don\\'t let me down  \\n  \\nThere\\'s a shimmer in your eyes  \\nLike the feeling of a thousand butterflies  \\nPlease don\\'t talk, go on, play  \\nAndante, Andante  \\nAnd let me float away  \\n  \\nI\\'m your music  \\n(I am your music and I am your song)  \\nI\\'m your song  \\n(I am your music and I am your song)  \\nPlay me time and time again and make me strong  \\n(Play me again \\'cause you\\'re making me strong)  \\nMake me sing, make me sound  \\n(You make me sing and you make me)  \\nAndante, Andante  \\nTread lightly on my ground  \\nAndante, Andante  \\nOh please don\\'t let me down  \\n  \\nMake me sing, make me sound  \\n(You make me sing and you make me)  \\nAndante, Andante  \\nTread lightly on my ground  \\nAndante, Andante  \\nOh please don\\'t let me down  \\nAndante, Andante  \\nOh please don\\'t let me down\\n\\n I\\'ll never know why I had to go  \\nWhy I had to put up such a lousy rotten show  \\nBoy, I was tough, packing all my stuff  \\nSaying I don\\'t need you anymore, I\\'ve had enough  \\nAnd now, look at me standing here again \\'cause I found out that  \\nMa ma ma ma ma ma ma ma ma ma ma ma ma ma ma ma my life is here  \\nGotta have you near  \\n  \\nAs good as new, my love for you  \\nAnd keeping it that way is my intention  \\nAs good as new and growing too  \\nYes, I think it\\'s taking on a new dimension  \\nIt\\'s as good as new, my love for you  \\nJust like it used to be and even better  \\nAs good as new, thank God it\\'s true  \\nDarling, we were always meant to stay together  \\n  \\nFeel like a creep, never felt so cheap  \\nNever had a notion that my love could be so deep  \\nHow could I make such a dumb mistake  \\nNow I know I\\'m not entitled to another break  \\nBut please, baby, I beg you to forgive \\'cause I found out that  \\nMa ma ma ma ma ma ma ma ma ma ma ma ma ma ma ma my life is here  \\nGotta get you near  \\n  \\nI thought that our love was at an end but here I am again  \\n  \\nAs good as new, my love for you  \\nAnd keeping it that way is my intention  \\nAs good as new and growing too  \\nYes, I think it\\'s taking on a new dimension  \\nIt\\'s as good as new, my love for you  \\nJust like it used to be and even better  \\nAs good as new, thank God it\\'s true  \\nDarling, we were always meant to stay together  \\n  \\nYes the love I have for you feels as good as new  \\nDarling, we were always meant to stay together\\n\\n Making somebody happy is a question of give and take  \\nYou can learn how to show it so come on, give yourself a break  \\nEvery smile and every little touch  \\nDon\\'t you know that they mean so much  \\nSweet sweet kisses so tender  \\nAlways will return to sender  \\n  \\nLike a bang, a boom-a-boomerang  \\nDum-be-dum-dum be-dum-be-dum-dum  \\nOh bang, a boom-a-boomerang  \\nLove is a tune you hum-de-hum-hum  \\nSo give it away, I think you\\'ll learn  \\nYou\\'ll get love in return  \\nSo bang, a boom-a-boomerang is love  \\nA boom-a-boomerang is love  \\n  \\nLove is always around and you can look for it anywhere  \\nWhen you feel that you\\'ve found it my advice is to take good care  \\nNever use it as a selfish tool  \\nNever ever be such a fool  \\nEvery feeling you\\'re showing  \\nIs a boomerang you\\'re throwing  \\n  \\nYes a bang, a boom-a-boomerang  \\nDum-be-dum-dum be-dum-be-dum-dum  \\nOh bang, a boom-a-boomerang  \\nLove is a tune you hum-de-hum-hum  \\nSo give it away, I think you\\'ll learn  \\nYou\\'ll get love in return  \\nSo bang, a boom-a-boomerang is love  \\n  \\nAnd if you\\'re warm and tender  \\nI\\'ll kiss you, return to sender  \\nPlease surrender  \\n  \\nBang, a boom-a-boomerang  \\nDum-be-dum-dum be-dum-be-dum-dum  \\nOh bang, a boom-a-boomerang is love  \\nA boom-a-boomerang is love\\n\\n Making somebody happy is a question of give and take  \\nYou can learn how to show it so come on, give yourself a break  \\nEvery smile and every little touch  \\nDon\\'t you know that they mean so much  \\nSweet sweet kisses so tender  \\nAlways will return to sender  \\n  \\nLike a bang, a boom-a-boomerang  \\nDumb-be-dumb-dumb be-dumb-be-dumb-dumb  \\nOh bang, a boom-a-boomerang  \\nLove is a tune you hum-de-hum-hum  \\nBy giving away, I think you\\'ll learn  \\nYou\\'ll get love in return  \\nSo bang, a boom-a-boomerang is love  \\nA boom-a-boomerang is love  \\n  \\nLove is always around and you can look for it anywhere  \\nWhen you feel that you\\'ve found it my advice is to take good care  \\nNever use it as a selfish tool  \\nNever ever be such a fool  \\nEvery feeling you\\'re showing  \\nIs a boomerang you\\'re throwing  \\n  \\nYes a bang, a boom-a-boomerang  \\nDumb-be-dumb-dumb be-dumb-be-dumb-dumb  \\nOh bang, a boom-a-boomerang  \\nLove is a tune you hum-de-hum-hum  \\nBy giving away, I think you\\'ll learn  \\nYou\\'ll get love in return  \\nSo bang, a boom-a-boomerang is love  \\n  \\nAnd if you\\'re warm and tender  \\nI\\'ll kiss you, return to sender  \\nPlease surrender  \\n  \\nBang, a boom-a-boomerang  \\nDumb-be-dumb-dumb be-dumb-be-dumb-dumb  \\nOh bang, a boom-a-boomerang is love  \\nA boom-a-boomerang is love\\n\\n Well, you hoot and you holler and you make me mad  \\nAnd I\\'ve always been under your heel  \\nHoly christ what a lousy deal  \\nNow I\\'m sick and tired of your tedious ways  \\nAnd I ain\\'t gonna take it no more  \\nOh no no - walkin\\' out that door  \\n  \\nBurning my bridges, cutting my tie  \\nOnce again I wanna look into the eye  \\nBeing myself  \\nCounting my pride  \\nNo un-right neighbour\\'s gonna take me for a ride  \\nBurning my bridges  \\nMoving at last  \\nGirl I\\'m leaving and I\\'m burying the past  \\nGonna have peace now  \\nYou can be free  \\nNo one here will make a sucker out of me\\n\\n Down in the street they\\'re all singing and shouting  \\nStaying alive though the city is dead  \\nHiding their shame behind hollow laughter  \\nWhile you are crying alone on your bed  \\n  \\nPity Cassandra that no one believed you  \\nBut then again you were lost from the start  \\nNow we must suffer and sell our secrets  \\nBargain, playing smart, aching in our hearts  \\n  \\nSorry Cassandra I misunderstood  \\nNow the last day is dawning  \\nSome of us wanted but none of us would  \\nListen to words of warning  \\nBut on the darkest of nights  \\nNobody knew how to fight  \\nAnd we were caught in our sleep  \\nSorry Cassandra I didn\\'t believe  \\nYou really had the power  \\nI only saw it as dreams you would weave  \\nUntil the final hour  \\n  \\nSo in the morning your ship will be sailing  \\nNow that your father and sister are gone  \\nThere is no reason for you to linger  \\nYou\\'re grieving deeply but still moving on  \\n  \\nYou know the future is casting a shadow  \\nNo one else sees it but you know your fate  \\nPacking your bags, being slow and thorough  \\nKnowing, though you\\'re late, that ship is sure to wait  \\n  \\nSorry Cassandra I misunderstood  \\nNow the last day is dawning  \\nSome of us wanted but none of us would  \\nListen to words of warning  \\nBut on the darkest of nights  \\nNobody knew how to fight  \\nAnd we were caught in our sleep  \\nSorry Cassandra I didn\\'t believe  \\nYou really had the power  \\nI only saw it as dreams you would weave  \\nUntil the final hour  \\n  \\nI watched the ship leaving harbor at sunrise  \\nSails almost slack in the cool morning rain  \\nShe stood on deck, just a tiny figure  \\nRigid and restrained, blue eyes filled with pain  \\n  \\nSorry Cassandra I misunderstood  \\nNow the last day is dawning  \\nSome of us wanted but none of us would  \\nListen to words of warning  \\nBut on the darkest of nights  \\nNobody knew how to fight  \\nAnd we were caught in our sleep  \\nSorry Cassandra I didn\\'t believe  \\nYou really had the power  \\nI only saw it as dreams you would weave  \\nUntil the final hour  \\n  \\nI\\'m sorry Cassandra  \\nI\\'m sorry Cassandra\\n\\n Chiquitita, tell me what\\'s wrong  \\nYou\\'re enchained by your own sorrow  \\nIn your eyes there is no hope for tomorrow  \\nHow I hate to see you like this  \\nThere is no way you can deny it  \\nI can see that you\\'re oh so sad, so quiet  \\n  \\nChiquitita, tell me the truth  \\nI\\'m a shoulder you can cry on  \\nYour best friend, I\\'m the one you must rely on  \\nYou were always sure of yourself  \\nNow I see you\\'ve broken a feather  \\nI hope we can patch it up together  \\n  \\nChiquitita, you and I know  \\nHow the heartaches come and they go and the scars they\\'re leaving  \\nYou\\'ll be dancing once again and the pain will end  \\nYou will have no time for grieving  \\nChiquitita, you and I cry  \\nBut the sun is still in the sky and shining above you  \\nLet me hear you sing once more like you did before  \\nSing a new song, Chiquitita  \\nTry once more like you did before  \\nSing a new song, Chiquitita  \\n  \\nSo the walls came tumbling down  \\nAnd your love\\'s a blown out candle  \\nAll is gone and it seems too hard to handle  \\nChiquitita, tell me the truth  \\nThere is no way you can deny it  \\nI see that you\\'re oh so sad, so quiet  \\n  \\nChiquitita, you and I know  \\nHow the heartaches come and they go and the scars they\\'re leaving  \\nYou\\'ll be dancing once again and the pain will end  \\nYou will have no time for grieving  \\nChiquitita, you and I cry  \\nBut the sun is still in the sky and shining above you  \\nLet me hear you sing once more like you did before  \\nSing a new song, Chiquitita  \\nTry once more like you did before  \\nSing a new song, Chiquitita  \\nTry once more like you did before  \\nSing a new song, Chiquitita\\n\\n I was out with the morning sun  \\nCouldn\\'t sleep, so I thought I\\'d take a walk  \\nI was thinking of you and me  \\nAnd I went to your house, \\'cause I had to talk  \\n  \\nI could hardly believe my eyes  \\nWhen I saw this guy closing your front door  \\nHad the feeling of emptiness like I never had before  \\nAnd I closed my eyes, will you leave me girl  \\n  \\nThen I realized, it\\'s a crazy world  \\nAs he disapeared in his car  \\nI was stunned and I didn\\'t know what to do  \\nEverything I had ever dreamed  \\n  \\nEverything in my life\\'s part of you  \\nAnd I just couldn\\'t move my feet  \\nSo I stood on the pavement as you came out  \\nYou acted as you didn\\'t know what it was all about  \\n  \\nAnd I closed my eyes, will you leave me girl  \\nThen I realized, it\\'s a crazy world  \\nBaby, how could you do it  \\nYou just told me lies  \\n  \\nAnd you meet behind my back  \\nWith other guys  \\nBaby, how could you tell me  \\nThere was only me  \\n  \\nI was stupid to believe you  \\nI was blind but now I see  \\nThen you smiled and you took my hand  \\n\"There is something\", you said, \"that you may not know  \\n  \\nThere\\'s a couple of men in my life  \\nAnd one of them is my brother Joe  \\nHe\\'s been gone for a long, long time  \\nBut he\\'s back and I think he\\'s gonna stay  \\n  \\nYou\\'ll be seeing a lot of him, he\\'s so nice in every way\"  \\nThen I closed my eyes, never leave me girl  \\nThen I realized, it\\'s a crazy world  \\nSo I closed my eyes, never leave me girl  \\n  \\nThen I realized, it\\'s a crazy world  \\nSo I closed my eyes, never leave me girl  \\nThen I realized, it\\'s a crazy world\\n\\n I\\'m waitin\\' for you baby  \\nI\\'m sitting all alone  \\nI feel so cold without you  \\nIt chills me to the bone  \\nI never thought you\\'d leave me  \\nBut now I know it\\'s true  \\nOh Lord I\\'m blue  \\nI\\'m cryin\\' over you  \\nI\\'m waitin\\' for you baby  \\nI\\'m sittin\\' all alone  \\nI feel so cold without you  \\nIt chills me to the bone  \\nI never thought you\\'d leave me  \\nBut now I know it\\'s true  \\nOh Lord I\\'m blue  \\nI\\'m cryin\\' over you  \\n  \\nCryin\\' over you  \\nI\\'m cryin\\' over you  \\nCryin\\' over  \\nLittle memories of things we used to do  \\nOh Lord I\\'m blue  \\nI\\'m cryin\\' over you  \\nOh Lord I\\'m blue  \\nI\\'m cryin\\' over you  \\nOh Lord I\\'m blue  \\nI\\'m cryin\\' over you\\n\\n Oh, my love it makes me sad.  \\nWhy did things turn out so bad?  \\nWas it just a dream, everything we did, everything we had?  \\n  \\nBaby, give me one more  \\nDance while the music still goes on  \\nDon\\'t think about tomorrow  \\nDance and forget our time is gone  \\nTonight\\'s a night we borrow.  \\nLet\\'s make it a memory, a night of our own  \\nA thing to remember when we\\'re all alone  \\nSo dance, it\\'s our way to say goodbye  \\n  \\nYes, all we have to do is  \\nDance while the music still goes on  \\nThis is no time for crying  \\nDance, don\\'t you hear them play our song  \\nGod knows that we\\'ve been trying  \\nBut we didn\\'t make it \\'cause nothing\\'s the same  \\nWe just couldn\\'t help it, nobody\\'s to blame  \\nSo dance while the music still goes on  \\nAnd let it be our last goodbye  \\n  \\nYet it seems to make me sad.  \\nWhy did things turn out so bad?  \\nWas is just a dream, everything we did, everything we had?  \\n  \\nBaby, give me one last  \\nDance while the music still goes on  \\nJust like the night I met you  \\nDance and believe me, when you\\'re gone  \\nYou know I won\\'t forget you  \\nOur love was a snowbird, it\\'s flying away  \\nYou tell me it\\'s over, what more can I say?  \\nSo dance while the music still goes on  \\nIt\\'s gonna be our last goodbye  \\n  \\nDance while the music still goes on  \\nDon\\'t think about tomorrow  \\nDance and forget our time is gone  \\nTonight\\'s a night we borrow.  \\nLet\\'s make it a memory, a night of our own  \\nA thing to remember when we\\'re all alone  \\nSo dance while the music still goes on  \\nAnd let it be our last goodbye  \\n  \\nDance while the music still goes on  \\nThis is no time for crying  \\nDance, don\\'t you hear them play our song  \\nGod knows that we\\'ve been trying  \\nDance while the music still goes on  \\nJust like the night I met you  \\nDance and believe me, when you\\'re gone  \\nYou know I won\\'t forget you  \\n  \\n(fade)\\n\\n You can dance, you can jive, having the time of your life  \\nSee that girl, watch that scene, diggin\\' the Dancing Queen  \\n  \\nFriday night and the lights are low  \\nLooking out for the place to go  \\nWhere they play the right music, getting in the swing  \\nYou come in to look for a king  \\nAnybody could be that guy  \\nNight is young and the music\\'s high  \\nWith a bit of rock music, everything is fine  \\nYou\\'re in the mood for a dance  \\nAnd when you get the chance  \\n  \\nYou are the Dancing Queen, young and sweet, only seventeen  \\nDancing Queen, feel the beat from the tambourine  \\nYou can dance, you can jive, having the time of your life  \\nSee that girl, watch that scene, diggin\\' the Dancing Queen  \\n  \\nYou\\'re a teaser, you turn \\'em on  \\nLeave them burning and then you\\'re gone  \\nLooking out for another, anyone will do  \\nYou\\'re in the mood for a dance  \\nAnd when you get the chance  \\n  \\nYou are the Dancing Queen, young and sweet, only seventeen  \\nDancing Queen, feel the beat from the tambourine  \\nYou can dance, you can jive, having the time of your life  \\nSee that girl, watch that scene, diggin\\' the Dancing Queen\\n\\n Changing, moving in a circle  \\nI can see your face in all of my dreams  \\nSmiling, laughing from the shadows  \\nWhen I hear your voice, I know what it means  \\nI know it doesn\\'t matter just how hard I try  \\nYou\\'re all the reason for my life  \\n  \\nDisillusion, disillusion\\'s all you left for me  \\nHow can I forget you when my world is breaking down  \\nYou\\'re all I had, you\\'re all I want  \\nDisillusion, disillusions, now that\\'s all I have  \\n  \\nWishing, hoping, chasing shadows  \\nDid I see your face somewhere in the crowd  \\nThinking, wondering what you\\'re doing  \\nI can\\'t stop myself from crying out loud  \\nThey say my wound will heal and only leave a scar  \\nBut then, they never shared our love  \\n  \\nDisillusion, disillusion\\'s all you left for me  \\nHow can I forget you when my world is breaking down  \\nYou\\'re all I had, you\\'re all I want  \\nDisillusion, disillusions, now that\\'s all I have  \\n  \\nDisillusion, disillusions, now that\\'s all I have\\n\\n You\\'re so hot, teasing me  \\nSo you\\'re blue but I can\\'t take a chance on a chick like you  \\nThat\\'s something I couldn\\'t do  \\nThere\\'s that look in your eyes  \\nI can read in your face that your feelings are driving you wild  \\nAh, but girl you\\'re only a child  \\n  \\nWell I can dance with you honey  \\nIf you think it\\'s funny  \\nDoes your mother know that you\\'re out?  \\nAnd I can chat with you baby  \\nFlirt a little maybe  \\nDoes your mother know that you\\'re out?  \\n  \\nTake it easy (take it easy)  \\nBetter slow down girl  \\nThat\\'s no way to go  \\nDoes your mother know?  \\n  \\nTake it easy (take it easy)  \\nTry to cool it girl  \\nTake it nice and slow  \\nDoes your mother know?  \\n  \\nI can see what you want  \\nBut you seem pretty young to be searching for that kind of fun  \\nSo maybe I\\'m not the one  \\nNow you\\'re so cute, I like your style  \\nAnd I know what you mean when you give me a flash of that smile (smile)  \\nBut girl you\\'re only a child  \\n  \\nWell I can dance with you honey  \\nIf you think it\\'s funny  \\nDoes your mother know that you\\'re out?  \\nAnd I can chat with you baby  \\nFlirt a little maybe  \\nDoes your mother know that you\\'re out?  \\n  \\nTake it easy (take it easy)  \\nBetter slow down girl  \\nThat\\'s no way to go  \\nDoes your mother know?  \\n  \\nTake it easy (take it easy)  \\nTry to cool it girl  \\nTake it nice and slow  \\nDoes your mother know?  \\n  \\nWell I can dance with you honey  \\nIf you think it\\'s funny  \\nDoes your mother know that you\\'re out?  \\nAnd I can chat with you baby  \\n  \\nFlirt a little maybe  \\nDoes your mother know that you\\'re out?\\n\\n Agnetha We\\'re not the stars of a Hollywood movie  \\nSo what\\'s the use to pretend  \\nI\\'m not so charming and you\\'re not so groovy  \\nYou\\'ve got to face it my friend  \\n  \\nAgnetha, Frida Dreamworld, you\\'ve been living in a dreamworld  \\nTrust me, you just can\\'t escape from reality  \\nBoy meets girl, doesn\\'t mean they\\'re in a dreamworld  \\nHere I am, here you are,  \\n  \\nWe\\'re gonna make it together  \\nAnd within, it\\'s a fuss  \\nSo we can only get better  \\nAgnetha When you reach up and you say to me  \\n  \\nHow I love you, girl  \\nWhen I hold you, baby, can\\'t you see  \\nThat\\'s the way we whirl  \\nYou had your hopes and your high expectations  \\n  \\nSomehow it doesn\\'t seem right  \\nI\\'m getting fed-up with your acquisitions  \\nI\\'m not your angel in white  \\nAgnetha, Frida Dreamworld, you\\'ve been living in a dreamworld  \\n  \\nTrust me, you just can\\'t escape from reality  \\nBoy meets girl, doesn\\'t mean they\\'re in a dreamworld  \\nHere I am, here you are,  \\nWe\\'re gonna make it together  \\n  \\nAnd within, it\\'s a fuss  \\nSo we can only get better  \\nAgnetha When you reach up and you say to me  \\nHow I love you, girl  \\n  \\nWhen I hold you, baby, can\\'t you see  \\nThat\\'s the way we whirl  \\nAgnetha, Frida Dreamworld, you\\'ve been living in a dreamworld  \\nTrust me, you just can\\'t escape from reality  \\n  \\nBoy meets girl, doesn\\'t mean they\\'re in a dreamworld  \\nHere I am, here you are,  \\nWe\\'re gonna make it together  \\nAnd within, it\\'s a fuss  \\n  \\nSo we can only get better\\n\\n I can hear how you work, practising hard  \\nPlaying night and day, wo-oh  \\nAnd it sounds better now, yes you improve  \\nEverytime you play, wo-oh  \\nBut it\\'s bad  \\nYou\\'re so sad  \\nAnd you\\'re only smiling  \\nWhen you play your violin  \\n  \\nDumb dumb diddle, to be your fiddle  \\nTo be so near you and not just hear you  \\nDumb dumb diddle, to be your fiddle  \\nI think then maybe you\\'d see me, baby  \\nYou\\'d be mine  \\nAnd we\\'d be together all the time  \\nWish I was dumb dumb diddle, your darling fiddle  \\n  \\nBut I think, you don\\'t know that I exist  \\nI\\'m the quiet kind, wo-oh  \\nFrom the day when I first listened to you  \\nYou\\'ve been on my mind, wo-oh  \\nYou don\\'t care  \\nIt\\'s not fair  \\nAnd you\\'re only smiling  \\nWhen you play your violin  \\n  \\nDumb dumb diddle, to be your fiddle  \\nTo be so near you and not just hear you  \\nDumb dumb diddle, to be your fiddle  \\nI think then maybe you\\'d see me, baby  \\nYou\\'d be mine  \\nAnd we\\'d be together all the time  \\n  \\nDumb dumb diddle, to be your fiddle  \\nTo be so near you and not just hear you  \\nDumb dumb diddle, to be your fiddle  \\nI think then maybe you\\'d see me, baby  \\nYou\\'d be mine  \\nAnd we\\'d be together all the time  \\nWish I was dumb dumb diddle, your darling find\\n\\n They came flying from far away, now I\\'m under their spell  \\nI love hearing the stories that they tell  \\nThey\\'ve seen places beyond my land and they\\'ve found new horizons  \\nThey speak strangely but I understand  \\n  \\nAnd I dream I\\'m an eagle  \\nAnd I dream I can spread my wings  \\nFlying high, high, I\\'m a bird in the sky  \\nI\\'m an eagle that rides on the breeze  \\nHigh, high, what a feeling to fly  \\nOver mountains and forests and seas  \\nAnd to go anywhere that I please  \\n  \\nAs all good friends we talk all night, and we fly wing to wing  \\nI have questions and they know everything  \\nThere\\'s no limit to what I feel, we climb higher and higher  \\nAm I dreaming or is it all real?  \\n  \\nIs it true I\\'m an eagle?  \\nIs it true I can spread my wings?  \\nFlying high, high, I\\'m a bird in the sky (I\\'m an eagle)  \\nI\\'m an eagle that rides on the breeze  \\nHigh, high, what a feeling to fly (What a feeling)  \\nOver mountains and forests and seas  \\nAnd to go anywhere that I please\\n\\n Every good man needs a helping hand  \\nso I travel alone if I can  \\nEvery man has a guiding star  \\nand he knows what he\\'s gonna get  \\nwhen he\\'s going too far  \\n  \\nLiving on the dark side once again  \\nIt\\'s sad to lose a friend  \\nLooking at things with empty feelings  \\nStill we\\'re going on  \\n  \\nFor Every good man needs a helping hand  \\nI should have known too  \\nSome of us learn too late, I\\'m sorry  \\nEvery good man needs a helping hand  \\nIt\\'s true  \\n  \\nEvery good man needs a helping hand  \\nso I travel alone if I can  \\nEvery man has a guiding star  \\nand he knows  \\nwhat he\\'s gonna get  \\nwhen he\\'s going too far  \\n  \\nLiving on the dark side once again  \\nIt\\'s sad to lose a friend  \\nLooking at things with empty feelings  \\nStill we\\'re going on  \\n  \\nFor Every good man needs a helping hand  \\nI should have known too  \\nSome of us learn too late, I\\'m sorry  \\nEvery good man needs a helping hand  \\nIt\\'s true\\n\\n Can you hear the drums Fernando?  \\nI remember long ago another starry night like this  \\nIn the firelight Fernando  \\nYou were humming to yourself and softly strumming your guitar  \\nI could hear the distant drums  \\nAnd sounds of bugle calls were coming from afar  \\n  \\nThey were closer now Fernando  \\nEvery hour every minute seemed to last eternally  \\nI was so afraid Fernando  \\nWe were young and full of life and none of us prepared to die  \\nAnd I\\'m not ashamed to say  \\nThe roar of guns and cannons almost made me cry  \\n  \\nThere was something in the air that night  \\nThe stars were bright, Fernando  \\nThey were shining there for you and me  \\nFor liberty, Fernando  \\nThough I never thought that we could lose  \\nThere\\'s no regret  \\nIf I had to do the same again  \\nI would, my friend, Fernando  \\nIf I had to do the same again  \\nI would, my friend, Fernando  \\n  \\nNow we\\'re old and grey Fernando  \\nAnd since many years I haven\\'t seen a rifle in your hand  \\nCan you hear the drums Fernando?  \\nDo you still recall the frightful night we crossed the Rio Grande?  \\nI can see it in your eyes  \\nHow proud you were to fight for freedom in this land  \\n  \\n(Repeat x2)  \\nThere was something in the air that night  \\nThe stars were bright, Fernando  \\nThey were shining there for you and me  \\nFor liberty, Fernando  \\nThough I never thought that we could lose  \\nThere\\'s no regret  \\nIf I had to do the same again  \\nI would, my friend, Fernando  \\n  \\nYes, if I had to do the same again  \\nI would, my friend, Fernando...\\n\\n Puedes escuchar Fernando?  \\nMe recuerda tiempo atras  \\nEstrellas y una noche alla  \\nEn la lumbre azul Fernando  \\nTarareabas tu cancion  \\nCon ese suave guitarrear  \\nYo podia escuchar  \\nEsos tambores con un sordo redoblar  \\n  \\nSe acercaban mas fernando  \\nY el momento que pasaba  \\nParecia eternidad  \\nY senti temor Fernando  \\nPor la vida y juventud  \\nNadie pensaba en morir  \\nY no siento hoy verguenza al  \\nConfesar que tuve  \\nGanas de llorar  \\n  \\nAlgo habia alrededor quiza  \\nDe claridad Fernando  \\nQue brillaba por nosotros dos  \\nEn proteccion Fernando  \\nNo pensabamos jamas perder  \\nNi echar atras  \\nSi tuviera que volverlo a hacer  \\nLo haria ya Fernando  \\nSi tuviera que volverlo a hacer  \\nLo haria ya Fernando  \\n  \\nLa vejez llego Fernando  \\nY con ella una paz  \\nQue hoy logramos disfrutar  \\nSe durmio el tambor Fernando  \\nParaciera que fue ayer  \\nQue lo vivimos tu y yo  \\nY en tus ojos veo aun  \\nAquel orgullo que refleja tu valor.  \\n  \\nAlgo habia alrededor quiza  \\nDe claridad Fernando  \\nQue brillaba por nosotros dos  \\nEn proteccion Fernando  \\nNo pensabamos jamas perder  \\nNi echar atras  \\nSi tuviera que volverlo a hacer  \\nLo haria ya Fernando  \\nSi tuviera que volverlo a hacer  \\nLo haria ya Fernando  \\n  \\nAlgo habia alrededor quiza  \\nDe claridad Fernando  \\nQue brillaba por nosotros dos  \\nEn proteccion Fernando  \\nNo pensabamos jamas perder  \\nNi echar atras  \\nSi tuviera que volverlo a hacer  \\nLo haria ya Fernando  \\nSi tuviera que volverlo a hacer  \\nLo haria ya Fernando  \\n  \\nSi tuviera que volverlo a hacer  \\nLo haria ya Fernando  \\n  \\n[Repeata y \"fade\"]\\n\\n I\\'m down and I feel depressed  \\nSitting here just waiting  \\nFor next bus travelling  \\nDowntown  \\nIt\\'s a crying shame  \\nIsn\\'t it  \\nThe beautiful weather  \\nIf I could have my way  \\nWell, I would not be working  \\nOn a day like this I know what I\\'d like to be  \\nAs free as a bumble bee  \\nTake a sip from  \\nEvery flower  \\nFree as a bumble bee  \\nWhile away each lazy hour  \\nWhat a good life  \\nLying laid back  \\nLike an old railroad bum by the track  \\nWhat a good life  \\nLiving outdoors  \\nLie in the grass and chew on a straw\\n\\n Twinkle, Twinkle little star  \\nHow I wonder what you are  \\nLike a diamond glitt\\'ring in the sky  \\nSeems to me you shine your light  \\nDown to me to say goodnight  \\nTwinkle, Twinkle my old friend  \\nSleep is waiting round the bend  \\nWhile you travel through the milky way  \\nFrom afar  \\nTwinkle, Twinkle, Twinkle little star.  \\n  \\nRaindrops on a window pane  \\nStillness of a summer rain  \\nSilently the haze drifts through the trees  \\nSlowly dawn is breaking through  \\nYet a morning without you  \\n  \\nCurtins rustling in the breeze  \\nI\\'m still trapped within my dreams  \\nDaylight makes it\\'s way into my mind  \\nComing through  \\nYet another morning without you.  \\n  \\nFinally when darkness falls  \\nCasting shadows on the walls  \\nIn the twilight hour I am alone  \\nSitting near the fireplace  \\nDying embers warm my face  \\nIn this peaceful solitude  \\nAll the outside world subdued  \\nEverything comes backs to me again  \\nIn the gloom  \\nLike an angel passing through my room  \\n  \\nMmm, Mmm, Mmm- echoes of a voice I knew  \\n  \\nHalf awake in half in dreams  \\nSeeing long forgotten scenes  \\nSo the present runs into the past  \\nNow and then become entwined  \\nPlaying games within my mind  \\nLike the embers as they die  \\nLove was one prolonged goodbye  \\nAnd it all comes back to me tonight  \\nIn the gloom  \\nLike an angel passing through my room.  \\n  \\nI close my eyes  \\nAnd my twilight images go by  \\nAll too soon  \\nLike an angel passing through my room  \\n  \\nLong awaited darkness falls  \\nCasting shadows on the walls  \\nIn the twilight hour I am alone  \\nSitting near the fireplace  \\nDying embers warms my face  \\nIn this peaceful solitude  \\nAll the outside world subdued  \\nEverything comes back to me again  \\nIn the gloom  \\nLike an angel passing through my room  \\n  \\nHalf awake and half in dreams  \\nSeeing long forgotten scenes  \\nSo the present runs into the past  \\nNow and then become entwined  \\nPlaying games within my mind  \\nLike the embers as they die  \\nLove was one prolonged goodbye  \\nAnd it all comes back to me tonight  \\nIn the gloom  \\nLike an angel passing through my room  \\n  \\nI close my eyes  \\nAnd my twilight images go by  \\nAll too soon  \\nLike an angel passing through my room.\\n\\n Half past twelve  \\nAnd I\\'m watching the late show in my flat all alone  \\nHow I hate to spend the evening on my own  \\nAutumn winds  \\nBlowing outside my window as I look around the room  \\nAnd it makes me so depressed to see the gloom  \\nThere\\'s not a soul out there  \\nNo-one to hear my prays  \\n  \\nGimme gimme gimme a man after midnight  \\nWon\\'t somebody help me chase the shadows away  \\nGimme gimme gimme a man after midnight  \\nTake me through the darkness to the break of the day  \\n  \\nMovie stars  \\nFind the end of the rainbow, with a fortune to win  \\nIt\\'s so different from the world I\\'m living in  \\nTired of T. V.  \\nI open the window and I gaze into the night  \\nBut there\\'s nothing there to see, no one in sight  \\nThere\\'s not a soul out there  \\nNo-one to hear my prays  \\n  \\nGimme gimme gimme a man after midnight  \\nWon\\'t somebody help me chase the shadows away  \\nGimme gimme gimme a man after midnight  \\nTake me through the darkness to the break of the day  \\n  \\nGimme gimme gimme a man after midnight...  \\nGimme gimme gimme a man after midnight...  \\n  \\nThere\\'s not a soul out there  \\nNo-one to hear my prays  \\n  \\nGimme gimme gimme a man after midnight  \\nWon\\'t somebody help me chase the shadows away  \\nGimme gimme gimme a man after midnight  \\nTake me through the darkness to the break of the day  \\nGimme gimme gimme a man after midnight  \\nWon\\'t somebody help me chase the shadows away  \\nGimme gimme gimme a man after midnight  \\nTake me through the darkness to the break of the day\\n\\n There\\'s a gentleness to everything you do  \\nAnd it\\'s rubbing off on me I feel it too  \\nI\\'ve been waiting but my loneliness I get  \\nWhen you call me on the phone  \\nAnd I\\'m feeling so alone  \\nWhen you ask me to come over  \\nBaby you know I will  \\nI could never stay on my own  \\n  \\nGivin\\' it all I got to give  \\nI\\'ve never done that before  \\nI\\'m always givin\\' a little more  \\nWhen I\\'m with you  \\n  \\nGivin\\' it all I got to give  \\nI\\'ve never done that before  \\nI\\'m always givin\\' a little more  \\nWhen I\\'m with you  \\nI\\'m always givin\\' a little more  \\nWhen I\\'m with you  \\n  \\nGivin\\' it all I got to give  \\nI\\'ve never done that before  \\nI\\'m always givin\\' a little more  \\nWhen I\\'m with you  \\nGivin\\' it all I got to give  \\nI\\'ve never done that before  \\nI\\'m always givin\\' a little more\\n\\n You say she\\'s been mad at you  \\nThen you say you\\'ll be patient, ooh  \\nStill I see that she makes you blue  \\nCome on, I\\'ll give you consolation  \\n  \\nGonna sing you my love song, gonna bring you some light  \\nGonna make you feel happy every day of your life  \\nGonna sing you my love song, gonna make it all right  \\nYou\\'re all I ever need, my darling  \\n  \\nJust to be where you want to be  \\nSo much fun we could have then, hmm  \\nTo be close for eternity  \\nWhat a miracle to happen  \\n  \\nGonna sing you my love song, gonna sing it for you  \\nGonna give you sweet loving, gonna give myself too  \\nGonna sing you my love song, when I think about you  \\nI know she doesn\\'t make it easy  \\n\\'Cause you don\\'t please her like you please me  \\n  \\nYou\\'re my life, you\\'re my angel  \\nYou\\'re my first, you\\'re my last  \\nWould she care if you lingered  \\nFor another night  \\nWant to hold you tight  \\nWe could make it right  \\n  \\nGonna sing you my love song, gonna bring you some light  \\nGonna make you feel happy every day of your life  \\nGonna sing you my love song, gonna make it all right  \\nI know she doesn\\'t make it easy  \\nGonna sing you my love song, gonna sing it for you  \\nGonna give you sweet loving, gonna give myself too  \\nGonna sing you my love song, when I think about you  \\nYou\\'re all I ever need, my darling  \\nAnd I would love to sing my love song  \\nFor you\\n\\n When the autumn leaves are falling to the ground  \\nWhen the air gets cold then I think of us  \\nOf you and I  \\nAnd it almost makes me cry  \\nSo sad and kind of bitter sweet  \\nAnd the memories filled with tears  \\nAnd I feel my heart will break  \\nGuess it all was my mistake  \\n  \\nAutumn\\'s chilly winds were blowing through the trees  \\nThe rain fell softly on your face  \\nOh I remember every little thing about that day  \\nI remember every place  \\nGrey skies, you were laughing at the clouds  \\nThe rain fell softly on your face  \\nThe memories of our time together cannot be replaced  \\nI never loved you more than on those happy autumn days\\n\\n Agnetha, Frida Early this morning I drove in the rain  \\nOut to the airport to get on the plain  \\nHey Honolulu, I\\'m going to happy Hawaii  \\nAlice has been there, she said it was fun  \\n  \\nSwimming and surfing, enjoying the sun  \\nHey Honolulu, I\\'m going to happy Hawaii  \\nAfter all I had to go through, I\\'m making no plans  \\nBut I, but I believe love gives me a second chance  \\n  \\nGuess I\\'ve been working a little to hard  \\nNeed a vacation, I\\'ll send you a card  \\nFrom Honolulu, a greeting from happy Hawaii  \\nIt\\'s so exciting, why should I pretend  \\n  \\nIn a few hours the plane will descend  \\nHey Honolulu, I\\'m going to happy Hawaii  \\nI can imagine the beach and the sand  \\nWalking with someone and holding his hand  \\n  \\nHey Honolulu, I\\'m going to happy Hawaii  \\nAfter all I had to go through, I\\'m making no plans  \\nBut I, but I believe love gives me a second chance  \\nI\\'ve got a feeling, the dream will come true  \\n  \\nSomeone is waiting and I forget you  \\nHey Honolulu, I\\'m going to happy Hawaii\\n\\n No more champagne  \\nAnd the fireworks are through  \\nHere we are, me and you  \\nFeeling lost and feeling blue  \\nIt\\'s the end of the party  \\nAnd the morning seems so grey  \\nSo unlike yesterday  \\nNow\\'s the time for us to say  \\n  \\nHappy New Year  \\nHappy New Year  \\nMay we all have a vision now and then  \\nOf a world where every neighbor is a friend  \\nHappy New Year  \\nHappy New Year  \\nMay we all have our hopes, our will to try  \\nIf we don\\'t we might as well lay down and die  \\nYou and I  \\n  \\nSometimes I see  \\nHow the brave new world arrives  \\nAnd I see how it thrives  \\nIn the ashes of our lives  \\nOh yes, man is a fool  \\nAnd he thinks he\\'ll be okay  \\nDragging on, feet of clay  \\nNever knowing he\\'s astray  \\nKeeps on going anyway  \\n  \\nHappy New Year  \\nHappy New Year  \\nMay we all have a vision now and then  \\nOf a world where every neighbor is a friend  \\nHappy New Year  \\nHappy New Year  \\nMay we all have our hopes, our will to try  \\nIf we don\\'t we might as well lay down and die  \\nYou and I  \\n  \\nSeems to me now  \\nThat the dreams we had before  \\nAre all dead, nothing more  \\nThan confetti on the floor  \\nIt\\'s the end of a decade  \\nIn another ten years time  \\nWho can say what we\\'ll find  \\nWhat lies waiting down the line  \\nIn the end of eighty-nine  \\n  \\nHappy New Year  \\nHappy New Year  \\nMay we all have a vision now and then  \\nOf a world where every neighbor is a friend  \\nHappy New Year  \\nHappy New Year  \\nMay we all have our hopes, our will to try  \\nIf we don\\'t we might as well lay down and die  \\nYou and I\\n\\n Benny I was a fighter, always looking for trouble  \\nAnd my life was so empty, there was nothing to live for  \\nBut then it happened one night  \\nAs I got into a fight  \\nI could hear someone saying  \\nAs though he was praying  \\n  \\nTreat him well, he is your brother  \\nYou might need his help one day  \\nWe depend one one another  \\nLove him, that\\'s the only way  \\n  \\nOn the road  \\nThat we\\'re going  \\nWe all need  \\nWords of comfort and compassion  \\nTreat him well, he is your brother  \\nLove him, that\\'s the only way  \\n  \\nI was a woman, never thinking of others  \\nAnd my life was so lonely, didn\\'t care for anybody  \\nBut then I happened to meet  \\nA begging man in the street  \\nAs I turned down his praying  \\nI heard someone saying  \\n  \\nTreat him well, he is your brother  \\nYou might need his help one day  \\nWe depend one one another  \\nLove him, that\\'s the only way  \\n  \\nOn the road  \\nThat we\\'re going  \\nWe all need  \\nWords of comfort and compassion  \\nTreat him well, he is your brother  \\nLove him, that\\'s the only way  \\n  \\nTreat him well, he is your brother  \\nYou might need his help one day  \\nWe depend one one another  \\nLove him, that\\'s the only way  \\n  \\nTreat him well, he is your brother  \\nYou might need his help one day  \\nWe depend one one another  \\nLove him, that\\'s the only way\\n\\n I have a very good friend  \\nThe kind of girl who likes to follow a trend  \\nShe has a personal style  \\nSome people love it others tend to go wild  \\nYou hear her voice everywhere  \\nTaking the chair  \\nShe\\'s a leading lady  \\nAnd with no trace of hesitation she keeps going  \\n  \\nHead over heels  \\nBreaking her way  \\nPushing through unknown jungles every day  \\nShe\\'s a girl with a taste for the world  \\n(The world is like a playing ground where she goes rushing)  \\nHead over heels  \\nSetting the pace  \\nRunning the gauntlet in a whirl of lace  \\nShe\\'s extreme if you know what I mean  \\n  \\nHer man is one I admire  \\nHe\\'s so courageous but he\\'s constantly tired  \\nEach time when he speaks his mind  \\nShe pats his head and says that\\'s all very fine  \\nExert that will of your own  \\nWhen you\\'re alone  \\nNow we better hurry  \\nAnd with no trace of hesitation she keeps going  \\n  \\nHead over heels  \\nBreaking her way  \\nPushing through unknown jungles every day  \\nShe\\'s a girl with a taste for the world  \\n(The world is like a playing ground where she goes rushing)  \\nHead over heels  \\nSetting the pace  \\nRunning the gauntlet in a whirl of lace  \\nShe\\'s extreme if you know what I mean  \\n  \\nYou hear her voice everywhere  \\nTaking the chair  \\nShe\\'s a leading lady  \\nAnd with no trace of hesitation she keeps going  \\n  \\nHead over heels  \\nBreaking her way  \\nPushing through unknown jungles every day  \\nShe\\'s a girl with a taste for the world  \\n(The world is like a playing ground where she goes rushing)  \\nHead over heels  \\nSetting the pace  \\nRunning the gauntlet in a whirl of lace  \\nShe\\'s extreme if you know what I mean  \\n(She\\'s just one of those who always has to do whatever she please)  \\nAnd she goes  \\nHead over heels\\n\\n Love, love is a dream  \\nWe were like two young strands of driftwood  \\nCaught up in a stream  \\nWe were destined for each other  \\nFrom our very first hello  \\nWe came bustin\\' through that river dam  \\nAnd made that river flow  \\nWe will sail upon the ocean  \\nTil the shoreline meets the sky  \\nCarried on the first trade wind  \\nThat favours you and I  \\nWe have both of us between us  \\nKnown misfortune in our days  \\nDarling this time, we\\'re on our way  \\n  \\n\\'Cause we\\'re here  \\nAnd here we\\'ll stay  \\nWe will never throw this love of ours away  \\nWe are here  \\nAnd here we\\'ll stay  \\nWe will never throw this love of ours away  \\n  \\nLife, oh life is a chance  \\nWe were the only two who spun the wheel  \\nAnd never scored romance  \\nIf we\\'d stayed to play for fortune  \\nWe\\'d have broke the banks of gold  \\nWe\\'d have taken old Las Vegas  \\nFor every cent that she could hold  \\nLove like ours was made in heaven  \\nIt was blessed by Lord above  \\nWe will spend our lives together  \\nForever hand in glove  \\nWe have both of us between us  \\nKnown misfortune in our days  \\nDarling this time, we\\'re on our way  \\n  \\n\\'Cause we\\'re here  \\nAnd here we\\'ll stay  \\nWe won\\'t ever throw this love of ours away  \\nWe are here  \\nAnd here we\\'ll stay  \\nWe won\\'t ever throw this love of ours away  \\n  \\n\\'Cause we\\'re here  \\nAnd here we\\'ll stay  \\nWe will never throw this love of ours away  \\nWe are here  \\nHere we\\'ll stay  \\nWe will never throw this love of ours away  \\n  \\n\\'Cause we\\'re here  \\nAnd here we\\'ll stay  \\nWe will never throw this love of ours away  \\nSo we are here  \\nAnd here we\\'ll stay  \\nWe will never throw this love of ours away...\\n\\n So at last you\\'re free  \\nIt\\'s the way you wanted it to be  \\nAnd the price you paid  \\nTo become a woman of today  \\nIs it worth the pain to see the children cry  \\nDoes it hurt when they ask for Daddy  \\n  \\nHey hey Helen  \\nNow you live on your own  \\nHey hey Helen  \\nCan you make it alone  \\n(Yes you can)  \\n  \\nSo you\\'re free at last  \\nAnd beginning to forget the past  \\nDoes it make you sad  \\nWhen you think about the life you ha-ha-had  \\nBut you\\'re right, you had to take a second chance  \\nSo you fight to find your freedom  \\n  \\nHey hey Helen  \\nNow you live on your own  \\nHey hey Helen  \\nCan you make it alone  \\nHey hey Helen (hey hey Helen)  \\nWhat\\'s the matter with you  \\nHey hey Helen (hey hey Helen)  \\nDon\\'t you know what to do  \\n(Yes you do)  \\n(Yes you do yes you do)  \\n(Yes you do yes you do)  \\n  \\nHey hey Helen  \\nNow you live on your own  \\nHey hey Helen  \\nCan you make it alone  \\nHey hey Helen (hey hey Helen)  \\nWhat\\'s the matter with you  \\nHey hey Helen (hey hey Helen)  \\nDon\\'t you know what to do  \\nHey hey Helen (hey hey Helen)  \\nNow you live on your own  \\nHey hey Helen (hey hey Helen)\\n\\n You feel bad, let me tell you, we all get the blues  \\nSometimes life is a burden, weighed down in your shoes  \\nWhen it\\'s bad, worse, worst  \\n(And when you\\'re feeling so bad)  \\nAnd you think you\\'re cursed  \\n(And you\\'ve got it sad)  \\nWell, if there\\'s one thing for the better that can turn you loose  \\n  \\nIt\\'s gotta be rock\\'n roll  \\nTo fill the hole in your soul  \\nThere\\'s gotta be rock\\'n roll  \\nTo fill the hole in your soul  \\n  \\nMy friend Sam is a chauffeur, Annie goes to school  \\nJerry works at the office, Sue lies by the pool  \\nBut on all weekends  \\n(Together again)  \\nWhen I meet my friends  \\n(I\\'m gonna see them now)  \\nAnd we\\'re lookin\\' round for the action we sure play it cool  \\n  \\nIt\\'s gotta be rock\\'n roll  \\nTo fill the hole in your soul  \\nThere\\'s gotta be rock\\'n roll  \\nTo fill the hole in your soul  \\n  \\nYou paint your world and use all colors  \\nAnd then you find it all comes out too bright  \\nYou know it\\'s only a lie  \\nThe songs you sing are too romantic  \\nAnd when you want the truth  \\nThey only spit in your eye  \\nOh yeah, they\\'re only telling you lies  \\nOh yeah, there\\'s gotta be rock\\'n roll  \\nTo fill the hole in your soul  \\n  \\nYou feel bad, let me tell you, we all get the blues  \\nSometimes life is a burden, weighed down in your shoes  \\nWhen it\\'s bad, worse, worst  \\n(You know you\\'re feeling so bad)  \\nAnd you think you\\'re cursed  \\n(And you\\'ve got it sad)  \\nWell, if there\\'s one thing for the better that can turn you loose  \\n  \\nIt\\'s gotta be rock\\'n roll  \\nTo fill the hole in your soul  \\nThere\\'s gotta be rock\\'n roll  \\nTo fill the hole in your soul  \\n  \\nThere\\'s gotta be rock\\'n roll  \\nTo fill the hole in your soul  \\nThere\\'s gotta be rock\\'n roll  \\nTo fill the hole in your soul  \\nThere\\'s gotta be rock\\'n roll  \\nTo fill the hole in your soul  \\n  \\nThere\\'s gotta be rock\\'n roll  \\nTo fill the hole in your soul  \\nThere\\'s gotta be rock\\'n roll  \\nTo fill the hole in your soul\\n\\n Honey honey, how you thrills me, ah-hah, honey honey  \\nHoney honey, nearly kill me, ah-hah, honey honey  \\nI\\'d heard about you before  \\nI wanted to know some more  \\nAnd now I know what they mean, you\\'re a love machine  \\nOh, you make me dizzy  \\n  \\nHoney honey, let me feel it, ah-hah, honey honey  \\nHoney honey, don\\'t conceal it, ah-hah, honey honey  \\nThe way that you kiss goodnight (The way that you kiss me goodnight)  \\nThe way that you hold me tight (The way that you\\'re holding me tight)  \\nI feel like I want to sing when you do your thing  \\n  \\nI don\\'t want to hurt you, baby, I don\\'t want to see you cry  \\nSo stay on the ground, girl, you better not get too high  \\nBut I\\'m gonna stick to you, boy, you\\'ll never get rid of me  \\nThere\\'s no other place in this world where I rather would be  \\n  \\nHoney honey, touch me, baby, ah-hah, honey honey  \\nHoney honey, hold me, baby, ah-hah, honey honey  \\nYou look like a movie star (You look like a movie star)  \\nBut I know just who you are (I know just who you are)  \\nAnd, honey, to say the least, you\\'re a dog-gone beast  \\n  \\nSo stay on the ground, girl, you better not get too high  \\nThere\\'s no other place in this world where I rather would be  \\n  \\nHoney honey, how you thrill me, ah-hah, honey honey  \\nHoney honey, nearly kill me, ah-hah, honey honey  \\nI heard about you before  \\nI wanted to know some more  \\nAnd now I know what they mean, you\\'re a love machine\\n\\n I am just a girl  \\nOne among the others, nothing much to say  \\nPlain and simple girl  \\nNot a special type in any way  \\nJust one look and you will surely see  \\nThat the true Miss Nobody is me  \\nIt\\'s an evil world  \\nThat has only made me a girl  \\n  \\nI am just a girl  \\nNot the kind of woman men would like to meet  \\nJust another girl  \\nNo one ever looks at in the street  \\nBut today I can\\'t believe it\\'s true  \\nWhen you smiled and whispered, I love you  \\nDarling I could see  \\nI was meant to be your girl  \\n  \\nIt\\'s a funny feeling when you get to love someone  \\nAnd thinking that he\\'ll never look your way  \\nBut then he says he loves you and life has just begun  \\nIt\\'s so much more than any words can say  \\n  \\nI am just a girl  \\nNot the kind of woman men would like to meet  \\nJust another girl  \\nNo one ever looks at in the street  \\nBut today I can\\'t believe it\\'s true  \\nWhen you smiled and whispered, I love you  \\nDarling I could see  \\nI was meant to be your girl  \\n  \\nLa, la, la, la la  \\n  \\nBut today I can\\'t believe it\\'s true  \\nWhen you smiled and whispered, I love you  \\nDarling I could see  \\nI was meant to be your girl\\n\\n i am the city, you let me be  \\ni am the city  \\n  \\nComing through a cloud you\\'re looking at me from above  \\nAnd I\\'m a revelation spreading out before your eyes  \\nAnd you find me beautiful and irresistible  \\nA kind of creature that forever seems to grow in size  \\nAnd you feel a strange attraction  \\nThe air is vibrant and electrified  \\nWelcome to me here I am, my arms are open wide  \\n  \\nSomewhere in the middle of the never ending noise  \\nThere is a constant steady rhythm of a heart that beats  \\nAnd a million voices blend into a single voice  \\nAnd you can hear it in the glamor of the crowded streets  \\nPeople come and take their chances  \\nSometimes you win sometimes you lose a lot  \\nCome make your own contribution to this melting pot  \\n  \\nI\\'m the street you walk  \\nThe language you talk  \\nI am the city  \\nThe skyline is me and the energy  \\nI am the city  \\nThe famous hotels and the cocktail bars  \\nAnd the funny smells  \\nAnd the turmoil, the cars and the people  \\nThe air that you\\'re breathing is me  \\nYes I am the city, you let me be  \\n  \\nPeople feed me with their lives I have a hungry soul  \\nAnd they all worship me and pay their homage day and night  \\nEvery day I knew a lot of tired shopping feet  \\nBut come the night they will be dancing in the neon light  \\nDazzled by the crazy magic  \\nThey\\'re grabbing pieces of the fatted calf  \\nAnd in the wind if you listen hard you\\'ll hear me laugh  \\n  \\nI\\'m the street you walk  \\nThe language you talk  \\nI am the city  \\nThe skyline is me and the energy  \\nI am the city  \\nThe famous hotels and the cocktail bars  \\nAnd the funny smells  \\nAnd the turmoil, the cars and the people  \\nThe parks and the squares that you see  \\nAll the sounds that you hear  \\nAnd the air that you\\'re breathing is me  \\nYes I am the city, you let me be  \\n  \\nI am the city  \\nYou let me be  \\nI am the city  \\n  \\nThe famous hotels and the cocktail bars  \\nAnd the funny smells  \\nAnd the turmoil the cars and the people  \\nThe air that you\\'re breathing is me  \\n  \\nComing through a cloud  \\nYou\\'re looking at me from above  \\nAnd I\\'m a revelation spreading out before your eyes  \\n  \\nI\\'m the street you walk  \\nThe language you talk  \\nI am the city  \\nYes I am the city, you let me be  \\n  \\nAnd you find me beautiful and irresistible  \\nA kind of creature that forever seems to grow in size  \\n  \\nThe skyline is me and the energy  \\nI am the city  \\nYou let me be  \\n  \\nSomewhere in the middle of the never ending noise  \\nThere is a constant steady rhythm of a heart that beats  \\n  \\nSomewhere in the middle of the never ending noise  \\nThere is a constant steady rhythm of a heart that beats  \\n  \\nAnd a million voices blend into a single voice  \\nAnd you can hear it in the glamor of the crowded streets  \\n  \\nThe skyline is me and the energy  \\nI am the city  \\nYou let me be  \\n  \\nSomewhere in the middle of the never ending noise  \\nThere is a constant steady rhythm of a heart that beats  \\n  \\nSomewhere in the middle of the never ending noise  \\nThere is a constant steady rhythm of a heart that beats\\n\\n Love me or leave me  \\nMake your choice but believe me  \\nI love you  \\nI do, I do, I do, I do, I do  \\n  \\nI can\\'t conceal it  \\nDon\\'t you see?  \\nCan\\'t you feel it?  \\nDon\\'t you too?  \\nI do, I do, I do, I do, I do  \\n  \\nOh, I\\'ve been dreaming through my lonely past  \\nNow I\\'ve just made it  \\nI found you at last  \\nSo come on  \\nNow let\\'s try it  \\nI love you  \\nCan\\'t deny it  \\n\\'Cause it\\'s true  \\nI do, I do, I do, I do, I do  \\n  \\nOh, no hard feelings between you and me  \\nIf we can\\'t make it  \\nBut just wait and see  \\n  \\nSo come on now lets try it  \\nI love you, can\\'t deny it  \\n\\'Cause it\\'s true, I do, I do, I do, I do, I do  \\n  \\nSo love me or leave me  \\nMake your choice but believe me  \\nI love you, I do, I do, I do, I do, I do  \\n  \\nI can\\'t conceal it, don\\'t you see?  \\nCan\\'t you feel it?  \\nDon\\'t you too? I do, I do, I do, I do, I do\\n\\n I have a dream, a song to sing  \\nTo help me cope with anything  \\nIf you see the wonder of a fairy tale  \\nYou can take the future even if you fail  \\nI believe in angels  \\nSomething good in everything I see  \\nI believe in angels  \\nWhen I know the time is right for me  \\nI\\'ll cross the stream, I have a dream  \\n  \\nI have a dream, a fantasy  \\nTo help me through reality  \\nAnd my destination makes it worth the while  \\nPushing through the darkness still another mile  \\nI believe in angels  \\nSomething good in everything I see  \\nI believe in angels  \\nWhen I know the time is right for me  \\nI\\'ll cross the stream, I have a dream  \\nI\\'ll cross the stream, I have a dream  \\n  \\nI have a dream, a song to sing  \\nTo help me cope with anything  \\nIf you see the wonder of a fairy tale  \\nYou can take the future even if you fail  \\nI believe in angels  \\nSomething good in everything I see  \\nI believe in angels  \\nWhen I know the time is right for me  \\nI\\'ll cross the stream, I have a dream  \\nI\\'ll cross the stream, I have a dream\\n\\n I\\'m hearing images, I\\'m seeing songs  \\nNo poet has ever painted  \\nVoices call out to me, straight to my heart  \\nSo strange, yet we\\'re so well acquainted  \\nI let the music speak with no restrains  \\nI let my feelings take over  \\nCarry my soul away, into the world  \\nWhere beauty meets the darkness of the day  \\n  \\nWhere my mind is like an open window  \\nWhere the high and healing winds blow  \\nFrom my shallow sleep the sounds awake me  \\nI let them take me  \\n  \\nLet it be a joke, let it be a smile  \\nLet it be a farce, if it makes me laugh for a little while  \\nLet it be a tear, let it be a sigh  \\nComing from a heart, speaking to a heart, let it be a cry  \\n  \\nSome streets are emptiness, dry leaves of autumn  \\nRustling down an old alley  \\nAnd in the dead of night, I find myself a blind man  \\nIn some ancient valley  \\nI let the music speak, leading me gently  \\nUrging me like a lover  \\nLeading me all the way, into a place  \\nWhere beauty will defeat the darkest day  \\n  \\nWhere I\\'m one with every grand illusion  \\nNo disturbance, no intrusion  \\nWhere I let the wistful sounds seduce me  \\nI let them use me  \\n  \\nLet it be a joke, let it be a smile  \\nLet it be a farce, if it makes me laugh for a little while  \\nLet it be a tear, let it be a sigh  \\nComing from a heart, speaking to a heart, let it be a cry  \\n  \\nLet it be a tear, let it be a sigh  \\nComing from a heart, speaking to a heart, let it be a cry  \\n  \\nLet it be the joy of each new sunrise  \\nOr the moment when a day dies  \\nI surrender without reservation  \\nNo explanation, no questions why  \\nI take it to me and let it flow through me  \\nYes, I let the music speak  \\nI let the music speak\\n\\n I saw it in the mirror  \\nI saw it in my face  \\nThat I\\'m no longer needed  \\nAnyone can take my place  \\nI saw it in the mirror  \\nWhen I looked into my eyes  \\n\\'Cause something sure is wrong  \\nWhen this boy cries  \\n  \\nThis boy cries  \\n  \\nI saw it in the mirror  \\nMy head is hanging low  \\nAnd it ain\\'t too familiar  \\nWith the feelings that I show  \\nI know you say you love me  \\nBut I\\'m looking through your lies  \\nIt doesn\\'t really bother you  \\nIf this boy cries  \\n  \\nThis boy cries  \\n  \\nI never thought I could cry for you  \\nBut honey, I will miss you  \\n\\'Til the day I die  \\n\\'Til the day I die  \\n  \\nI saw it in the mirror  \\nI saw it in my face  \\nThat I\\'m no longer needed  \\nAnyone can take my place  \\nI saw it in the mirror  \\nWhen I looked into my eyes  \\n\\'Cause something sure is wrong  \\nWhen this boy cries  \\n  \\nThis boy cries  \\nThis boy cries\\n\\n This park and these houses, old streets I have walked  \\nEverything dear, will it be here  \\nOne day when I am returning?  \\nMy friends will get married, have children and homes  \\nIt sounds so nice, well-planned and wise  \\nNever expecting surprises  \\n  \\nI wonder, it\\'s frightening  \\nLeaving now, is that the right thing?  \\nI wonder, it scares me  \\nBut who the the hell am I if I don\\'t leave it  \\nI\\'m not a coward  \\nOh no, I\\'ll be strong  \\nOne chance in a lifetime  \\nYes I will take it, it can\\'t go wrong  \\n  \\nMy friends and my family, this dull little town  \\nBuses I\\'ve missed, boys that I\\'ve kissed  \\nEverything old and familiar  \\n  \\nI wonder, it\\'s frightening  \\nLeaving now, is that the right thing?  \\nI wonder, it scares me  \\nBut who the the hell am I if I don\\'t leave it  \\nI\\'m not a coward  \\nOh no, I\\'ll be strong  \\nOne chance in a lifetime  \\nYes I will take it...  \\nYes I will take it, it can\\'t go wrong  \\n\\n This park and these houses  \\nOld streets I have walked  \\nEverything dear, will it be here  \\nOne day when I am returning?  \\n  \\nMy friends will get married  \\nHave children and homes  \\nIt sounds so nice, well-planned and wise  \\nNever expecting surprises  \\n  \\nI wonder, it\\'s frightening  \\nLeaving now, is that the right thing?  \\nI wonder, it scares me  \\nBut who the the hell am I if I don\\'t leave it?  \\n  \\nI\\'m not a coward  \\nOh no, I\\'ll be strong  \\nOne chance in a lifetime  \\nYes I will take it, it can\\'t go wrong  \\n  \\nMy friends and my family  \\nThis dull little town  \\nBuses I\\'ve missed, boys that I\\'ve kissed  \\nEverything old and familiar  \\n  \\nI wonder, it\\'s frightening  \\nLeaving now, is that the right thing?  \\nI wonder, it scares me  \\nBut who the the hell am I if I don\\'t leave and try?  \\n  \\nI\\'m not a coward  \\nOh no, I\\'ll be strong  \\nOne chance in a lifetime  \\nYes I will take it, oh yes  \\nYes I will take it, it can\\'t go wrong\\n\\n I got appointments, work I have to do  \\nKeepin\\' me so busy all the day through  \\nThey\\'re the things that keep me from thinkin\\' of you  \\nOh baby, I miss you so, I know I\\'m never gonna make it  \\nOh, I\\'m so restless, I don\\'t care what I say  \\nAnd I lose my temper ten times a day  \\nStill it\\'s even worse when the night\\'s on its way  \\nIt\\'s bad, oh, so bad  \\n  \\nSomehow I\\'d be doin\\' alright if it wasn\\'t for the nights  \\n(If it wasn\\'t for the nights I think that I could make it)  \\nI\\'d have courage left to fight if it wasn\\'t for the nights  \\n(If it wasn\\'t for the nights I think that I could take it)  \\nHow I fear the time when shadows start to fall  \\nSittin\\' here alone and starin\\' at the wall  \\nEven I could see a light if it wasn\\'t for the nights  \\n(Even I could see a light I think that I could make it)  \\nSomehow I\\'d be doin\\' alright if it wasn\\'t for the nights  \\n(If it wasn\\'t for the nights I think that I could take it)  \\n  \\nNo-one to turn to, you know how it is  \\nI was not prepared for something like this  \\nNow I see them clearly, the things that I miss  \\nOh baby, I feel so bad, I know I\\'m never gonna make it  \\nI got my business to help me through the day  \\nPeople I must write to, bills I must pay  \\nBut everything\\'s so different when night\\'s on its way  \\nIt\\'s bad, oh, so bad  \\n  \\nSomehow I\\'d be doing alright if it wasn\\'t for the nights  \\n(If it wasn\\'t for the nights I think that I could make it)  \\nI\\'d have courage left to fight if it wasn\\'t for the nights  \\n(If it wasn\\'t for the nights I think that I could take it)  \\nHow I fear the time when shadows start to fall  \\nSittin\\' here alone and starin\\' at the wall  \\nEven I could see a light if it wasn\\'t for the nights  \\n(Even I could see a light I think that I could make it)  \\nGuess my future would look bright if it wasn\\'t for the nights  \\n(If it wasn\\'t for the nights I think that I could make it)  \\n  \\nIf it wasn\\'t for the nights  \\n(If it wasn\\'t for the nights I think that I could take it)  \\nif it wasn\\'t for the nights  \\n(If it wasn\\'t for the nights I think that I could make it)  \\n  \\nEven I could see a light if it wasn\\'t for the nights  \\n(Even I could see a light I think that I could make it)  \\nGuess my future would look bright if it wasn\\'t for the nights  \\n(If it wasn\\'t for the nights I think that I could take it)  \\n  \\nIf it wasn\\'t for the nights  \\n(If it wasn\\'t for the nights I think that I could make it)  \\nIf it wasn\\'t for the nights  \\n(If it wasn\\'t for the nights I think that I could take it)  \\n  \\nEven I could see a light if it wasn\\'t for the nights  \\n(Even I could see a light I think that I could make it)  \\nGuess my future would look bright if it wasn\\'t for the nights\\n\\n You\\'re so free  \\nThat\\'s what everybody\\'s tellin\\' me  \\nYet I feel like I\\'m an outward bound  \\nPushed around refuge  \\n  \\nSomething\\'s wrong  \\nGot a feeling that I don\\'t belong  \\nAs if I have come from out of space  \\nOut of place, like King Kong  \\n  \\nI\\'m a marionette, just a marionette  \\nPull the string  \\nI\\'m a marionette, everybody\\'s pet  \\nJust as long as I sing  \\n  \\nI\\'m a marionette, see my pirouette  \\n\\'Round and \\'round  \\nI\\'m a marionette, I\\'m a marionette  \\nJust a silly old clown  \\n  \\nLike a doll  \\nLike a puppet with no will at all  \\nAnd somebody taught me how to talk  \\nHow to walk, how to fall  \\n  \\nCan\\'t complain  \\nI got no one but myself to blame  \\nSomething\\'s happening, I can\\'t control  \\nLost my hold, it\\'s insane  \\n  \\nI\\'m a marionette, just a marionette  \\nPull the string  \\nI\\'m a marionette, everybody\\'s pet  \\nJust as long as I sing  \\n  \\nI\\'m a marionette, see my pirouette  \\n\\'Round and \\'round  \\nI\\'m a marionette, I\\'m a marionette  \\nJust a silly old clown  \\n  \\nLook this way  \\nJust a little smile is what they say  \\nYou\\'ll look better on the photograph  \\nIf you laugh, that\\'s o.k.!!  \\n  \\nI\\'m a marionette, just a marionette  \\nPull the string  \\nI\\'m a marionette, everybody\\'s pet  \\nJust as long as I sing  \\n  \\nI\\'m a marionette, see my pirouette  \\n\\'Round and \\'round  \\nI\\'m a marionette, I\\'m a marionette  \\nJust a silly old clown  \\n  \\nYou\\'re so free  \\nThat\\'s what everybody\\'s tellin\\' me  \\nYet I feel like I\\'m an outward bound  \\nPushed around refugee\\n\\n I, I\\'ve been in love before  \\nI thought I would no more  \\nManage to hit the ceiling  \\nStill, strange as it seems to me  \\nYou brought it back to me  \\nThat old feeling  \\n  \\nI, I don\\'t know what you do  \\nYou make me think that you  \\nPossibly could release me  \\nI think you\\'ll be able to  \\nMake all my dreams come true  \\nAnd you ease me  \\n  \\nYou thrill me, you delight me  \\nYou please me, you excite me  \\nYou\\'re something I\\'d been pleading for  \\nI love you, I adore you  \\nI lay my life before you  \\nI\\'ll have you want me more and more  \\nAnd finally it seems my lonely days are through  \\nI\\'ve been waiting for you  \\n  \\nI, I\\'m gonna make you mine  \\nYou\\'re gonna feel so fine  \\nYou\\'ll never want to leave me  \\nI feel you belong to me  \\nSomeday you will agree  \\nPlease, believe me  \\n  \\nYou thrill me, you delight me  \\nYou please me, you excite me  \\nYou\\'re something I\\'d been pleading for  \\nI love you, I adore you  \\nI lay my life before you  \\nI\\'ll have you want me more and more  \\nAnd finally it seems my lonely days are through  \\nI\\'ve been waiting for you  \\nOh, I\\'ve been waiting for you\\n\\n Super Trooper beams are gonna blind me  \\nBut I won\\'t feel blue  \\nLike I always do  \\n\\'Cause somewhere in the crowd there\\'s you  \\n  \\nI was sick and tired of everything  \\nWhen I called you last night from Glasgow  \\nAll I do is eat and sleep and sing  \\nWishing every show was the last show  \\n(Wishing every show was the last show)  \\nSo imagine I was glad to hear you\\'re coming  \\n(Glad to hear you\\'re coming)  \\nSuddenly I feel all right  \\n(And suddenly it\\'s gonna be)  \\nAnd it\\'s gonna be so different  \\nWhen I\\'m on the stage tonight  \\n  \\nTonight the  \\nSuper Trooper lights are gonna find me  \\nShining like the sun  \\n(Sup-p-per Troop-p-per)  \\nSmiling, having fun  \\n(Sup-p-per Troop-p-per)Feeling like a number one  \\nTonight the  \\nSuper Trooper beams are gonna blind me  \\nBut I won\\'t feel blue  \\n(Sup-p-per Troop-p-per)  \\nLike I always do  \\n(Sup-p-per Troop-p-per)  \\n  \\n\\'Cause somewhere in the crowd there\\'s you  \\n  \\nFacing twenty thousand of your friends  \\nHow can anyone be so lonely  \\nPart of a success that never ends  \\nStill I\\'m thinking about you only  \\n(Still I\\'m thinking about you only)  \\nThere are moments when I think I\\'m going crazy  \\n(Think I\\'m going crazy)  \\nBut it\\'s gonna be alright  \\n(You\\'ll soon be changing everything)  \\nEverything will be so different  \\nWhen I\\'m on the stage tonight  \\n  \\nTonight the  \\nSuper Trooper lights are gonna find me  \\nShining like the sun  \\n(Sup-p-per Troop-p-per)  \\nSmiling, having fun  \\n(Sup-p-per Troop-p-per)  \\nFeeling like a number one  \\nTonight the  \\nSuper Trooper beams are gonna blind me  \\nBut I won\\'t feel blue  \\n(Sup-p-per Troop-p-per)Like I always do  \\n(Sup-p-per Troop-p-per)  \\n\\'Cause somewhere in the crowd there\\'s you  \\n  \\nSo I\\'ll be there when you arrive  \\nThe sight of you will prove to me I\\'m still alive  \\nAnd when you take me in your arms  \\nAnd hold me tight  \\nI know it\\'s gonna mean so much tonight  \\n  \\nTonight the  \\nSuper Trooper lights are gonna find me  \\nShining like the sun  \\n(Sup-p-per Troop-p-per)  \\nSmiling, having fun  \\n(Sup-p-per Troop-p-per)  \\nFeeling like a number one  \\nTonight the  \\nSuper Trooper beams are gonna blind me  \\nBut I won\\'t feel blue  \\n(Su-p-per Troo-p-per)  \\nLike I always do  \\n(Sup-p-per troop-p-per)  \\n\\'Cause somewhere in the crowd there\\'s you  \\nSup-p-per Troop-p-per lights are gonna find me  \\nShining like the sun  \\n(Sup-p-per Troop-p-per)  \\nSmiling, having fun  \\n(Sup-p-per Troop-p-per)  \\nFeeling like a number one\\n\\n Just a notion that\\'s all  \\nJust a feeling that you\\'re watchin\\' me  \\nEvery move I\\'m making  \\nAm I reading your mind  \\nCause it\\'s almost like you\\'re touching me  \\nThere is no mistaking  \\nJust a notion  \\nThat you\\'ll be walkin\\' up to me  \\nIn a while  \\nAnd you smile and say hello  \\nThen we\\'ll be dancing through the night  \\nKnowing everything from there on  \\nMust be right  \\n  \\nJust a notion  \\nBut somehow I know I\\'m not wrong  \\nIf it\\'s our destiny there\\'s nothing we can do  \\nBut tonight is very special  \\nIt\\'s the night for me and you\\n\\n Well I was looking at a movie on the TV last night  \\nThen I had a very funny notion, yeah  \\nI really had to write a song about it  \\nAnd then I\\'m gonna sing it with my rock \\'n roll band  \\nAnd I bet the people gonna like it, yeah  \\nI know that everybody\\'s gonna shout it  \\n  \\nAnd what a dreadful mighty killer  \\nA big black wide gorilla  \\n  \\n[Chorus:]  \\nWe do the King Kong song, won\\'t you sing along  \\nListen to the music and it couldn\\'t go wrong  \\nWe do the Kong Kong song, gotta sing along  \\nCan\\'t you hear the beating of the monkey tom-tom  \\nListen to the rhythm of the King Kong song  \\n  \\nNow we can make the jungle out of any old place  \\nWe can make gorillas out of people, yeah  \\nWell who can tell a monkey from a monkey?  \\nSo people get together, gonna have a good time  \\nEverybody listen to the music, yeah  \\n\\'Cause what we\\'re gonna sing is kinda funky  \\n  \\nSo let your arms hang down  \\nAnd waddle all around  \\nLike a dreadful mighty killer  \\nA big black wide gorilla  \\n  \\n[Chorus]  \\n  \\nLike a dreadful mighty killer  \\nA big black wide gorilla  \\n  \\n[Chorus: x2]\\n\\n Lay your head on my chest so you hear every beat of my heart  \\nNow there\\'s nothing at all that can keep us apart  \\nTouch my lips, close your eyes and see with your fingertips  \\nThings that you do, and you know I\\'m crazy \\'bout you  \\n  \\nKisses of fire, burning, burning  \\nI\\'m at the point of no returning  \\nKisses of fire, sweet devotions  \\nCaught in a landslide of emotions  \\nI\\'ve had my share of love affairs and they were nothing compared to this  \\nOh, I\\'m riding higher than the sky and there is fire in every kiss  \\nKisses of fire  \\nKisses of fire  \\n  \\nWhen you sleep by my side I feel safe and I know I belong  \\nStill it\\'s making me scared that my love is so strong  \\nLosing you It\\'s a nightmare, babe, and to me it\\'s new  \\nNever before did you see me begging for more  \\n  \\nKisses of fire, burning, burning  \\nI\\'m at the point of no returning  \\nKisses of fire, sweet devotions  \\nCaught in a landslide of emotions  \\nI\\'ve had my share of love affairs but they were nothing compared to this  \\nOh, I\\'m riding higher than the sky and there is fire in every kiss  \\nKisses of fire  \\nKisses of fire  \\n  \\nKisses of fire, burning, burning  \\nI\\'m at the point of no returning  \\nKisses of fire, sweet devotions  \\nCaught in a land-slide of emotions  \\nKisses of fire, burning, burning  \\n(I\\'m at the point of no returning)  \\nKisses of fire, sweet devotions  \\nI\\'m riding higher than the sky and there is fire in every kiss  \\n(Caught in a land-slide of emotions)  \\nKisses of fire, burning, burning  \\nI\\'m at the point of no returning  \\nKisses of fire, sweet devotions  \\nCaught in a land-slide of emotions\\n\\n No more carefree laughter  \\nSilence ever after  \\nWalking through an empty house, tears in my eyes  \\nHere is where the story ends, this is goodbye  \\n  \\nKnowing me, knowing you (ah-haa)  \\nThere is nothing we can do  \\nKnowing me, knowing you (ah-haa)  \\nWe just have to face it, this time we\\'re through  \\n(This time we\\'re through, this time we\\'re through  \\nThis time we\\'re through, we\\'re really through)  \\nBreaking up is never easy, i know but i have to go  \\n(I have to go this time  \\nI have to go, this time i know)  \\nKnowing me, knowing you  \\nIt\\'s the best i can do  \\n  \\nMem\\'ries (mem\\'ries), good days (good days), bad days (bad days)  \\nThey\\'ll be (they\\'ll be), with me (with me) always (always)  \\nIn these old familiar rooms children would play  \\nNow there\\'s only emptiness, nothing to say  \\n  \\nKnowing me, knowing you (ah-haa)  \\nThere is nothing we can do  \\nKnowing me, knowing you (ah-haa)  \\nWe just have to face it, this time we\\'re through  \\n(This time we\\'re through, this time we\\'re through  \\nThis time we\\'re through, we\\'re really through)  \\nBreaking up is never easy, i know but i have to go  \\n(I have to go this time  \\nI have to go, this time i know)  \\nKnowing me, knowing you  \\nIt\\'s the best i can do\\n\\n I wasn\\'t jealous before we met  \\nNow every woman I see is a potential threat  \\nAnd I\\'m possessive, it isn\\'t nice  \\nYou\\'ve heard me saying that  \\nSmoking was my only vice  \\nBut now it isn\\'t true  \\nNow everything is new  \\nAnd all I\\'ve learned has overturned  \\nI beg of you  \\n  \\nDon\\'t go wasting your emotion  \\nLay all your love on me  \\n  \\nIt was like shooting a sitting duck  \\nA little smalltalk, a smile  \\nAnd baby I was stuck  \\nI still don\\'t know what  \\nYou\\'ve done with me  \\nA grown-up woman should never fall so easily  \\nI feel a kind of fear  \\nWhen I don\\'t have you near  \\nUnsatisfied, I skip my pride  \\nI beg you dear  \\n  \\nDon\\'t go wasting your emotion  \\nLay all your love on me  \\nDon\\'t go sharing your devotion  \\nLay all your love on me  \\n  \\nI\\'ve had a few little love affairs  \\nThey didn\\'t last very long and  \\nThey\\'ve been pretty scarce  \\nI used to think that was sensible  \\nIt makes the truth  \\nEven more incomprehensible  \\n\\'Cause everything is new  \\nAnd everything is you  \\nAnd all I\\'ve learned has overturned  \\nWhat can I do  \\n  \\nDon\\'t go wasting your emotion  \\nLay all your love on me  \\nDon\\'t go sharing your devotion  \\nLay all your love on me\\n\\n Long awaited darkness falls  \\nCasting shadows on the walls  \\nIn the twilight hour I am alone  \\nSitting near the fireplace  \\nDying embers warm my face  \\nIn this peaceful solitude  \\nAll the outside world subdued  \\nEverything comes back to me again  \\nIn the gloom  \\nLike an angel passing through my room  \\n  \\nHalf awake and half in dreams  \\nSeeing long forgotten scenes  \\nSo the present runs into the past  \\nNow and then become entwined  \\nPlaying games within my mind  \\nLike the embers as they die  \\nLove was one prolonged goodbye  \\nAnd it all comes back to me tonight  \\nIn the gloom  \\nLike an angel passing through my room  \\n  \\nI close my eyes  \\nAnd my twilight images go by  \\nAll too soon  \\nLike an angel passing through my room\\n\\n Spring in the air  \\nThe sun was shining  \\nStill the day was cool  \\nSaw her waiting for a bus  \\nAs she was going home from school  \\n  \\nLooking so cold  \\nI took her home and  \\nThat was just the start  \\nWe would meet the summer through  \\nAnd she was always in my heart  \\n  \\nLove has it\\'s ways  \\nLike seasons come and go  \\nAnd tomorrow there will be another day  \\nLove has it\\'s ways  \\nAnd so before you know  \\nWhen you turn around it may have gone away  \\n  \\nEarly that fall  \\nI knew I loved her  \\nMore than anything  \\nGave her everything I had  \\nShe even got a wedding ring  \\n  \\nBut in the end  \\nThe mind was restless  \\nAnd she had to go  \\nAnd the love I\\'d thought would live  \\nWas buried in the winter snow  \\n  \\nLove has it\\'s ways  \\nLike seasons come and go  \\nAnd tomorrow there will be another day  \\nLove has it\\'s ways  \\nAnd so before you know  \\nWhen you turn around it may have gone away  \\n  \\nLove has it\\'s ways  \\nLike seasons come and go  \\nAnd tomorrow there will be another day  \\nLove has it\\'s ways  \\nAnd so before you know  \\nWhen you turn around it may have gone away\\n\\n Do you remember the first time, and all of your sweet sweet talk  \\nAin\\'t heard it a lot since then love  \\nNow look at that guy, he\\'s making me cry  \\nHe leaves everybody and he only says goodbye  \\nBut if I would have to choose I wouldn\\'t let you go  \\nJust give it some more time and you will see our love will grow  \\nDarling I know  \\n  \\nWe gotta have patience  \\nLove isn\\'t just a sensation  \\nSome of the time it gets rough  \\nLove isn\\'t easy but it sure is hard enough  \\n(sweet sweet, our love is bitter-sweet)  \\nGiving love is a reason for living  \\nBut a few things can be tough  \\nLove isn\\'t easy but it sure is hard enough  \\n(sweet sweet, our love is bitter-sweet)  \\n  \\nFrom the first moment I saw you I\\'ve treated you like a queen  \\nI\\'ve given you lots of presents  \\nNow listen to that, just look at that cat  \\nYou\\'d think he was an angel but he\\'s talking through his hat  \\nBut if I would have to choose I wouldn\\'t let you go  \\nJust give it some more time and you will see our love will grow  \\nDarling I know  \\n  \\nWe gotta have patience  \\nLove isn\\'t just a sensation  \\nSome of the time it gets rough  \\nLove isn\\'t easy but it sure is hard enough  \\n(sweet sweet, our love is bitter-sweet)  \\nGiving  \\n(sweet sweet, our love is bitter-sweet)  \\nLove is a reason for living  \\n(sweet sweet, our love is bitter-sweet)  \\nBut a few things can be tough  \\nLove isn\\'t easy but it sure is hard enough  \\n(sweet sweet, our love is bitter-sweet)  \\n  \\nPatience  \\n(sweet sweet, our love is bitter-sweet)  \\nLove isn\\'t just a sensation  \\n(sweet sweet, our love is bitter-sweet)  \\nSome of the time it gets rough  \\nLove isn\\'t easy but it sure is hard enough  \\n(sweet sweet, our love is bitter-sweet)  \\nGiving  \\n(sweet sweet, our love is bitter-sweet)  \\nLove is a reason for living  \\n(sweet sweet, our love is bitter-sweet)  \\nBut a few things can be tough  \\nLove isn\\'t easy but it sure is hard enough\\n\\n I\\'ve always hated my room, it\\'s so gloomy and dreary  \\nAlways the dark, for the windows just face the back yard  \\nSo I can\\'t understand how it\\'s happened, how everything\\'s changing  \\nThis old dirty ceiling seems a little whiter  \\nWhen you walked into the room it all got so much brighter  \\n  \\nYou must have a lovelight  \\nEverything around you is lovelight  \\nAnd I can feel your love anywhere (shining)  \\nMaybe even when you\\'re not there (shining)  \\nThe lovelight  \\nEverything around you is lovelight  \\nYou\\'re shining like a star in the night (shining)  \\nI won\\'t let you out of my sight (shining)  \\nI don\\'t want to lose you, I don\\'t want to lose your lovelight  \\n  \\nHow I remember the first time we went to movie  \\nWe had decided to meet on the corner downtown  \\nAnd I waited there when you came up from behind and you kissed me  \\nAnd the traffic seemed to get a little lighter  \\nWhen you came into my life it all got so much brighter  \\n  \\nYou must have a lovelight  \\nEverything around you is lovelight  \\nAnd I can feel your love anywhere (shining)  \\nMaybe even when you\\'re not there (shining)  \\nThe lovelight  \\nEverything around you is lovelight  \\nYou\\'re shining like a star in the night (shining)  \\nI won\\'t let you out of my sight (shining)  \\nI don\\'t want to lose you, I don\\'t want to lose your lovelight  \\n  \\nAnd I feel so good  \\nAnd I feel so right  \\nAnd I know that you must have a lovelight  \\n  \\nYou\\'ve got lovelight  \\nAnd I can feel your love anywhere  \\nMaybe even when you\\'re not there  \\nYou\\'ve got lovelight  \\nEverything around you is lovelight  \\nYou\\'re shining like a star in the night (shining)  \\nI won\\'t let you out of my sight (shining)  \\nI don\\'t want to lose you, I don\\'t want to lose your lovelight  \\n  \\nEverything about you is right  \\nLet it glow and let it be bright  \\nI don\\'t want to lose your lovelight  \\nShining like a star in the night\\n\\n Sit down and listen \\'cause I\\'ve got good news for you  \\nIt was in the papers today  \\nSome physician had made a discovery  \\nThis\\' what she had to say:  \\n(oooh you know that)  \\n  \\nShe said that every result she had backed her  \\nClaiming that love\\'s a longevity factor  \\n  \\nSo lovers live a little longer, baby  \\nYou and me, we got a chance to live twice  \\nLovers live a little longer, ain\\'t that nice  \\nLovers live a little longer, baby  \\nWhat a feeling when I hold you tight  \\nLovers live a little longer, yeah  \\n  \\nI can imagine, I\\'ll see in my fantasy  \\nI\\'ll enjoy every day  \\nMaking love is a dynamite drug, baby  \\nSo why don\\'t we start right away  \\n(ahh, please don\\'t wait)  \\n  \\nI don\\'t care if they\\'re watching \\'cause listen  \\nWe\\'ve got a reason for each time we\\'re kissing  \\n  \\n\\'cause lovers live a little longer, baby  \\nYou and me, we got a chance to live twice  \\nLovers live a little longer, ain\\'t that nice  \\nLovers live a little longer, baby  \\nWhat a feeling when I hold you tight  \\nLovers live a little longer, yeah  \\n  \\nI just don\\'t care if they\\'re watching \\'cause listen  \\nWe\\'ve got a reason for each time we\\'re kissing  \\n  \\n\\'cause lovers live a little longer, baby  \\nYou and me, we got a chance to live twice  \\nLovers live a little longer, ain\\'t that nice  \\nLovers live a little longer, baby  \\nWhat a feeling when I hold you tight  \\nLovers live a little longer, yeah  \\n  \\nLovers live a little longer, baby  \\nYou and me, we got a chance to live twice  \\nLovers live a little longer, yeah\\n\\n [Chorus]  \\nMamma mia, here I go again  \\nMy my, how can I resist you?  \\nMamma mia, does it show again  \\nMy my, just how much I\\'ve missed you?  \\n  \\nYes, I\\'ve been brokenhearted  \\nBlue since the day we parted  \\nWhy, why did I ever let you go?  \\nMamma mia, now I really know  \\nMy my, I could never let you go  \\nI\\'ve been angry and sad about things that you do  \\nI can\\'t count all the times that I\\'ve told you \"we\\'re through\"  \\nAnd when you go, when you slam the door  \\nI think you know that you won\\'t be away too long  \\nYou know that I\\'m not that strong  \\nJust one look and I can hear a bell ring  \\nOne more look and I forget everything  \\n  \\n[Chorus]  \\n  \\nYes, I\\'ve been brokenhearted  \\nBlue since the day we parted  \\nWhy, why did I ever let you go?  \\nMamma mia, even if I say  \\n\"Bye bye, leave me now or never\"  \\nMamma mia, it\\'s a game we play  \\n\"Bye bye\" doesn\\'t mean forever  \\n  \\n[Chorus]  \\n  \\nYes, I\\'ve been brokenhearted  \\nBlue since the day we parted  \\nWhy, why did I ever let you go?  \\nMamma mia, now I really know  \\nMy my, I could never let you go\\n\\n Did you see that man in the limousine  \\nWith the pretty doll, he is fifty and the girl\\'s only seventeen  \\nBut she doesn\\'t care, and she never will  \\nIf he\\'s ninety-five she don\\'t give a damn  \\nJust as long as he pays the bill  \\n  \\nDid you see that man with a fat cigar  \\nHe just left his lunch with a belly full of lobster and caviar  \\nHe can choose the wine from a vintage year  \\nHe will drink champagne in his limousine  \\nWhere the rest of the street can peer  \\n  \\n\\'Cause he\\'s the man in the middle, never second fiddle  \\nJust like a spider in a cobweb  \\nHard as a hammer, not the kind of boss you double-cross  \\n\\'Cause he\\'s the man in the middle, knows the way to diddle  \\nHe\\'s never bothered by his conscience  \\nDeals with the Devil, \\'cause he wants to be  \\nMan in the middle, the middle, the middle  \\nIn the middle (in the middle, in the middle)  \\n  \\nBut you see that man made a big mistake  \\nEven though he\\'s got all his servants and a mansion beside a lake  \\nAnd the money too, all that he can spend  \\nHe can buy the most, nearly anything  \\nBut he can\\'t buy the lot, his friend  \\n  \\n\\'Cause he\\'s the man in the middle, never second fiddle  \\nJust like a spider in a cobweb  \\nHard as a hammer, not the kind of boss you double-cross  \\n\\'Cause he\\'s the man in the middle, knows the way to diddle  \\nHe\\'s never bothered by his conscience  \\nDeals with the Devil, \\'cause he wants to be  \\nMan in the middle, the middle, the middle  \\nIn the middle (in the middle, in the middle)\\n\\n Well, there was me and Bobby and Bobby\\'s brother  \\nPlease take me back to that place  \\nWhere I\\'ve got all my memories, those were my happiest days  \\n  \\nI remember all the games we used to play  \\nI really do  \\nAnd I went to see them almost everyday  \\nI wanted to  \\nThough we quarreled at times and had a few fights  \\nWe were the best of friends  \\nWe found a place in the sun  \\nA heaven of fun  \\n  \\nWell, there was me and Bobby and Bobby\\'s brother  \\nWildest kids you could see  \\nWe could play together, climbing the apple tree  \\nYes, there was me and Bobby and Bobby\\'s brother  \\nPlease take me back to that place  \\nWhere I\\'ve got all my memories, those were my happiest days  \\n  \\nThey would take me out for football games and such  \\nThey liked to play  \\nAnd I guess I didn\\'t like it very much  \\nBut anyway  \\nI was happy and proud to be with the boys  \\nBeing a little girl  \\nI found a place in the sun  \\nA heaven of fun  \\n  \\nWell, there was me and Bobby and Bobby\\'s brother  \\nWildest kids you could see  \\nWe could play together, climbing the apple tree  \\nWell, there was me and Bobby and Bobby\\'s brother  \\nPlease take me back to that place  \\nWhere I\\'ve got all my memories, those were my happiest days  \\n  \\nWell, there was me and Bobby and Bobby\\'s brother  \\nPlease take me back to that place  \\nWhere I\\'ve got all my memories, those were my happiest days  \\n  \\nGot all my memories, those were my happiest days  \\nWhere I\\'ve got all my memories, those were my happiest days  \\nGot all my memories, those were my happiest days  \\nWhere I\\'ve got all my memories, those were my happiest days  \\nGot all my memories, those were my happiest days  \\nWhere I\\'ve got all my memories, those were my happiest days\\n\\n Sometimes when I\\'m mad  \\nThere\\'s a part of me that seems to be a little sad  \\nSometimes when I scream  \\nThere\\'s a voice in me that says, \"You shouldn\\'t be so mean\"  \\nOh no, oh no  \\nPart of me is acting while the other stands beside  \\nYes, I am to myself what Jekyll must have been to Hyde  \\n  \\nWe\\'re like sun and rainy weather  \\nSometimes we\\'re a hit together  \\nMe and I  \\nGloomy moods and inspiration  \\nWe\\'re a funny combination  \\nMe and I  \\nI don\\'t think I\\'m different or in any way unique  \\nThink about yourself for a minute  \\nAnd you\\'ll find the answer in it  \\nEveryone\\'s a freak  \\n  \\nSometimes I have toyed  \\nWith ideas that I got from good old Dr Freud  \\nNothing new of course  \\nIt may seem to you I try to break through open doors  \\nOh no, oh no  \\nI just want to say a lot of that applies to me  \\n\\'Cause it\\'s an explanation to my split identity  \\n  \\nWe\\'re like sun and rainy weather  \\nSometimes we\\'re a hit together  \\nMe and I  \\nGloomy moods and inspiration  \\nWe\\'re a funny combination  \\nMe and I  \\nI don\\'t think I\\'m different or in any way unique  \\nThink about yourself for a minute  \\nAnd you\\'ll find the answer in it  \\nEveryone\\'s a freak  \\n  \\nMe and I  \\n  \\nWe\\'re like sun and rainy weather  \\nSometimes we\\'re a hit together  \\nMe and I  \\nGloomy moods and inspiration  \\nWe\\'re a funny combination  \\nMe and I  \\nI don\\'t think I\\'m different or in any way unique  \\nThink about yourself for a minute  \\nAnd you\\'ll find the answer in it  \\nEveryone\\'s a freak  \\n  \\nWe\\'re like sun and rainy weather  \\nSometimes we\\'re a hit together  \\nMe and I  \\nGloomy moods and inspiration  \\nWe\\'re a funny combination  \\nMe and I\\n\\n I have tried in vain never had success  \\nSo it seems my life is nothing but a mess  \\nI have lost my only friend  \\nNow it seems I have to start again  \\n  \\nMerry-go-round  \\nWhere am I bound  \\nWith my love and feelings  \\nMerry-go-round  \\n  \\nWho wants to kiss me  \\nAnd hug me and miss me  \\nYes, who wants to do it  \\nI wish that I knew it  \\n  \\nMerry-go-round  \\nWish I had found  \\nSomebody to care for  \\nWhere am I bound  \\n  \\nLife is so lonely  \\nIf life is just only  \\nTo love with my loving  \\nGoes round and round  \\n  \\nLooking for someone  \\nWho would want to stay  \\nI might find her  \\nWith a bit of luck one day  \\n  \\nBut who knows  \\nSo until then  \\nI can only try and try again  \\n  \\nMerry-go-round  \\nWhere am I bound  \\nWith my love and feelings  \\nMerry-go-round  \\n  \\nWho wants to kiss me  \\nAnd hug me and miss me  \\nYes, who wants to do it  \\nI wish that I knew it  \\n  \\nMerry-go-round  \\nWish I had found  \\nSomebody to care for  \\nWhere am I bound  \\n  \\nLife is so lonely  \\nIf life is just only  \\nTo love with my loving  \\nGoes round and round  \\n  \\nMerry-go-round  \\nWhere am I bound  \\nWith my love and feelings  \\nMerry-go-round  \\n  \\nWho wants to kiss me  \\nAnd hug me and miss me  \\nYes, who wants to do it  \\nI wish that I knew it  \\n  \\nMerry-go-round  \\nWish I had found  \\nSomebody to care for  \\nWhere am I bound  \\n  \\nLife is so lonely  \\nIf life is just only  \\nTo love with my loving  \\nGoes round and round\\n\\n Well, you wake up in the morning  \\nHear the ding-dong ring  \\nYou go marching to the table  \\nSee the same old thing  \\nSee the fork on the table  \\nNothing in your pan  \\nIf you sing a thing about it  \\nYou\\'re in trouble with the man  \\n  \\nLet the midnight special shine a light on me  \\nLet the midnight special shine it\\'s ever loving light on me  \\n  \\nIf you ever go to houston  \\nWell, you better act right  \\nAnd you better not gamble  \\nAnd you better not fight  \\nFor the sheriff will arrest you  \\nThen he\\'ll take you down  \\nAnd before you understand it  \\nYou are prison bound  \\n  \\nLet the midnight special  \\nShine a light on me  \\nLet the midnight special  \\nShine it\\'s ever loving light on me  \\nOn me, on me\\n\\n I work all night, I work all day, to pay the bills I have to pay  \\nAin\\'t it sad  \\nAnd still there never seems to be a single penny left for me  \\nThat\\'s too bad  \\nIn my dreams I have a plan  \\nIf I got me a wealthy man  \\nI wouldn\\'t have to work at all, I\\'d fool around and have a ball...  \\n  \\nMoney, money, money  \\nMust be funny  \\nIn the rich man\\'s world  \\nMoney, money, money  \\nAlways sunny  \\nIn the rich man\\'s world  \\nAha-ahaaa  \\nAll the things I could do  \\nIf I had a little money  \\nIt\\'s a rich man\\'s world  \\n  \\nA man like that is hard to find but I can\\'t get him off my mind  \\nAin\\'t it sad  \\nAnd if he happens to be free I bet he wouldn\\'t fancy me  \\nThat\\'s too bad  \\nSo I must leave, I\\'ll have to go  \\nTo Las Vegas or Monaco  \\nAnd win a fortune in a game, my life will never be the same...  \\n  \\nMoney, money, money  \\nMust be funny  \\nIn the rich man\\'s world  \\nMoney, money, money  \\nAlways sunny  \\nIn the rich man\\'s world  \\nAha-ahaaa  \\nAll the things I could do  \\nIf I had a little money  \\nIt\\'s a rich man\\'s world  \\n  \\nMoney, money, money  \\nMust be funny  \\nIn the rich man\\'s world  \\nMoney, money, money  \\nAlways sunny  \\nIn the rich man\\'s world  \\nAha-ahaaa  \\nAll the things I could do  \\nIf I had a little money  \\nIt\\'s a rich man\\'s world  \\n  \\nIt\\'s a rich man\\'s world\\n\\n They say a restless body can hide a peaceful soul.  \\nA voyager, ad a settler, they both have a distant goal.  \\nIf I explore the heavens, or if I search inside.  \\nWell, it really doesn\\'t matter as long as I can tell myself  \\nI\\'ve always tried.  \\n  \\nLike a roller in the ocean, life is motion  \\nMove on  \\nLike a wind that\\'s always blowing, life is flowing  \\nMove on  \\nLike the sunrise in the morning, life is dawning  \\nMove on  \\nHow I treasure every minute  \\nBeing part of it, being in it  \\nWith the urge to move on  \\n  \\nI\\'ve travelled every country, I\\'ve travelled in my mind  \\nIt seems we\\'re on a journey, a trip through space and time  \\nAnd somewhere lies the answer  \\nTo all the questions why  \\nWhat really makes the difference  \\nBetween all dead and living things, the will to stay alive  \\n  \\nLike a roller in the ocean (la la la la la la-la)  \\nLife is motion (la la la la la la-la)  \\nMove on (la la la la-la)  \\nLike a wind that\\'s always blowing (la la la la la la-la)  \\nLife is flowing (la la la la la la-la)  \\nMove on (la la la la-la)  \\nLike the sunrise in the morning (la la la la la la-la)  \\nLife is dawning (la la la la la la-la)  \\nMove on (la la la la-la)  \\nHow I treasure every minute (la la la la)  \\nBeing part of it (la la la la)  \\nBeing in it (la la la la)  \\nWith the urge to move on  \\n  \\nThe morning breeze that ripples the surface of the sea  \\nThe crying of the seagulls that hover over me  \\nI see it and I hear it  \\nBut how can I explain  \\nThe wonder of the moment  \\nTo be alive, to feel the sun that follows every rain  \\n  \\nLike a roller in the ocean (la la la la la la-la)  \\nLife is motion (la la la la la la-la)  \\nMove on (la la la la-la)  \\nLike a wind that\\'s always blowing (la la la la la la-la)  \\nLife is flowing (la la la la la la-la)  \\nMove on (la la la la-la)  \\nLike the sunrise in the morning (la la la la la la-la)  \\nLife is dawning (la la la la la la-la)  \\nMove on (la la la la-la)  \\nHow I treasure every minute (la la la la)  \\nBeing part of it (la la la la-ah)  \\nBeing in it  \\nWith the urge to move on  \\n  \\nLa la la la la la-la, la la la la la la-la, la la la la-la  \\nLike a wind that\\'s always blowing  \\nLa la la la la la-la  \\nLa la la la la la-la (life is flowing)  \\nLa la la la-la (move on)  \\nLike the sunrise in the morning  \\nLa la la la la la-la  \\nLa la la la la la-la (life is dawning)  \\nLa la la la-la (move on)  \\nHow I treasure every minute (la la la la)  \\nBeing part of it (la la la la-ah)  \\nBeing in it  \\nWith the urge to move on  \\nLa la la la la la-la, la la la la la la-la, la la la la-la  \\nLike a wind that\\'s always blowing...  \\n\\n I\\'ve seen it on your face  \\nTells me more than any worn out old phrase  \\nSo now we\\'ll go separate ways  \\nNever again we two  \\nNever again, nothing I can do  \\n  \\nLike an image passing by, my love, my life  \\nIn the mirror of your eyes, my love, my life  \\nI can see it all so clearly  \\nAnswer me sincerely  \\nWas it a dream, a lie  \\nLike reflections of your mind, my love, my life  \\nAre the words you try to find, my love, my life  \\nBut I know I don\\'t posses you  \\nSo go away, God bless you  \\nYou are still my love and my life  \\nStill my one and only  \\n  \\nI\\'ve watched you look away  \\nTell me is it really so hard to say  \\nOh, this has been my longest day  \\nSitting here close to you  \\nKnowing that maybe tonight we\\'re trough  \\n  \\nLike an image passing by, my love, my life  \\nIn the mirror of your eyes, my love, my life  \\nI can see it all so clearly  \\nAnswer me sincerely  \\nWas it a dream, a lie  \\nLike reflections of your mind, my love, my life  \\nAre the words you try to find, my love, my life  \\nBut I know I don\\'t posses you  \\nSo go away, God bless you  \\nYou are still my love and my life  \\n  \\nYes, I know I don\\'t posses you  \\nSo go away, God bless you  \\nYou are still my love and my life  \\nStill my one and only\\n\\n Tried to sneak out without saying  \\nWith my loudest record playing  \\nOoh, my mama said, \"Look at this, you haven\\'t done your bed\"  \\nMy mama said, \"That\\'s a thing that you should do instead\"  \\n  \\nThen I did what she had told me  \\nDying for my friend to hold me  \\nOoh, my mama said, \"Try and get one thing into your head\"  \\nMy mama said, \"Pa and me, we give you room and bed\"  \\nHow I want to live my life  \\nWant to live my life  \\nLa-la-la, la-la-la, life  \\n  \\nIn the morning she said \"Listen\"  \\nOoh, I felt like in a prison  \\nYeah, my mama said, \"I know you\\'ve been out again with Fred\"  \\n(My mama said)  \\nMy mama said, \"Don\\'t you lie, your cheeks are blushing red\"  \\n(My mama said)  \\nOh I want to live my life  \\nWant to live my life  \\nLa-la-la, la-la-la, life  \\n  \\nI said I can live without it  \\nHow I wish you wouldn\\'t doubt it  \\nOoh, my mama said, \"If you want to hurt me go ahead\"  \\n(My mama said)  \\nMy mama said, \"I suppose you\\'d rather see me dead\"  \\n(My mama said)  \\nOh I want to live my life  \\nWant to live my life  \\nLa-la-la, la-la-la, life [Repeat: x4]\\n\\n Every day in the morning on her way to the office  \\nYou can see as she catches a train  \\nJust a face among a million faces  \\nJust another woman with no name  \\nNot the girl you\\'d remember but she\\'s still something special  \\nIf you knew her I am sure you\\'d agree  \\n\\'Cause I know she\\'s got a little secret  \\nFriday evening she turns out to be  \\n  \\nNina, pretty ballerina, now she is the queen of the dancing floor  \\nThis is the moment she\\'s waited for  \\nJust like Cinderella, just like Cinderella  \\nNina, pretty ballerina, who would ever think she could be this way  \\nThis is the part that she likes to play  \\nBut she knows the fun would go away  \\nIf she would play it every day  \\n  \\nSo she\\'s back every morning to her work at the office  \\nAnd another week to live in a dream  \\nAnd another row of early mornings  \\nIn an almost never-ending stream  \\nDoesn\\'t talk very often, kind of shy and uncertain  \\nEverybody seems to think she\\'s a bore  \\nBut they wouldn\\'t know her little secret  \\nWhat her Friday night would have in store  \\n  \\nNina, pretty ballerina, now she is the queen of the dancing floor  \\nThis is the moment she\\'s waited for  \\nJust like Cinderella, just like Cinderella  \\nNina, pretty ballerina, who would ever think she could be this way  \\nThis is the part that she likes to play  \\nShe would like to play it every day  \\n  \\nNina, pretty ballerina, now she is the queen of the dancing floor  \\nThis is the moment she\\'s waited for  \\nJust like Cinderella, just like Cinderella  \\nNina, pretty ballerina, who would ever think she could be this way  \\nThis is the part that she likes to play\\n\\n I was at a party  \\nAnd this feller said to me  \\nSomething bad is happening  \\nI\\'m sure you do agree  \\nPeople care for nothing  \\nNo respect for human rights  \\nEvil times are coming  \\nWe are in for darker nights?  \\nI said who are you  \\nTo talk about impending doom?  \\nHe got kinda wary  \\nAs he looked around the room  \\nHe said, I\\'m a minister  \\nA big shot in the state?  \\nI said I just can\\'t  \\nBelieve it, boy  \\nI think it\\'s great  \\nBrother can you tell me  \\nWhat is right and what is wrong?  \\nHe said, keep on rocking baby  \\n\\'Til the night is gone?  \\n  \\nOn and on and on  \\nKeep on rocking baby  \\n\\'Til the night is gone  \\n  \\nOver in the corner  \\nI could see this other guy  \\nHe was kinda flirty  \\nHe was giving me the eye  \\nSo I took advantage  \\nOf the fact that I\\'m a star  \\nShook my hair and took  \\nA casual stroll up to the bar  \\nAnd as sure as hell  \\nThis guy was coming up to me  \\nHe said, who am I and  \\nWho are you and who are we  \\nWhat\\'s our situation do  \\nWe have some time for us?  \\nI said, I was not exactly  \\nWaiting for the bus  \\nHe said, if you\\'re going  \\nSomewhere can I come along?  \\nI said, keep on rocking baby  \\n\\'Til the night is gone?  \\n  \\nOn and on and on  \\nKeep on rocking baby  \\n\\'Til the night is gone\\n\\n No smiles, not a single word at the breakfast table  \\nThough I would have liked to begin  \\nSo much that I want to say, but I feel unable  \\nYou leave and you slam the door  \\nLike you\\'ve done many times before  \\nAnd I cry and I feel so helpless  \\n  \\nOne man, one woman  \\nTwo friends and two true lovers  \\nSomehow we\\'ll help each other through the hard times  \\nOne man, one woman  \\nOne life to live together  \\nOne chance to take that never comes back again  \\nYou and me \\'till the end  \\n  \\nOutside I can see the sun trough the open window  \\nInside everything feel so cold  \\nWhat\\'s wrong, what is happening, where did all our love go  \\nSomethimes when I just can\\'t cope  \\nI cling to a desperate hope  \\nAnd I cry and I feel like dying  \\n  \\nOne man, one woman  \\nTwo friends and two true lovers  \\nSomehow we\\'ll help each other through the hard times  \\nOne man, one woman  \\nOne life to live together  \\nOne chance to take that never comes back again  \\nYou and me \\'till the end  \\n  \\nDaydreams of a better life, but I have to wake up  \\nThe sound of a key in the door  \\nYou smile and I realize that we need a shake up  \\nOur love is a precious thing  \\nWorth the pain and the suffering  \\nAnd it\\'s never too late for changin\\'  \\n  \\nOne man, one woman  \\nTwo friends and two true lovers  \\nSomehow we\\'ll help each other through the hard times  \\nOne man, one woman  \\nOne life to live together  \\nOne chance to take that never comes back again  \\nYou and me \\'till the end  \\n  \\nYou and me till\\' the end\\n\\n They passed me by, all of those great romances  \\nYou were, I felt, robbing me of my rightful chances  \\nMy picture clear, everything seemed so easy  \\nAnd so I dealt you the blow  \\nOne of us had to go  \\nNow it\\'s different, I want you to know  \\n  \\nOne of us is crying  \\nOne of us is lying  \\nIn her lonely bed  \\nStaring at the ceiling  \\nWishing she was somewhere else instead  \\nOne of us is lonely  \\nOne of us is only  \\nWaiting for a call  \\nSorry for herself, feeling stupid feeling small  \\nWishing she had never left at all  \\n  \\nI saw myself as a concealed attraction  \\nI felt you kept me away from the heat and the action  \\nJust like a child, stubborn and misconceiving  \\nThat\\'s how I started the show  \\nOne of us had to go  \\nNow I\\'ve changed and I want you to know  \\n  \\nOne of us is crying  \\nOne of us is lying  \\nIn her lonely bed  \\nStaring at the ceiling  \\nWishing she was somewhere else instead  \\nOne of us is lonely  \\nOne of us is only  \\nWaiting for a call  \\nSorry for herself, feeling stupid feeling small  \\nWishing she had never left at all  \\nNever left at all  \\n  \\nStaring at the ceiling  \\nWishing she was somewhere else instead  \\nOne of us is lonely  \\nOne of us is only  \\nWaiting for a call  \\n\\n The summer air was soft and warm  \\nThe feeling right, the Paris night  \\nDid it\\'s best to please us  \\nAnd strolling down the Elysee  \\nWe had a drink in each cafe  \\nAnd you  \\nYou talked of politics, philosophy and I  \\nSmiled like Mona Lisa  \\nWe had our chance  \\nIt was a fine and true romance  \\n  \\nI can still recall our last summer  \\nI still see it all  \\nWalks along the Seine, laughing in the rain  \\nOur last summer  \\nMemories that remain  \\n  \\nWe made our way along the river  \\nAnd we sat down in the grass  \\nBy the Eiffel tower  \\nI was so happy we had met  \\nIt was the age of no regret  \\nOh yes  \\nThose crazy years, that was the time  \\nOf the flower-power  \\nBut underneath we had a fear of flying  \\nOf getting old, a fear of slowly dying  \\nWe took the chance  \\nLike we were dancing our last dance  \\n  \\nI can still recall our last summer  \\nI still see it all  \\nIn the tourist jam, round the Notre Dame  \\nOur last summer  \\nWalking hand in hand  \\n  \\nParis restaurants  \\nOur last summer  \\nMorning croissants  \\nLiving for the day, worries far away  \\nOur last summer  \\nWe could laugh and play  \\n  \\nAnd now you\\'re working in a bank  \\nThe family man, the football fan  \\nAnd your name is Harry  \\nHow dull it seems  \\nAre you the hero of my dreams  \\n  \\nI can still recall our last summer  \\nI still see it all  \\nWalks along the Seine, laughing in the rain  \\nOur last summer  \\nMemories that remain  \\nI can still recall our last summer  \\nI still see it all  \\nIn the tourist jam, round the Notre Dame  \\nOur last summer  \\nWalking hand in hand  \\nParis restaurants  \\nOur last summer  \\nMorning croissants  \\nLiving for the day, worries far away...\\n\\n People need hope, people need lovin\\'  \\nPeople need trust from a fellow man  \\nPeople nee love to make a good livin\\'  \\nPeople need faith in a helping hand  \\n  \\nMan has alway wanted a woman by his side  \\nTo keep him company  \\nWomen always knew that it takes a man to get  \\nMatrimony and harmony  \\nEverybody knows that a man who\\'s feeling down  \\nWants some female company  \\nGotta have love to carry on living  \\nGotta have love \\'til eternity  \\n  \\nPeople need hope, people need lovin\\'  \\nPeople need trust from a fellow man  \\nPeople nee love to make a good livin\\'  \\nPeople need faith in a helping hand  \\n  \\nLa la la la, la la la la la  \\nLa la la la, la la la la la  \\nLa la la la, la la la la la  \\nLa la la la, la la la la la  \\n  \\nFlowers in a desert need a drop of rain  \\nLike a woman needs a man  \\nIf a man\\'s in love and his woman wants the moon  \\nThen he\\'ll take it down if he can  \\nSomebody who loves you and somebody who cares  \\nIsn\\'t that what you call a friend  \\nGotta have love to carry on living  \\nIsn\\'t it easy to understand  \\n  \\nPeople need hope, people need lovin\\'  \\nPeople need trust from a fellow man  \\nPeople nee love to make a good livin\\'  \\nPeople need faith in a helping hand  \\n  \\nLa la la la, la la la la la  \\nLa la la la, la la la la la  \\nLa la la la, la la la la la  \\nLa la la la, la la la la la  \\n  \\nPeople need hope, people need lovin\\'  \\nPeople need trust from a fellow man  \\nPeople nee love to make a good livin\\'  \\nPeople need faith in a helping hand  \\n  \\nLa la la la, la la la la la  \\nLa la la la, la la la la la  \\nLa la la la, la la la la la  \\nLa la la la, la la la la la\\n\\n Gonna jump down  \\nSpin around  \\nPick a bale of cotton  \\nGonna jump down  \\nSpin around  \\nPick a bale a day  \\n  \\nGonna jump down  \\nSpin around  \\nPick a bale of cotton  \\nGonna jump down  \\nSpin around  \\nPick a bale a day  \\n  \\nOh, lordy  \\nPick a bale of cotton  \\nOh, lordy  \\nPick a bale a day  \\nOh, lordy  \\nPick a bale of cotton  \\nOh, lordy  \\nPick a bale a day  \\n  \\nI said  \\nMe and my buddy gonna pick a bale of cotton  \\nNow  \\nMe and my buddy gonna pick a bale a day  \\nI said  \\nMe and my buddy gonna pick a bale of cotton  \\nNow  \\nMe and my buddy gonna pick a bale a day  \\n  \\nOh, lordy  \\nPick a bale of cotton  \\nOh, lordy  \\nPick a bale a day  \\nOh, lordy  \\nPick a bale of cotton  \\nOh, lordy  \\nPick a bale a day\\n\\n Put on your white sombrero  \\nSaddle your horse my dear  \\nAnd ride off into the sunset  \\nYou\\'d better go  \\nFor there is no  \\nPlace for you here  \\nLike and old fashioned hero  \\nYou stand before me  \\nYou think our life is a movie  \\nMy world is real  \\nI live and feel  \\nAnd I can do without you  \\nPut on your white sombrero  \\nYour red bandana too  \\nThink of this day as a showdown  \\nGoodbye my friend  \\nThis is the end  \\nFor me and you  \\nNow be a bold vacquero  \\nDon\\'t show your feelings  \\nI\\'ll cry while you\\'re disappearing  \\nInto the night  \\nAll dressed in white  \\nUnchained and free without me  \\nPut on your white sombrero  \\nLike all the cowboys do  \\nGo find a sweet senorita  \\nSomebody meek  \\nWho\\'ll never speak  \\nHarshly to you  \\nYou\\'re such a cavaliero  \\nProud, never bending  \\nI want someone who will take me  \\nJust as I am  \\nI need a man  \\nWho is in rhyme  \\nWith his time  \\nYou\\'ll never take me  \\nJust as I am  \\nI need a man  \\nWho is in rhyme  \\nWith his time  \\n\\n You can dance  \\nYou can jive  \\nHaving the time of your life  \\nSee that girl  \\nWatch that scene  \\nDig in the dancing queen  \\n  \\nFriday night and the lights are low  \\nLooking out for a place to go  \\nWhere they play the right music  \\nGetting in the swing  \\nYou come to look for a king  \\nAnybody could be that guy  \\nNight is young and the music\\'s high  \\nWith a bit of rock music  \\nEverything is fine  \\nYou\\'re in the mood for a dance  \\nAnd when you get the chance  \\n  \\nYou are the dancing queen  \\nYoung and sweet  \\nOnly seventeen  \\nDancing queen  \\nFeel the beat from the tambourine  \\nYou can dance  \\nYou can jive  \\nHaving the time of your life  \\nSee that girl  \\nWatch that scene  \\nDig in the dancing queen  \\n  \\nYou\\'re a teaser, you turn \\'em on  \\nLeave \\'em burning and then you\\'re gone  \\nLooking out for another  \\nAnyone will do  \\nYou\\'re in the mood for a dance  \\nAnd when you get the chance  \\n  \\nYou are the dancing queen  \\nYoung and sweet  \\nOnly seventeen  \\nDancing queen  \\nFeel the beat from the tambourine  \\nYou can dance  \\nYou can jive  \\nHaving the time of your life  \\nSee that girl  \\nWatch that scene  \\nDig in the dancing queen, digging the dancing queen\\n\\n Rikky Rock\\'n Roller now that you\\'re the headline  \\nRikky Rock\\'n Roller don\\'t it make you feel fine  \\nIs it true to hear the fans scream  \\nTo stand in the lights is just like a dream  \\nWhat a dream  \\nTo be what you are, a rock and roll star  \\nTo make such a lot of money  \\nWould be funny  \\nOh I wish I could be like you Rikky Rock\\'n Roller  \\n  \\nToday a new jet plane  \\nTonight it\\'s a new hotel  \\nYou live in your own world  \\nYou\\'re under a magic spell  \\nRikky Rock\\'n Roller now that you\\'re the headline  \\nRikky Rock\\'n Roller don\\'t it make you feel fine  \\nIs it true (Rock\\'n Roller )  \\nTo hear the fans scream  \\nTo stand in the lights is just like a dream (Rikky Rock\\'n Roller )  \\nWhat a dream (Rock\\'n Roller )  \\nTo be what you are, a rock and roll star  \\nTo make such a lot of money  \\nWould be funny  \\nOh I wish I could be like you Rikky Rock\\'n Roller  \\nOh I wish I could be like you Rikky Rock\\'n Roller  \\nOh I wish I could be like you Rikky Rock\\'n Roller\\n\\n I was sitting by the phone  \\nI was waiting all alone  \\nBaby by myself I sit and wait and wonder about you  \\nIt\\'s a dark and dreary night  \\nSeems like nothing\\'s going right  \\nWon\\'t you tell me honey how can I go on here without you?  \\n  \\nYes I\\'m down and feeling blue  \\nAnd I don\\'t know what to do, oh-oh  \\n  \\nRing, ring, why don\\'t you give me a call?  \\nRing, ring, the happiest sound of them all  \\nRing, ring, I stare at the phone on the wall  \\nAnd I sit all alone impatiently  \\nWon\\'t you please understand the need in me  \\nSo, ring, ring, why don\\'t you give me a call?  \\nSo, ring, ring, why don\\'t you give me a call?  \\n  \\nYou were here and now you\\'re gone  \\nHey did I do something wrong?  \\nI just can\\'t believe that I could be so badly mistaken  \\nWas it me or was it you?  \\nTell me, are we really through?  \\nWon\\'t you hear me cry and you will know that my heart is breaking  \\n  \\nPlease forgive and then forget  \\nOr maybe darling better yet, oh-oh  \\n  \\nRing, ring, why don\\'t you give me a call?  \\nRing, ring, the happiest sound of them all  \\nRing, ring, I stare at the phone on the wall  \\nAnd I sit all alone impatiently  \\nWon\\'t you please understand the need in me  \\nSo, ring, ring, why don\\'t you give me a call?  \\nSo, ring, ring, why don\\'t you give me a call?  \\nOh-oh, ring, ring, why don\\'t you give me a call?  \\nSo, ring, ring, why don\\'t you give me a call?  \\n\\n Rock me, give me that kick now  \\nRock me, show me that trick now  \\nRoll me, you can do magic  \\nBaby, and I can\\'t get enough of it  \\nRock me, give me that feeling  \\nRoll me, rocking and reeling  \\nBaby, so don\\'t stop doing it, don\\'t stop doing it, now  \\n(Don\\'t stop the rocking, don\\'t stop the rocking  \\nI said don\\'t stop the rocking)  \\n  \\nwant to be want to be in my baby\\'s arms  \\nGonna be gonna be  \\nNice and gentle if you want me to  \\nJust as long as I\\'m in love with you  \\nYours for ever, honey, that\\'s what I  \\nwant to be want to be want to be, yeah  \\n  \\nRock me, give me that kick now  \\nRock me, show me that trick now  \\nRoll me, you can do magic  \\nBaby, and I can\\'t get enough of it  \\nRock me, give me that feeling  \\nRoll me, rocking and reeling  \\nBaby, so don\\'t stop doing it, don\\'t stop doing it, now  \\n(Don\\'t stop the rocking, don\\'t stop the rocking  \\nI said don\\'t stop the rocking)  \\n  \\nwant to be want to be with the one that I love, love, love  \\nGonna be gonna be  \\nWith you baby every single night  \\nI can teach you how to rock all right  \\nYour sweet lover, honey, that\\'s what I  \\nwant to be want to be want to be, yeah  \\n  \\nRock me, give me that kick now  \\nRock me, show me that trick now  \\nRoll me, you can do magic  \\nBaby, and I can\\'t get enough of it  \\nRock me, give me that feeling  \\nRoll me, rocking and reeling  \\nBaby, so don\\'t stop doing it, don\\'t stop doing it  \\nRock me (rock me), give me that kick now  \\nRoll me (roll me), show me that trick now  \\nBaby, so don\\'t stop doing it, don\\'t stop doing it  \\nRock me (rock me), give me that feeling  \\nRoll me (roll me), rocking and reeling  \\nBaby, so don\\'t stop doing it, don\\'t stop doing it\\n\\n Sitting in the darkest corner  \\nIn the tender light I saw her face  \\nShe was looking so sad and lonely  \\nSomeone help me, someone save me  \\nI could see the look she gave me, oh  \\nOh yeah, and there was one thing only  \\nThat I knew I could do  \\n  \\nLet\\'s go girl  \\nIt\\'s a beautiful place this world  \\nCome on baby let\\'s dance  \\nTo the rock\\'n\\'roll band  \\nLet\\'s go now  \\nLet me show you that I know how  \\nCome on baby let\\'s dance  \\nTo the rock\\'n roll band  \\nCome on baby let\\'s dance  \\nTo the rock\\'n roll band  \\nYou\\'ve been sitting there for hours  \\nTry to hide behind the flowers now  \\nBaby, we could have fun together  \\nCome on, cheer up, let\\'s get started  \\nNo use being broken-hearted now  \\nOh yeah, you\\'re gonna feel much better  \\nYes I know that you will  \\n  \\nLet\\'s go girl  \\nIt\\'s a beautiful place this world  \\nCome on baby let\\'s dance  \\nTo the rock\\'n roll band  \\nLet\\'s go now  \\nLet me show you that I know how  \\nCome on baby let\\'s dance  \\nTo the rock\\'n roll band  \\nCome on baby let\\'s dance  \\nTo the rock\\'n roll band\\n\\n The poster on the wall of a dear friend  \\nI wish there was a way that I could show you how your songs set me free  \\nThe hero of them all  \\nYou\\'re a legend  \\nI guess I\\'ll never get a chance to know you  \\nStill you\\'re close as can be  \\n  \\nMake the bandstand to a dreamland, Rubber Ball Man  \\nClapping your hands, let your feet dance, Rubber Ball Man  \\nWhen you\\'re jumping up and down, nobody\\'s standing still  \\nSome of us dreaming, some of us screaming  \\nLook at your fans, how we love you, Rubber Ball Man!\\n\\n Where are those happy days, they seem so hard to find  \\nI tried to reach for you, but you have closed your mind  \\nWhatever happened to our love?  \\nI wish I understood  \\nIt used to be so nice, it used to be so good  \\n  \\nSo when you\\'re near me, darling can\\'t you hear me  \\nS. O. S.  \\nThe love you gave me, nothing else can save me  \\nS. O. S.  \\nWhen you\\'re gone  \\nHow can I even try to go on?  \\nWhen you\\'re gone  \\nThough I try how can I carry on?  \\n  \\nYou seem so far away though you are standing near  \\nYou made me feel alive, but something died I fear  \\nI really tried to make it out  \\nI wish I understood  \\nWhat happened to our love, it used to be so good  \\n  \\nSo when you\\'re near me, darling can\\'t you hear me  \\nS. O. S.  \\nThe love you gave me, nothing else can save me  \\nS. O. S.  \\nWhen you\\'re gone  \\nHow can I even try to go on?  \\nWhen you\\'re gone  \\nThough I try how can I carry on?  \\n  \\nSo when you\\'re near me, darling can\\'t you hear me  \\nS. O. S.  \\nAnd the love you gave me, nothing else can save me  \\nS. O. S.  \\nWhen you\\'re gone  \\nHow can I even try to go on?  \\nWhen you\\'re gone  \\nThough I try how can I carry on?  \\nWhen you\\'re gone  \\nHow can I even try to go on?  \\nWhen you\\'re gone  \\nThough I try how can I carry on?\\n\\n Frida  \\nHe stands  \\nTowering over me beside my bed  \\nLosing his head  \\n  \\nTells me  \\nI must take him seriously  \\nDroning on the usual way  \\nHe\\'s such a clever guy  \\n  \\nAnd I wonder  \\nShould I laugh or cry  \\nHe\\'s dressed  \\nIn the striped pyjamas that I bought  \\n  \\nTrousers too short  \\nGives me  \\nOn his small philosophy  \\nCarries on the way he does  \\n  \\nAnd me I get so tired  \\nAnd I wonder  \\nShould I laugh or cry  \\nAgnetha, Frida  \\n  \\nHigh and mighty, his banner flies  \\nA fool\\'s pride in his eyes  \\nStanding there on his toes  \\nTo grow in size  \\n  \\nAll I see is a big balloon  \\nHalfway up to the moon  \\nHe\\'s wrapped up in the warm  \\nAnd save cocoon  \\n  \\nOf an eternal lie  \\nSo should I laugh or cry  \\nFrida  \\nStrange how  \\n  \\nDangerously indifferent I have grown  \\nCold as a stone  \\nNo more  \\nPain as there was pain before  \\n  \\nFar away he rambles on  \\nI feel my throat go dry  \\nAnd I wonder  \\nShould I laugh or cry  \\n  \\nAgnetha,  \\nFrida High and mighty, his banner flies  \\nA fool\\'s pride in his eyes  \\nStanding there on his toes  \\n  \\nTo grow in size  \\nAll I see is a big balloon  \\nHalfway up to the moon  \\nHe\\'s wrapped up in the warm  \\n  \\nAnd save cocoon  \\nOf an eternal lie  \\nSo should I laugh or cry\\n\\n See me sitting in the palm tree  \\nLooking down at people passing by  \\nSitting here no-one can harm me  \\nThey just stare at me and wonder why  \\nNo need to bother, I\\'m gonna stay up here  \\nWhatever happens, I won\\'t let no-one near  \\nUntil you tell me, Jeanie Jeanie on my mind, won\\'t you please  \\nYou really love me, Jeanie Jeanie you\\'re so fine, yes you are now  \\nAnd in the evening, when the sun goes down  \\nI\\'ll be the bluest of men in this town  \\n\\'Cause I love you, Jeanie Jeanie on my mind  \\n  \\nSee me sitting in the palm tree  \\nWaiting for those little words from you  \\nPeople laugh and point their fingers  \\nLike I was a monkey at the zoo  \\nBut I will stay here, among my coconuts  \\nSo you will know dear, you\\'re everything I\\'ve got  \\nNow won\\'t you tell me, Jeanie Jeanie on my mind  \\n  \\nWinds blow, stars glow, I see a light in a window  \\nDark trees, soft breeze, carry my message to her please  \\n  \\nSee me sitting in the palm tree  \\nFeeling angry at the silly crowd  \\nNo-one else but you can calm me  \\nYou should know by now I\\'m far too proud  \\nI need to show you, I\\'ve got my feelings too  \\nYou shouldn\\'t treat me like you always do  \\nSo won\\'t you tell me, Jeanie Jeanie on my mind, won\\'t you please  \\nYou really love me, Jeanie Jeanie you\\'re so fine, yes you are now  \\nAnd in the evening, when the sun goes down  \\nI\\'ll be the bluest of men in this town  \\n\\'Cause I love you, Jeanie Jeanie on my mind  \\n  \\nJeanie Jeanie you\\'re so fine  \\nJeanie Jeanie on my mind  \\nJeanie Jeanie you\\'re so fine  \\nJeanie Jeanie on my mind  \\nJeanie Jeanie you\\'re so fine\\n\\n Schoolbag in hand, she leaves home in the early morning  \\nWaving goodbye with an absent-minded smile  \\nI watch her go with a surge of that well known sadness  \\nAnd I have to sit down for a while  \\nThe feeling that I\\'m losing her forever  \\nAnd without really entering her world  \\nI\\'m glad whenever I can share her laughter  \\nThat funny little girl  \\n  \\nSlipping through my fingers all the time  \\nI try to capture every minute  \\nThe feeling in it  \\n  \\nSlipping through my fingers all the time  \\nDo I really see what\\'s in her mind  \\nEach time I think I\\'m close to knowing  \\nShe keeps on growing  \\nSlipping through my fingers all the time  \\n  \\nSleep in our eyes, her and me at the breakfast table  \\nBarely awake I let precious time go by  \\nThen when she\\'s gone, there\\'s that odd melancholy feeling  \\nAnd a sense of guilt I can\\'t deny  \\nWhat happened to the wonderful adventures  \\nThe places I had planned for us to go  \\nWell, some of that we did, but most we didn\\'t  \\nAnd why, I just don\\'t know  \\n  \\nSlipping through my fingers all the time  \\nI try to capture every minute  \\nThe feeling in it  \\n  \\nSlipping through my fingers all the time  \\nDo I really see what\\'s in her mind  \\nEach time I think I\\'m close to knowing  \\nShe keeps on growing  \\nSlipping through my fingers all the time  \\n  \\nSometimes I wish that I could freeze the picture  \\nAnd save it from the funny tricks of time  \\n(Slipping through my fingers)  \\nSlipping through my fingers all the time  \\nSchoolbag in hand, she leaves home in the early morning  \\nWaving goodbye with an absent-minded smile\\n\\n You think you\\'re gonna make me sulk, you and your fancy car, ah-ha-ha  \\nBut I can tell you honey your tricks ain\\'t gonna get you far, ah-ha-ha  \\nThey say that money\\'s got a magic touch  \\nBut not to me, it doesn\\'t mean that much  \\nYou won\\'t have me tonight  \\nAll right, all right, all right, all right  \\n  \\nSo long, see you honey  \\nYou can\\'t buy me with your money  \\nChasing, dazing, driving me crazy  \\nBut I\\'ll never be your girl  \\nSo long, see you honey  \\nYou can\\'t buy me with your money  \\nYou know it\\'s not worth trying  \\nSo long, so long, so long  \\n  \\nYou didn\\'t have to send me flowers like you did today, ah-ha-ha  \\nI wouldn\\'t keep a thing from you, I gave them all away, ah-ha-ha  \\nThe girls might fall for everything you\\'ve got  \\nBut I\\'m not one of them, you know I\\'m not  \\nYou won\\'t have me tonight  \\nAll right, all right, all right, all right  \\n  \\nSo long, see you honey  \\nYou can\\'t buy me with your money  \\nChasing, dazing, driving me crazy  \\nBut I\\'ll never be your girl  \\nSo long, see you honey  \\nYou can\\'t buy me with your money  \\nYou know it\\'s not worth trying  \\nSo long, so long, so long  \\n  \\nSo long, see you honey  \\nYou can\\'t buy me with your money  \\nYou know it\\'s not worth trying  \\nSo long, so long, so long  \\nSo long, so long, so long  \\nSo long, so long, so long\\n\\n Do I hear what I think I\\'m hearing  \\nDo I see the signs I think I see  \\nOr is this just a fantasy  \\nIs it true that the beast is waking  \\nStirring in his restless sleep tonight  \\nIn the pale moonlight  \\n  \\nIn the grip of this cold December  \\nYou and I have reason to remember  \\n  \\nSoldiers write the songs that soldiers sing  \\nThe songs that you and I don\\'t sing  \\nThey blow their horns and march along  \\nThey drum their drums and look so strong  \\nYou\\'d think that nothing in the world was wrong  \\nSoldiers write the songs that soldiers sing  \\nThe songs that you and I won\\'t sing  \\nLet\\'s not look the other way  \\nTaking a chance  \\nCause if the bugler starts to play  \\nWe too must dance  \\n  \\nWhat\\'s that sound, what\\'s that dreadful rumble  \\nWon\\'t somebody tell me what I hear  \\nIn the distance, but drawing near  \\nIs it only a storm approaching  \\nAll that thunder and the blinding light  \\nIn the winter night  \\n  \\nIn the grip of this cold December  \\nYou and I have reason to remember  \\n  \\nSoldiers write the songs that soldiers sing  \\nThe songs that you and I don\\'t sing  \\nThey blow their horns and march along  \\nThey drum their drums and look so strong  \\nYou\\'d think that nothing in the world was wrong  \\nSoldiers write the songs that soldiers sing  \\nThe songs that you and I won\\'t sing  \\nLet\\'s not look the other way  \\nTaking a chance  \\nCause if the bugler starts to play  \\nWe too must dance  \\n  \\nSoldiers write the songs that soldiers sing  \\nThe songs that you and I won\\'t sing  \\nLet\\'s not look the other way  \\nTaking a chance  \\nCause if the bugler starts to play  \\nWe too must dance\\n\\n And when I see the sign that points one way  \\nThe lot we used to pass by every day  \\n  \\nJust walk away Renee  \\nYou won\\'t see me follow you back home  \\nThe empty sidewalks on my block are not the same  \\nYou\\'re not to blame  \\n  \\nFrom deep inside the tears I forced to cry  \\nFrom deep inside the pain I chose to hide  \\n  \\nJust walk away Renee  \\nYou won\\'t see me follow you back home  \\nNow as the rain beats down upon my weary eyes  \\nFor me it cries  \\n  \\nJust walk away Renee  \\nYou won\\'t see me follow you back home  \\nNow as the rain beats down upon my weary eyes  \\nFor me it cries  \\n  \\nYour name and mine inside a heart upon a wall  \\nStill find a way to haunt me  \\nThough they\\'re so small  \\n  \\nJust walk away Renee  \\nYou won\\'t see me follow you back home  \\nThe empty sidewalks on my block are not the same  \\nYou\\'re not to blame\\n\\n Summer night city  \\nSummer night city  \\n  \\nWaiting for the sunrise soul dancing in the dark  \\nSummer night city  \\nWalking in the moonlight love making in the park  \\nSummer night city  \\n  \\nIn the sun I feel like sleeping  \\nI can\\'t take it for too long  \\nMy impatience slowly creeping  \\nUp my spine and going strong  \\nI know what\\'s waiting there for me  \\nTonight I\\'m loose and fancy free  \\nAh-ah  \\n  \\nWhen the night comes with the action  \\nI just know it\\'s time to go  \\nCan\\'t resist the strange attraction  \\nFrom that giant dynamo  \\nLots to take and lots to give  \\nTime to breathe and time to live  \\n  \\nWaiting for the sunrise soul dancing in the dark  \\nSummer night city  \\nWalking in the moonlight love making in the park  \\nSummer night city  \\n  \\nIt\\'s elusive call it glitter  \\nSomehow something turns me on  \\nSome folks only see the litter  \\nWe don\\'t miss them when they\\'re gone  \\nI love the feeling in the air  \\nMy kind of people everywhere  \\nAh-ah  \\n  \\nWhen the night comes with the action  \\nI just know it\\'s time to go  \\nCan\\'t resist the strange attraction  \\nFrom this giant dynamo  \\nAnd tomorrow when it\\'s dawning  \\nAnd the first birds starts to sing  \\nIn the pale light of the morning  \\nNothing\\'s worth remembering  \\n  \\nIt\\'s a dream it\\'s out of reach  \\nScattered driftwood on the beach  \\n  \\nWaiting for the sunrise soul dancing in the dark  \\nSummer night city  \\nWalking in the moon light love making in the park  \\nSummer night city  \\n  \\nWaiting for the sunrise soul dancing in the dark  \\nSummer night city  \\nWalking in the moon light love making in the park  \\nSummer night city  \\n  \\nWaiting for the sunrise soul dancing in the dark  \\nSummer night city  \\nWalking in the moon light love making in the park  \\nSummer night city\\n\\n Suzy was nine and I was ten  \\nRight at the time when boys like to think they\\'re men  \\nShe used to follow us at school  \\nWe really thought that she was a little fool  \\nAnd one day we said to her  \\nWe don\\'t want to hurt you girl  \\nBut you\\'d better  \\n  \\nLook for a friend of your own, Suzy-hang-around  \\nBetter come back when you\\'re grown, Suzy-hang-around  \\nNobody wants you around here and that\\'s for sure  \\nSo get off our playground and stay away  \\nThat\\'s all that we\\'ve got to say  \\nSuzy-hang-around  \\n  \\nSuzy went home to Mama\\'s arms  \\nMama said \"Look, she\\'s never done you no harm  \\nSo get off her back and let her be  \\nWhy can\\'t you play together in harmony?\"  \\nWe really didn\\'t know what to say  \\nBut as soon as she went away  \\nWe laughed and said  \\n  \\nLook for a friend of your own, Suzy-hang-around  \\nBetter come back when you\\'re grown, Suzy-hang-around  \\nNobody wants you around here and that\\'s for sure  \\nSo get off our playground and stay away  \\nThat\\'s all that we\\'ve got to say  \\nSuzy-hang-around  \\n  \\nYes you\\'d better  \\nLook for a friend of your own, Suzy-hang-around  \\nBetter come back when you\\'re grown, Suzy-hang-around  \\nNobody wants you around here and that\\'s for sure  \\nSo get off our playground and stay away  \\nThat\\'s all that we\\'ve got to say  \\nSuzy-hang-around\\n\\n Suzy was nine and I was ten  \\nRight at the time when boys like to think they\\'re men  \\nShe used to follow us at school  \\nWe really thought that she was a little fool  \\nAnd one day we said to her  \\nWe don\\'t want to hurt you girl  \\nBut you\\'d better  \\nLook for a friend of your own, Suzy-hang-around  \\nBetter come back when you\\'re grown, Suzy-hang-around  \\nNobody wants you around here and that\\'s for sure  \\nSo get off our playground and stay away  \\nThat\\'s all that we\\'ve got to say  \\nSuzy-hang-around  \\nSuzy went home to Mama\\'s arms  \\nMama said\\n\\n If you change your mind, I\\'m the first in line  \\nHoney I\\'m still free  \\nTake a chance on me  \\nIf you need me, let me know, gonna be around  \\nIf you\\'ve got no place to go, if you\\'re feeling down  \\nIf you\\'re all alone when the pretty birds have flown  \\nHoney I\\'m still free  \\nTake a chance on me  \\nGonna do my very best and it ain\\'t no lie  \\nIf you put me to the test, if you let me try  \\n  \\nTake a chance on me  \\n(That\\'s all I ask of you honey)  \\nTake a chance on me  \\n  \\nWe can go dancing, we can go walking, as long as we\\'re together  \\nListen to some music, maybe just talking, get to know you better  \\n\\'Cos you know I\\'ve got  \\nSo much that I wanna do, when I dream I\\'m alone with you  \\nIt\\'s magic  \\nYou want me to leave it there, afraid of a love affair  \\nBut I think you know  \\nThat I can\\'t let go  \\n  \\nIf you change your mind, I\\'m the first in line  \\nHoney I\\'m still free  \\nTake a chance on me  \\nIf you need me, let me know, gonna be around  \\nIf you\\'ve got no place to go, if you\\'re feeling down  \\nIf you\\'re all alone when the pretty birds have flown  \\nHoney I\\'m still free  \\nTake a chance on me  \\nGonna do my very best and it ain\\'t no lie  \\nIf you put me to the test, if you let me try  \\n  \\nTake a chance on me  \\n(Come on, give me a break will you?)  \\nTake a chance on me  \\n  \\nOh you can take your time baby, I\\'m in no hurry, know I\\'m gonna get you  \\nYou don\\'t wanna hurt me, baby don\\'t worry, I ain\\'t gonna let you  \\nLet me tell you now  \\nMy love is strong enough to last when things are rough  \\nIt\\'s magic  \\nYou say that I waste my time but I can\\'t get you off my mind  \\nNo I can\\'t let go  \\n\\'Cos I love you so  \\n  \\nIf you change your mind, I\\'m the first in line  \\nHoney I\\'m still free  \\nTake a chance on me  \\nIf you need me, let me know, gonna be around  \\nIf you\\'ve got no place to go, if you\\'re feeling down  \\nIf you\\'re all alone when the pretty birds have flown  \\nHoney I\\'m still free  \\nTake a chance on me  \\nGonna do my very best, baby can\\'t you see  \\nGotta put me to the test, take a chance on me  \\n(Take a chance, take a chance, take a chance on me)  \\n  \\nBa ba ba ba baa, ba ba ba ba baa  \\nHoney I\\'m still free  \\nTake a chance on me  \\nGonna do my very best, baby can\\'t you see  \\nGotta put me to the test, take a chance on me  \\n(Take a chance, take a chance, take a chance on me)  \\n  \\nBa ba ba ba baa, ba ba ba ba baa ba-ba  \\nHoney I\\'m still free  \\nTake a chance on me  \\n\\n I\\'m nothing special, in fact I\\'m a bit of a bore  \\nIf I tell a joke, you\\'ve probably heard it before  \\nBut I have a talent, a wonderful thing  \\nCause everyone listens when I start to sing  \\nI\\'m so grateful and proud  \\nAll I want is to sing it out loud  \\n  \\nSo I say  \\nThank you for the music, the songs I\\'m singing  \\nThanks for all the joy they\\'re bringing  \\nWho can live without it, I ask in all honesty  \\nWhat would life be?  \\nWithout a song or a dance what are we?  \\nSo I say thank you for the music  \\nFor giving it to me  \\n  \\nMother says I was a dancer before I could walk  \\nShe says I began to sing long before I could talk  \\nBut I\\'ve often wondered, how did it all start?  \\nWho found out that nothing can capture a heart  \\nLike a melody can?  \\nWell, whoever it was, I\\'m a fan  \\n  \\nSo I say  \\nThank you for the music, the songs I\\'m singing  \\nThanks for all the joy they\\'re bringing  \\nWho can live without it, I ask in all honesty  \\nWhat would life be?  \\nWithout a song or a dance what are we?  \\nSo I say thank you for the music  \\nFor giving it to me  \\n  \\nI\\'ve been so lucky, I am the girl with golden hair  \\nI wanna sing it out to everybody  \\nWhat a joy, what a life, what a chance!  \\n  \\nSo I say  \\nThank you for the music, the songs I\\'m singing  \\nThanks for all the joy they\\'re bringing  \\nWho can live without it, I ask in all honesty  \\nWhat would life be?  \\nWithout a song or a dance what are we?  \\nSo I say thank you for the music  \\nFor giving it to me\\n\\n Are you sure you want to hear more  \\nWhat if I ain\\'t worth the while  \\nNot the style you\\'d be looking for  \\nIf I\\'m sweet tonight  \\nThings look different in the morning light  \\nI\\'m jealous and I\\'m proud  \\nIf you hurt my feelings I\\'ll cry out loud  \\nI\\'m Carrie not-the-kind-of-girl-you\\'d-marry  \\nThat\\'s me  \\n  \\nAre you sure you want to hear more  \\nWould I be the one you seek  \\nMild and meek like the girl next door  \\nDon\\'t you realize  \\nI may be an angel in disguise  \\nIt\\'s lonely to be free  \\nBut I\\'m not a man\\'s toy, I\\'ll never be  \\nI\\'m Carrie not-the-kind-of-girl-you\\'d-marry  \\nThat\\'s me  \\n  \\nI don\\'t believe in fairy-tales  \\nSweet nothings in my ear  \\nBut I do believe in sympathy  \\nThat\\'s me, you see  \\n  \\nAre you sure you want to hear more  \\nWon\\'t you have a drink with me  \\nJust to see you\\'re not really sore  \\nI can\\'t help my ways  \\nI\\'m just not the girl to hide my face  \\nI\\'m Carrie not-the-kind-of-girl-you\\'d-marry  \\nThat\\'s me  \\n  \\nThere\\'s a special love  \\nLike an eagle flying with a dove  \\nI\\'ll find it in the end  \\nIf I keep on searching, but until then  \\nI\\'m Carrie not-the-kind-of-girl-you\\'d-marry  \\nThat\\'s me\\n\\n I must have left my house at eight, because I always do  \\nMy train, I\\'m certain, left the station just when it was due  \\nI must have read the morning paper going into town  \\nAnd having gotten through the editorial, no doubt I must have frowned  \\nI must have made my desk around a quarter after nine  \\nWith letters to be read, and heaps of papers waiting to be signed  \\nI must have gone to lunch at half past twelve or so  \\nThe usual place, the usual bunch  \\nAnd still on top of this I\\'m pretty sure it must have rained  \\nThe day before you came  \\n  \\nI must have lit my seventh cigarette at half past two  \\nAnd at the time I never even noticed I was blue  \\nI must have kept on dragging through the business of the day  \\nWithout really knowing anything, I hid a part of me away  \\nAt five I must have left, there\\'s no exception to the rule  \\nA matter of routine, I\\'ve done it ever since I finished school  \\nThe train back home again  \\nUndoubtedly I must have read the evening paper then  \\nOh yes, I\\'m sure my life was well within its usual frame  \\nThe day before you came  \\n  \\nI must have opened my front door at eight o\\'clock or so  \\nAnd stopped along the way to buy some Chinese food to go  \\nI\\'m sure I had my dinner watching something on TV  \\nThere\\'s not, I think, a single episode of Dallas that I didn\\'t see  \\nI must have gone to bed around a quarter after ten  \\nI need a lot of sleep, and so I like to be in bed by then  \\nI must have read a while  \\nThe latest one by Marilyn French or something in that style  \\nIt\\'s funny, but I had no sense of living without aim  \\nThe day before you came  \\n  \\nAnd turning out the light  \\nI must have yawned and cuddled up for yet another night  \\nAnd rattling on the roof I must have heard the sound of rain  \\nThe day before you came\\n\\n I believe your new girl turned you down  \\nAnd they say she\\'s pushin\\' you around  \\nHow does it feel, I guess it hurts your pride  \\nTell me my friend how many nights you\\'ve cried  \\n  \\nDisaster and disgrace  \\nThe king has lost his crown  \\nSuddenly  \\nHe\\'s clumsy like a clown  \\nThe world is upside down  \\nThe king has lost his crown  \\n  \\nWas it hard to step down from your throne  \\nAnd to know tonight you\\'re all alone  \\nOh what a shame, you really want that girl  \\nShe doesn\\'t care, still you just dream of her  \\n  \\nDisaster and disgrace  \\nThe king has lost his crown  \\nSuddenly  \\nHe\\'s clumsy like a clown  \\nThe world is upside down  \\nThe king has lost his crown  \\n  \\nDisaster and disgrace  \\nThe word is all around  \\nSuddenly  \\nHe\\'s clumsy like a clown  \\nThe world is upside down  \\nThe king has lost his crown\\n\\n I\\'ve seen you twice, in a short time  \\nOnly a week since we started  \\nIt seems to me, for every time  \\nI\\'m getting more open-hearted  \\n  \\nI was an impossible case  \\nNo-one ever could reach me  \\nBut I think I can see in your face  \\nThere\\'s a lot you can teach me  \\nSo I wanna know  \\n  \\nWhat\\'s the name of the game?  \\nDoes it mean anything to you?  \\nWhat\\'s the name of the game?  \\nCan you feel it the way I do?  \\nTell me please, \\'cause I have to know  \\nI\\'m a bashful child, beginning to grow  \\n  \\nAnd you make me talk  \\nAnd you make me feel  \\nAnd you make me show  \\nWhat I\\'m trying to conceal  \\nIf I trust in you, would you let me down?  \\nWould you laugh at me, if I said I care for you?  \\nCould you feel the same way too?  \\nI wanna know  \\n  \\nThe name of the game  \\n  \\nI have no friends, no-one to see  \\nAnd I am never invited  \\nNow I am here, talking to you  \\nNo wonder I get excited  \\n  \\nYour smile, and the sound of your voice  \\nAnd the way you see through me  \\nGot a feeling, you give me no choice  \\nBut it means a lot to me  \\nSo I wanna know  \\n  \\nWhat\\'s the name of the game? (Your smile and the sound of your voice)  \\nDoes it mean anything to you? (Got a feeling you give me no choice)  \\n(But it means a lot)  \\nWhat\\'s the name of the game? (Your smile and the sound of your voice)  \\nCan you feel it the way I do?  \\nTell me please, \\'cause I have to know  \\nI\\'m a bashful child, beginning to grow  \\n  \\nAnd you make me talk  \\nAnd you make me feel  \\nAnd you make me show  \\nWhat I\\'m trying to conceal  \\nIf I trust in you, would you let me down?  \\nWould you laugh at me, if I said I care for you?  \\nCould you feel the same way too?  \\nI wanna know  \\nOh yes I wanna know  \\n  \\nThe name of the game (I was an impossible case)  \\nDoes it mean anything to you? (But I think I can see in your face)  \\n(That it means a lot)  \\nWhat\\'s the name of the game? (Your smile and the sound of your voice)  \\nCan you feel it the way I do? (Got a feeling you give me no choice)  \\n(But it means a lot)  \\nWhat\\'s the name of the game? (I was an impossible case)  \\nDoes it mean anything to you? (But I think I can see in your face)  \\n(That it means a lot)  \\n\\n They came from the hills  \\nAnd they came from the valleys and the plains  \\nThey struggled in the cold  \\nIn the heat and the snow and in the rain  \\nCame to hear him play  \\nPlay their minds away  \\n  \\nWe\\'re all following a strange melody  \\nWe\\'re all summoned by a tune  \\nWe\\'re following the piper  \\nAnd we dance beneath the moon  \\nWe\\'re following the piper  \\nAnd we dance beneath the moon for him  \\nAnd we dance beneath the moon  \\nSub luna saltamus  \\n  \\nThey came from the south  \\nFrom the west and the north and from the east  \\nThey waited for the man  \\nLike a parish is waiting for the priest  \\nLonged to hear him play  \\nPlay their minds away  \\n  \\nWe\\'re all following a strange melody  \\nWe\\'re all summoned by a tune  \\nWe\\'re following the piper  \\nAnd we dance beneath the moon  \\nWe\\'re following the piper  \\nAnd we dance beneath the moon for him  \\nAnd we dance beneath the moon  \\nSub luna saltamus  \\n  \\nHe gave them a dream  \\nHe seduced everybody in the land  \\nThe fire in his eyes  \\nAnd the fear was a weapon in his hand  \\nSo they let him play  \\nPlay their minds away  \\n  \\nWe\\'re all following a strange melody  \\nWe\\'re all summoned by a tune  \\nWe\\'re following the piper  \\nAnd we dance beneath the moon  \\nWe\\'re following the piper  \\nAnd we dance beneath the moon for him  \\nAnd we dance beneath the moon  \\n  \\nAnd we dance beneath the moon\\n\\n I hear the doorbell ring and suddenly the panic takes me  \\nThe sound so ominously tearing through the silence  \\nI cannot move, I\\'m standing  \\nNumb and frozen  \\nAmong the things I love so dearly  \\nThe books, the paintings and the furniture  \\nHelp me  \\n  \\nThe signal\\'s sounding once again and someone tries the door-knob  \\nNone of my friends would be so stupidly impatient  \\nAnd they don\\'t dare to come here  \\nAnymore now  \\nBut how I loved our secret meetings  \\nWe talked and talked in quiet voices  \\nSmiling  \\n  \\nNow I hear them moving  \\nMuffled noises coming through the door  \\nI feel I\\'m  \\nCrackin\\' up  \\nVoices growing louder, irritation building  \\nAnd I\\'m close to fainting  \\nCrackin\\' up  \\nThey must know by now I\\'m in here trembling  \\nIn a terror evergrowing  \\nCrackin\\' up  \\nMy whole world is falling, going crazy  \\nThere is no escaping now, I\\'m  \\nCrackin\\' up  \\n  \\nThese walls have witnessed all the anguish of humiliation  \\nAnd seen the hope of freedom glow in shining faces  \\nAnd now they\\'ve come to take me  \\nCome to break me  \\nAnd yet it isn\\'t unexpected  \\nI have been waiting for these visitors  \\nHelp me  \\n  \\nNow I hear them moving  \\nMuffled noises coming through the door  \\nI feel I\\'m  \\nCrackin\\' up  \\nVoices growing louder, irritation building  \\nAnd I\\'m close to fainting  \\nCrackin\\' up  \\nThey must know by now I\\'m in here trembling  \\nIn a terror evergrowing  \\nCrackin\\' up  \\nMy whole world is falling, going crazy  \\nThere is no escaping now, I\\'m  \\nCrackin\\' up  \\n  \\nNow I hear them moving  \\nMuffled noises coming through the door  \\nI feel I\\'m  \\nCrackin\\' up  \\nVoices growing louder, irritation building  \\nAnd I\\'m close to fainting  \\n  \\nCrackin\\' up (I have been waiting for these visitors)  \\nThey must know by now I\\'m in here trembling  \\nIn a terror evergrowing  \\n  \\nCrackin\\' up (I have been waiting for these visitors)  \\nMy whole world is falling, going crazy  \\nThere is no escaping now, I\\'m  \\n  \\nCrackin\\' up (I have been waiting for these visitors)  \\nNow I hear them moving  \\nMuffled noises coming through the door  \\nI feel I\\'m  \\n  \\nCrackin\\' up (I have been waiting for these visitors)  \\nVoices growing louder, irritation building  \\nAnd I\\'m close to fainting  \\n  \\nCrackin\\' up (I have been waiting for these visitors)  \\nThey must know by now I\\'m in here trembling  \\nIn a terror ever growing  \\n  \\nCrackin\\' up (I have been waiting for these visitors)  \\nMy whole world is falling, going crazy  \\nThere is no escaping now, I\\'m  \\nCrackin\\' up\\n\\n You and I can share the silence  \\nFinding comfort together  \\nThe way old friends do  \\n  \\nAnd after fights and words of violence  \\nWe make up with each other  \\nThe way old friends do  \\n  \\nTimes of joy and times of sorrow  \\nWe will always see it through  \\nOh, I don\\'t care what comes tomorrow  \\nWe can face it together  \\nThe way old friends do  \\n  \\nYou and I can share the silence  \\nFinding comfort together  \\nThe way old friends do  \\n  \\nAnd after fights and words of violence  \\nWe make up with each other  \\nThe way old friends do  \\n  \\nTimes of joy and times of sorrow  \\nWe will always see it through  \\nOh I don\\'t care what comes tomorrow  \\nWe can face it together  \\nThe way old friends do  \\n  \\nWe can face it together  \\nThe way old friends do\\n\\n I don\\'t want to talk  \\nAbout the things we\\'ve gone through  \\nThough it\\'s hurting me  \\nNow it\\'s history  \\nI\\'ve played all my cards  \\nAnd that\\'s what you\\'ve done too  \\nNothing more to say  \\nNo more ace to play  \\n  \\nThe winner takes it all  \\nThe loser standing small  \\nBeside the victory  \\nThat\\'s my destiny  \\n  \\nI was in your arms  \\nThinking I belonged there  \\nI figured it made sense  \\nBuilding me a fence  \\nBuilding me a home  \\nThinking I\\'d be strong there  \\nBut I was a fool  \\nPlaying by the rules  \\n  \\nThe gods may throw a dice  \\nTheir minds as cold as ice  \\nAnd someone way down here  \\nLoses someone dear  \\nThe winner takes it all  \\nThe loser has to fall  \\nIt\\'s simple and it\\'s plain  \\nWhy should I complain.  \\n  \\nBut tell me does she kiss  \\nLike I used to kiss you?  \\nDoes it feel the same  \\nWhen she calls your name?  \\nSomewhere deep inside  \\nYou must know I miss you  \\nBut what can I say  \\nRules must be obeyed  \\n  \\nThe judges will decide  \\nThe likes of me abide  \\nSpectators of the show  \\nAlways staying low  \\nThe game is on again  \\nA lover or a friend  \\nA big thing or a small  \\nThe winner takes it all  \\n  \\nI don\\'t want to talk  \\nIf it makes you feel sad  \\nAnd I understand  \\nYou\\'ve come to shake my hand  \\nI apologize  \\nIf it makes you feel bad  \\nSeeing me so tense  \\nNo self-confidence  \\nBut you see  \\nThe winner takes it all  \\nThe winner takes it all\\n\\n The city is a jungle, you better take care  \\nNever walk alone after midnight  \\nIf you don\\'t believe it you better beware  \\nOf me  \\n  \\nI am behind you, I\\'ll always find you, I am the tiger  \\nPeople who fear me never go near me, I am the tiger  \\n  \\nThe city is a nightmare, a horrible dream  \\nSome of us will dream it forever  \\nLook around the corner and try not to scream  \\nIt\\'s me  \\n  \\nI am behind you, I\\'ll always find you, I am the tiger  \\nPeople who fear me never go near me, I am the tiger  \\n  \\nYellow eyes are glowing like the neon lights  \\nYellow eyes, the spotlight of the city nights  \\n  \\nI am behind you, I\\'ll always find you, I am the tiger  \\nPeople who fear me never go near me, I am the tiger  \\n  \\nThe city is a prison, you never escape  \\nYou\\'re forever trapped in the alleys  \\nLook into the shadows and you\\'ll see the shape  \\nOf me  \\n  \\nI am behind you, I\\'ll always find you, I am the tiger  \\nPeople who fear me never go near me, I am the tiger  \\nYellow eyes are glowing like the neon lights  \\nYellow eyes, the spotlight of the city nights  \\nI am behind you, I\\'ll always find you, I am the tiger  \\nPeople who fear me never go near me, I am the tiger  \\nAnd if I meet you, what if I eat you, I am the tiger  \\nI am behind you, I\\'ll always find you, I am the tiger  \\nTiger  \\nTiger  \\nTiger\\n\\n Come to my loveland, wander along  \\nBeautiful gardens full of flowers and songs  \\nCome to the sunshine, beaches and sand  \\nHere\\'s the two bluebirds, won\\'t you come to my land  \\n  \\nThe grass is mellow and the sky is blue  \\nMy paradise is waiting here for you  \\n  \\nOh, it\\'s a tropical loveland  \\nOh, I want to share it with you  \\nLife can be funny  \\nHappy and sunny  \\nOh, in my tropical loveland  \\n  \\nCome to my loveland, wander with me  \\nLie with me darling in the shade of a tree  \\nOver the rainbow, under the moon  \\nThat\\'s where my land is, won\\'t you come to me soon?  \\n  \\nJust take my hand, I\\'ll show you everything  \\nThe secrets that my paradise can bring  \\n  \\nOh, it\\'s a tropical loveland  \\nOh, I want to share it with you  \\nLife can be funny  \\nHappy and sunny  \\nOh, in my tropical loveland  \\n  \\nOh, it\\'s a tropical loveland  \\nOh, I want to share it with you  \\n(I want to share it with you)  \\nOh, it\\'s a tropical loveland  \\n(It\\'s a tropical loveland)  \\nOh, I want to share it with you  \\nOh, it\\'s a tropical loveland  \\nOh, I want to share it with you\\n\\n He had what you might call a trivial occupation  \\nHe cleaned the platforms of the local railway station  \\nWith no romance in his life  \\nSometimes he wished he had a wife  \\nHe read the matrimonial advertising pages  \\nThe cries for help from different people, different ages  \\nBut they had nothing to say  \\nAt least not until the day  \\nWhen something special he read  \\nThis is what it said  \\n  \\nIf you dream of the girl for you  \\nThen call us and get two for the price of one  \\nWe\\'re the answer if you feel blue  \\nSo call us and get two for the price of one  \\nIf you dream of the girl for you  \\nThen call us and get two for the price of one  \\nWe\\'re the answer if you feel blue  \\nSo call us and get two for the price of one  \\n  \\nHe called the number and a voice said: \"Alice Whiting\"  \\nThe voice was husky and it sounded quite exciting  \\nHe was amazed at his luck  \\nThe purest streak of gold he\\'d struck  \\nHe said: \"I read your ad, it sounded rather thrilling  \\nI think a meeting could be mutually fulfilling  \\nWhy don\\'t we meet for a chat  \\nThe three of us in my flat\"  \\nI can\\'t forget what I read  \\nThis is what it said  \\n  \\nIf you dream of the girl for you  \\nThen call us and get two for the price of one  \\nWe\\'re the answer if you feel blue  \\nSo call us and get two for the price of one  \\nIf you dream of the girl for you  \\nThen call us and get two for the price of one  \\nWe\\'re the answer if you feel blue  \\nSo call us and get two for the price of one  \\n  \\nShe said: \"I\\'m sure we must be perfect for each other  \\nAnd if you doubt it, you\\'ll be certain when you meet my mother\"\\n\\n Don\\'t know how to take it, don\\'t know where to go  \\nMy resistance running low  \\nAnd every day the hold is getting tighter and it troubles me so  \\n(You know that I\\'m nobody\\'s fool)  \\nI\\'m nobody\\'s fool and yet it\\'s clear to me  \\nI don\\'t have a strategy  \\nIt\\'s just like taking candy from a baby and I think I must be  \\n  \\nUnder attack, I\\'m being taken  \\nAbout to crack, defenses breaking  \\nWon\\'t somebody please have a heart  \\nCome and rescue now \\'cause I\\'m falling apart  \\nUnder attack, I\\'m taking cover  \\nHe\\'s on my track, my chasing lover  \\nThinking nothing can stop him now  \\nBut I want to know, should I want to, I\\'m not sure  \\n  \\nThis is getting crazy, I should tell him so  \\nReally let my anger show  \\nPersuade him that the answer to his questions is a definite \"no\"  \\n(I\\'m kind of certain that\\'s the truth)  \\nGuess I\\'m kind of flattered but I\\'m scared as well  \\nSomething like a magic spell  \\nI hardly dare to think of what could happen, where I\\'d be if I fell  \\n  \\nUnder attack, I\\'m being taken  \\nAbout to crack, defenses breaking  \\nWon\\'t somebody please have a heart  \\nCome and rescue now \\'cause I\\'m falling apart  \\nUnder attack, I\\'m taking cover  \\nHe\\'s on my track, my chasing lover  \\nThinking nothing can stop him now  \\nShould I want to, I\\'m not sure, I would know how  \\n  \\nUnder attack, I\\'m being taken  \\nAbout to crack, defenses breaking  \\nWon\\'t somebody please have a heart  \\nCome and rescue now \\'cause I\\'m falling apart  \\nUnder attack, I\\'m taking cover  \\nHe\\'s on my track, my chasing lover  \\nThinking nothing can stop him now  \\nShould I want to, I\\'m not sure, I would know how\\n\\n People everywhere  \\nA sense of expectation hanging in the air  \\nGiving out a spark  \\nAcross the room your eyes are glowing in the dark  \\nAnd here we go again, we know the start, we know the end  \\nMasters of the scene  \\nWe\\'ve done it all before and now we\\'re back to get some more  \\nYou know what I mean  \\n  \\nVoulez-vous (ah-ha)  \\nTake it now or leave it (ah-ha)  \\nNow is all we get (ah-ha)  \\nNothing promised, no regrets  \\nVoulez-vous (ah-ha)  \\nAin\\'t no big decision (ah-ha)  \\nYou know what to do (ah-ha)  \\nLa question c\\'est voulez-vous  \\nVoulez-vous  \\n  \\nI know what you think  \\n\"The girl means business so I\\'ll offer her a drink\"  \\nLooking mighty proud  \\nI see you leave your table, pushing through the crowd  \\nI\\'m really glad you came, you know the rules, you know the game  \\nMaster of the scene  \\nWe\\'ve done it all before and now we\\'re back to get some more  \\nYou know what I mean  \\n  \\nVoulez-vous (ah-ha)  \\nTake it now or leave it (ah-ha)  \\nNow is all we get (ah-ha)  \\nNothing promised, no regrets  \\nVoulez-vous (ah-ha)  \\nAin\\'t no big decision (ah-ha)  \\nYou know what to do (ah-ha)  \\nLa question c\\'est voulez-vous  \\n  \\nAnd here we go again, we know the start, we know the end  \\nMasters of the scene  \\nWe\\'ve done it all before and now we\\'re back to get some more  \\nYou know what I mean  \\n  \\nVoulez-vous (ah-ha)  \\nTake it now or leave it (ah-ha)  \\nNow is all we get (ah-ha)  \\nNothing promised, no regrets  \\nVoulez-vous (ah-ha)  \\nAin\\'t no big decision (ah-ha)  \\nYou know what to do (ah-ha)  \\nLa question c\\'est voulez-vous  \\nVoulez-vous  \\n  \\nVoulez-vous (ah-ha)  \\nTake it now or leave it (ah-ha)  \\nNow is all we get (ah-ha)  \\nNothing promised, no regrets  \\nVoulez-vous (ah-ha)  \\nAin\\'t no big decision (ah-ha)  \\nYou know what to do (ah-ha)  \\nI can still say voulez-vous  \\n  \\nVoulez-vous (ah-ha, ah-ha, ah-ha)  \\nVoulez-vous (ah-ha, ah-ha, ah-ha)  \\nVoulez-vous (ah-ha, ah-ha, ah-ha)  \\nVoulez-vous (ah-ha, ah-ha, ah-ha)  \\n  \\nVoulez-vous (ah-ha)  \\nTake it now or leave it (ah-ha)  \\nNow is all we get (ah-ha)  \\nNothing promised, no regrets  \\nVoulez-vous (ah-ha)  \\nAin\\'t no big decision (ah-ha)  \\nYou know what to do (ah-ha)  \\nI can still say voulez-vous\\n\\n You move like a flame of fire  \\nYour eyes like a flash of lightning  \\nYou lie since you\\'re cold inside  \\nAnd I\\'m gonna tame you, wild thing  \\nYou\\'d better watch out  \\nI said you\\'d better watch out  \\nWatch out  \\nAnywhere you go I\\'ll find you  \\nWatch out  \\nI\\'ll be staying close behind you  \\nAnd I\\'ve tired of waiting (Oh-a-la-la)  \\nYes it\\'s driving me crazy (Oh-a-la-la-la)  \\nAnd my patience is fading (Oh-a-la-la)  \\nOh, you\\'d better watch out  \\nI said you\\'d better watch out  \\n  \\nYou speak and you\\'re funny lately  \\nYou act like I was a stranger  \\nI think you\\'re beginning to hate me  \\nBut then you\\'re a girl in danger  \\n  \\nYou\\'d better watch out  \\nOoh, I said you\\'d better watch out  \\nWatch out  \\nAnywhere you go I\\'ll find you  \\nWatch out  \\nI\\'ll be staying close behind you  \\nAnd I\\'ve tired of waiting (Oh-a-la-la)  \\nYes it\\'s driving me crazy (Oh-a-la-la-la)  \\nAnd my patience is fading (Oh-a-la-la)  \\nSo you\\'d better watch out  \\nYes I said you\\'d better watch out  \\nWatch out  \\nWatch out  \\n  \\nAnd I\\'ve tired of waiting (Oh-a-la-la)  \\nYes it\\'s driving me crazy (Oh-a-la-la-la)  \\nAnd my patience is fading (Oh-a-la-la)  \\nI said you\\'d better watch out  \\nOh girl you\\'d better watch out  \\nAh, you\\'d better watch out  \\nOh, ah, you\\'d better watch out\\n\\n My my  \\nAt Waterloo Napoleon did surrender  \\nOh yeah  \\nAnd I have met my destiny in quite a similiar way  \\nThe history book on the shelf  \\nIs always repeating itself  \\nWaterloo - I was defeated, you won the war  \\nWaterloo - Promise to love you for ever more  \\nWaterloo - Couldn\\'t escape if I wanted to  \\nWaterloo - Knowing my fate is to be with you  \\nWaterloo - Finally facing my Waterloo  \\n  \\nMy my  \\nI tried to hold you back, but you were stronger  \\nOh yeah  \\nAnd now it seems my only chance is giving up the fight  \\nAnd how could I ever refuse  \\nI feel like I win when I lose  \\nWaterloo - I was defeated, you won the war  \\nWaterloo - Promise to love you for ever more  \\nWaterloo - Couldn\\'t escape if I wanted to  \\nWaterloo - Knowing my fate is to be with you  \\nWaterloo - Finally facing my Waterloo  \\n  \\nSo how could I ever refuse  \\nI feel like I win when I lose  \\nWaterloo - I was defeated, you won the war  \\nWaterloo - Promise to love you for ever more  \\nWaterloo - Couldn\\'t escape if I wanted to  \\nWaterloo - Knowing my fate is to be with you  \\nWaterloo - Finally facing my Waterloo\\n\\n We wish you a merry Christmas  \\nWe wish you a merry Christmas  \\nWe wish you a merry Christmas  \\nAnd a happy New Year  \\nGlad tidings we bring  \\nTo you and your kin  \\nGlad tidings for Christmas  \\nAnd a happy New Year  \\n  \\nWe want some milk and cookies  \\nWe want some milk and cookies  \\nWe want some milk and cookies  \\nPlease bring it right here  \\nGlad tidings we bring  \\nTo you and your kin  \\nGlad tidings for Christmas  \\nAnd a happy New Year  \\n  \\nWe won\\'t go until we get some  \\nWe won\\'t go until we get some  \\nWe won\\'t go until we get some  \\nSo bring it out here  \\nGlad tidings we bring  \\nTo you and your kin  \\nGlad tidings for Christmas  \\nAnd a happy New Year  \\n  \\nWe wish you a Merry Christmas  \\nWe wish you a Merry Christmas  \\nWe wish you a Merry Christmas  \\nAnd a happy New Year  \\nGlad tidings we bring  \\nTo you and your kin  \\nGlad tidings for Christmas  \\nAnd a happy New Year\\n\\n Went to buy me a paper at the local news-stand  \\nAnd then I heard them laugh and say  \\nLook, they\\'re gonna go flying way up to the moon now  \\nHey, what\\'s it good for anyway?  \\nSo I said  \\nFellas, like to ask you a thing if I may  \\n  \\nWhat about Livingstone?  \\nWhat about all those men?  \\nWho have sacrificed their lives to lead the way  \\nTell me, wasn\\'t it worth the while  \\nTraveling up the Nile  \\nPutting themselves on test  \\nDidn\\'t that help the rest?  \\nWasn\\'t it worth it then?  \\nWhat about Livingstone?  \\n  \\nAnd all of those fellas at the local news-stand  \\nDidn\\'t know what to answer or what to say  \\nSo I told them about him, that he was just like  \\nOne of those spacemen in his way  \\nAnd if you laugh at them  \\nThen there\\'s only a thing I can say  \\n  \\nWhat about Livingstone?  \\nWhat about all those men?  \\nWho have sacrificed their lives to lead the way  \\nTell me, wasn\\'t it worth the while  \\nTraveling up the Nile  \\nPutting themselves on test  \\nDidn\\'t that help the rest?  \\nWasn\\'t it worth it then?  \\n  \\nWhat about Livingstone?  \\n(Didn\\'t he do it, well didn\\'t he?)  \\nWhat about all those men?  \\n(Didn\\'t he do it, well didn\\'t he?)  \\nWho have sacrificed their lives to lead the way  \\nTell me, wasn\\'t it worth the while  \\n(Didn\\'t he do it, well didn\\'t he?)  \\nTraveling up the Nile  \\n(Didn\\'t he do it?)  \\nPutting themselves on test  \\nDidn\\'t that help the rest?  \\n(Didn\\'t that help them? Well, didn\\'t it?)  \\nWasn\\'t it worth it then?  \\nWhat about Livingstone?  \\n(Didn\\'t he do it, well didn\\'t he?)  \\nWhat about all those men?  \\n(Didn\\'t he do it, well didn\\'t he?)\\n\\n Here\\'s to us one more toast and then we\\'ll pay the bill  \\nDeep inside both of us can feel the autumn chill  \\nBirds of passage, you and me  \\nWe fly instinctively  \\nWhen the summer\\'s over and the dark clouds hide the sun  \\nNeither you nor I\\'m to blame when all is said and done  \\n  \\nIn our lives we have walked some strange and lonely treks  \\nSlightly worn but dignified and not too old for sex  \\nWe\\'re still striving for the sky  \\nNo taste for humble pie  \\nThanks for all your generous love and thanks for all the fun  \\nNeither you nor I\\'m to blame when all is said and done  \\n  \\nIt\\'s so strange when you\\'re down and lying on the floor  \\nHow you rise, shake your head, get up and ask for more  \\nClear-headed and open-eyed  \\nWith nothing left untried  \\nStanding calmly at the crossroads,no desire to run  \\nThere\\'s no hurry any more when all is said and done  \\n  \\nStanding calmly at the crossroads,no desire to run  \\nThere\\'s no hurry any more when all is said and done\\n\\n Everybody screamed when I kissed the teacher  \\nAnd they must have thought they dreamed when I kissed the teacher  \\nAll my friends at school  \\nThey had never seen the teacher blush, he looked like a fool  \\nNearly petrified \\'cause he was taken by surprise  \\nWhen I kissed the teacher  \\nCouldn\\'t quite believe his eyes, when I kissed the teacher  \\nMy whole class went wild  \\nAs I held my breath, the world stood still, but then he just smiled  \\nI was in the seventh heaven when I kissed the teacher  \\n  \\nOne of these days  \\nGonna tell him I dream of him every night  \\nOne of these days  \\nGonna show him I care, gonna teach him a lesson alright  \\n  \\nI was in a trance when I kissed the teacher  \\nSuddenly I took the chance when I kissed the teacher  \\nLeaning over me, he was trying to explain the laws of geometry  \\nAnd I couldn\\'t help it, I just had to kiss the teacher  \\n  \\nOne of these days  \\nGonna tell him I dream of him every night  \\nOne of these days  \\nGonna show him I care, gonna teach him a lesson alright  \\n  \\nWhat a crazy day, when I kissed the teacher  \\nAll my sense had flown away when I kissed the teacher  \\nMy whole class went wild  \\nAs I held my breath, the world stood still, but then he just smiled  \\nI was in the seventh heaven when I kissed the teacher  \\n(I want to hug, hug, hug him)  \\nWhen I kissed the teacher  \\n(I want to hug, hug him)  \\nWhen I kissed the teacher  \\n(I want to hug, hug, hug him)  \\nWhen I kissed the teacher  \\n(I want to hug, hug him)  \\nWhen I kissed the teacher  \\n(I want to hug, hug, hug him)\\n\\n When you were lonely, you needed a man  \\nSomeone to lean on, well I understand  \\nIt\\'s only natural  \\nBut why did it have to be me?  \\nNights can be empty, nights can be cold  \\nSo you were looking for someone to hold  \\nThat\\'s only natural  \\nBut why did it have to be me?  \\n  \\nI was so lonesome, I was blue  \\nI couldn\\'t help it, it had to be you and I  \\nAlways thought you knew the reason why  \\nI only wanted a little love affair  \\nNow I can see you are beginning to care  \\nBut baby, believe me  \\nIt\\'s better to forget me  \\n  \\nMen are toys in the game that you play  \\nWhen you get tired, you throw them away  \\nThat\\'s only natural  \\nBut why did it have to be me?  \\nFalling in love with a woman like you  \\nHappens so quickly, there\\'s nothing to do  \\nIt\\'s only natural  \\nBut why did it have to be me?  \\n  \\nI was so lonesome, I was blue  \\nI couldn\\'t help it, it had to be you and I  \\nAlways thought you knew the reason why  \\nI only wanted a little love affair  \\nNow I can see you are beginning to care  \\nBut baby, believe me  \\nIt\\'s better to forget me.\\n\\n Frida Now there\\'s a shadow falling over our faces  \\nDoubt forever in our hearts  \\nAnd in a while we\\'ll start to pick up the traces  \\nWe won\\'t find the missing parts  \\n  \\nBuy me a ticket, I\\'ll go to the Bahamas  \\nI need a rest from our petty little dramas  \\nYes I really do  \\nAgnetha, Frida Aha, mm  \\n  \\nNow look what you\\'ve done  \\nI\\'m missing all the fun  \\nBaby you owe me one  \\nAha, mm  \\n  \\nIt\\'s my turn to run  \\nA chance to feel the sun  \\nBaby you owe me one  \\nFrida I wasn\\'t ready for this kind of intrusion  \\n  \\nI was taken by surprise  \\nNow both of us are in a state of confusion  \\nHesitation in our eyes  \\nSomething unwanted has entered our existence  \\n  \\nI think it\\'s better to view it from a distance  \\nYes I really do  \\nAgnetha, Frida Aha, mm  \\nNow look what you\\'ve done  \\n  \\nI\\'m missing all the fun  \\nBaby you owe me one  \\nAha, mm  \\nIt\\'s my turn to run  \\n  \\nA chance to feel the sun  \\nBaby you owe me one  \\nAha, mm  \\nNow look what you\\'ve done  \\n  \\nI\\'m missing all the fun  \\nBaby you owe me one  \\nAha, mm  \\nIt\\'s my turn to run  \\n  \\nA chance to feel the sun  \\nBaby you owe me one  \\nAha, mm  \\nNow look what you\\'ve done  \\n  \\nI\\'m missing all the fun  \\nBaby you owe me one  \\nAha, mm  \\nIt\\'s my turn to run  \\n  \\nA chance to feel the sun  \\nBaby you owe me one  \\nAha, mm  \\nNow look what you\\'ve done  \\n  \\nI\\'m missing all the fun  \\nBaby you owe me one  \\nAha, mm  \\nIt\\'s my turn to run  \\n  \\nA chance to feel the sun  \\nBaby you owe me one  \\nAha, mm  \\nNow look what you\\'ve done  \\n  \\nI\\'m missing all the fun  \\nBaby you owe me one  \\nAha\\n\\n'"
      ]
     },
     "execution_count": 30,
     "metadata": {},
     "output_type": "execute_result"
    }
   ],
   "source": [
    "artistdata.loc['ABBA']['text']"
   ]
  },
  {
   "cell_type": "code",
   "execution_count": 16,
   "metadata": {},
   "outputs": [],
   "source": [
    "#import tensorflow_hub as hub\n",
    "#embed = hub.load(\"https://tfhub.dev/google/tf2-preview/nnlm-en-dim50/1\")"
   ]
  },
  {
   "cell_type": "code",
   "execution_count": 31,
   "metadata": {},
   "outputs": [],
   "source": [
    "lyricslist_artist = list(artistdata['text'])"
   ]
  },
  {
   "cell_type": "code",
   "execution_count": 32,
   "metadata": {},
   "outputs": [],
   "source": [
    "artist_embeddings = embed(lyricslist_artist)"
   ]
  },
  {
   "cell_type": "code",
   "execution_count": 33,
   "metadata": {},
   "outputs": [
    {
     "data": {
      "text/plain": [
       "643"
      ]
     },
     "execution_count": 33,
     "metadata": {},
     "output_type": "execute_result"
    }
   ],
   "source": [
    "len(artist_embeddings)"
   ]
  },
  {
   "cell_type": "code",
   "execution_count": 34,
   "metadata": {},
   "outputs": [],
   "source": [
    "pickle.dump(artist_embeddings, open('../models/artist_embeddings.pkl', 'wb'))"
   ]
  },
  {
   "cell_type": "code",
   "execution_count": 36,
   "metadata": {
    "scrolled": true
   },
   "outputs": [
    {
     "name": "stdout",
     "output_type": "stream",
     "text": [
      "Artist Recommendations\n",
      "\n",
      "\n",
      "======================\n",
      "\n",
      "\n",
      "Query: Metallica\n",
      "\n",
      "Top 10 most similar artists:\n",
      "Alice In Chains (Similarity Score: 0.9947)\n",
      "Radiohead (Similarity Score: 0.9916)\n",
      "INXS (Similarity Score: 0.9910)\n",
      "U2 (Similarity Score: 0.9910)\n",
      "Judas Priest (Similarity Score: 0.9909)\n",
      "Rainbow (Similarity Score: 0.9905)\n",
      "Marilyn Manson (Similarity Score: 0.9904)\n",
      "Alice Cooper (Similarity Score: 0.9902)\n",
      "Extreme (Similarity Score: 0.9901)\n",
      "Misfits (Similarity Score: 0.9899)\n"
     ]
    }
   ],
   "source": [
    "import scipy\n",
    "artist='Metallica'\n",
    "\n",
    "query = artistdata.loc[artist]['text']\n",
    "\n",
    "queries = [query]\n",
    "query_embeddings = embed(queries)\n",
    "\n",
    "number_top_matches = 10\n",
    "\n",
    "print(\"Artist Recommendations\")\n",
    "\n",
    "for query, query_embedding in zip(queries, query_embeddings):\n",
    "    distances = scipy.spatial.distance.cdist([query_embedding], artist_embeddings, \"cosine\")[0]\n",
    "\n",
    "    results = zip(range(len(distances)), distances)\n",
    "    results = sorted(results, key=lambda x: x[1])\n",
    "\n",
    "    print(\"\\n\\n======================\\n\\n\")\n",
    "    print(\"Query:\", artist)\n",
    "    print(f\"\\nTop {number_top_matches} most similar artists:\")\n",
    "\n",
    "    for idx, distance in results[1:number_top_matches+1]:\n",
    "        print(artistdata.iloc[idx].name, \"(Similarity Score: %.4f)\" % (1-distance))"
   ]
  },
  {
   "cell_type": "code",
   "execution_count": 37,
   "metadata": {},
   "outputs": [
    {
     "data": {
      "text/html": [
       "<div>\n",
       "<style scoped>\n",
       "    .dataframe tbody tr th:only-of-type {\n",
       "        vertical-align: middle;\n",
       "    }\n",
       "\n",
       "    .dataframe tbody tr th {\n",
       "        vertical-align: top;\n",
       "    }\n",
       "\n",
       "    .dataframe thead th {\n",
       "        text-align: right;\n",
       "    }\n",
       "</style>\n",
       "<table border=\"1\" class=\"dataframe\">\n",
       "  <thead>\n",
       "    <tr style=\"text-align: right;\">\n",
       "      <th></th>\n",
       "      <th>text</th>\n",
       "    </tr>\n",
       "    <tr>\n",
       "      <th>artist</th>\n",
       "      <th></th>\n",
       "    </tr>\n",
       "  </thead>\n",
       "  <tbody>\n",
       "    <tr>\n",
       "      <th>Taylor Swift</th>\n",
       "      <td>You have a way of coming easily to me  \\nAnd w...</td>\n",
       "    </tr>\n",
       "  </tbody>\n",
       "</table>\n",
       "</div>"
      ],
      "text/plain": [
       "                                                           text\n",
       "artist                                                         \n",
       "Taylor Swift  You have a way of coming easily to me  \\nAnd w..."
      ]
     },
     "execution_count": 37,
     "metadata": {},
     "output_type": "execute_result"
    }
   ],
   "source": [
    "# Artist lookup\n",
    "artistdata[artistdata.index.str.contains('swift', case=False)]"
   ]
  },
  {
   "cell_type": "markdown",
   "metadata": {},
   "source": [
    "## Next steps\n",
    "### We have a simple model to recommend songs or artists based on similar lyrics, but how can we improve it?\n",
    "1. Can try other kinds of word embeddings.\n",
    "2. Engineer other features like genre, sentiment\n",
    "3. Can use a larger dataset of songs and artists, this is quite limited"
   ]
  }
 ],
 "metadata": {
  "kernelspec": {
   "display_name": "Python 3",
   "language": "python",
   "name": "python3"
  },
  "language_info": {
   "codemirror_mode": {
    "name": "ipython",
    "version": 3
   },
   "file_extension": ".py",
   "mimetype": "text/x-python",
   "name": "python",
   "nbconvert_exporter": "python",
   "pygments_lexer": "ipython3",
   "version": "3.7.6"
  }
 },
 "nbformat": 4,
 "nbformat_minor": 2
}
